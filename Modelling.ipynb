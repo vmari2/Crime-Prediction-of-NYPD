{
 "cells": [
  {
   "cell_type": "markdown",
   "metadata": {},
   "source": [
    "# Business Problem"
   ]
  },
  {
   "cell_type": "markdown",
   "metadata": {},
   "source": [
    "Problem Context\n",
    "Predict the number of offenses for a given precinct within the next three months,based on historical crime data of the New York Police Department (NYPD) by using Negative Binomial Regression"
   ]
  },
  {
   "cell_type": "markdown",
   "metadata": {},
   "source": [
    "Content\n",
    "The dataset covers the data of all crimes reported to the New York Police Department from 2006 to the end of last year i.e.,2019. This is a large dataset consisting of 6.98 million records with 35 attributes.Given, the large size, we could filter data to a more manageable size and per our project requirement."
   ]
  },
  {
   "cell_type": "markdown",
   "metadata": {},
   "source": [
    "####Features#####\n",
    "\n",
    "\t#cmplnt_num        - randomly generated complaint number              \n",
    "\t#cmplnt_fr_dt      - exact date of crime occurance         \n",
    "\t#cmplnt_fr_tm      - exact time of crime occurance          \n",
    "\t#addr_pct_cd       - precinct in which the incident occured                  \n",
    "\t#ofns_desc         - Offense description                           \n",
    "\t#crm_atpt_cptd_cd  - Indicator of whether crime was successfully completed or attempted    \n",
    "\t#law_cat_cd        - Level of offense: felony, misdemeanor, violation     \n",
    "\t#boro_nm           - The name of the borough in which the incident occurred       \n",
    "\t#loc_of_occur_desc - Location of crime occurence      \n",
    "\t#prem_typ_desc     - Description of premises    \n",
    "\t#juris_desc        - Description of jurisdiction code   \n",
    "\t#jurisdiction_code - Jurisdiction responsible for incident.   \n",
    "\t#susp_age_group    - Suspect’s Age Group   \n",
    "\t#susp_race         - Suspect’s Race Description    \n",
    "\t#susp_sex          - Suspect’s Sex Description    \n",
    "\t#patrol_boro       - Name of the patrol borough in which crime occurred   \n",
    "\t#vic_age_group     - Victim’s Age Group      \n",
    "\t#vic_race          - Victim's Race Description    \n",
    "\t#vic_sex           - Victim's Sex Description      \n",
    "\t#cmplnt_to_dt      - End Date of Crime Occurence  \n",
    "\t#cmplnt_to_tm      - End Time of Crime Occurence"
   ]
  },
  {
   "cell_type": "code",
   "execution_count": 1,
   "metadata": {
    "ExecuteTime": {
     "end_time": "2020-11-09T18:06:41.486294Z",
     "start_time": "2020-11-09T18:06:41.470698Z"
    }
   },
   "outputs": [],
   "source": [
    "import datetime\n",
    "import sklearn\n",
    "import numpy as np\n",
    "import seaborn as sns\n",
    "from math import sqrt\n",
    "%matplotlib inline\n",
    "from matplotlib import pyplot as plt\n",
    "from matplotlib.colors import ListedColormap\n",
    "# import warnings\n",
    "# warnings.filterwarnings(\"ignore\")\n",
    "from sklearn.preprocessing import LabelEncoder\n",
    "# to split train and test set\n",
    "from sklearn.model_selection import train_test_split\n",
    "# to perform hyperparameter tuning\n",
    "from sklearn.model_selection import GridSearchCV\n",
    "from sklearn.model_selection import RandomizedSearchCV\n",
    "import os\n",
    "# Machine Learning Models\n",
    "from sklearn.linear_model import LogisticRegression\n",
    "from sklearn.metrics import roc_curve, auc, roc_auc_score, confusion_matrix\n",
    "\n",
    "#Reandom forest\n",
    "from sklearn.ensemble import RandomForestClassifier\n",
    "from xgboost import XGBClassifier\n",
    "from sklearn.preprocessing import StandardScaler\n",
    "from sklearn.model_selection import train_test_split\n",
    "from sklearn.model_selection import cross_val_score\n",
    "from sklearn.neighbors import KNeighborsClassifier\n",
    "\n",
    "\n",
    "from matplotlib.colors import ListedColormap\n",
    "from sklearn.metrics import accuracy_score\n",
    "from sklearn.tree import DecisionTreeClassifier"
   ]
  },
  {
   "cell_type": "code",
   "execution_count": 2,
   "metadata": {
    "ExecuteTime": {
     "end_time": "2020-11-09T18:06:50.216272Z",
     "start_time": "2020-11-09T18:06:48.559476Z"
    }
   },
   "outputs": [
    {
     "name": "stdout",
     "output_type": "stream",
     "text": [
      "Requirement already satisfied: pandas in c:\\users\\akhil\\anaconda3\\lib\\site-packages (1.0.5)Note: you may need to restart the kernel to use updated packages.\n",
      "\n",
      "Requirement already satisfied: python-dateutil>=2.6.1 in c:\\users\\akhil\\anaconda3\\lib\\site-packages (from pandas) (2.8.1)\n",
      "Requirement already satisfied: numpy>=1.13.3 in c:\\users\\akhil\\anaconda3\\lib\\site-packages (from pandas) (1.18.5)\n",
      "Requirement already satisfied: pytz>=2017.2 in c:\\users\\akhil\\anaconda3\\lib\\site-packages (from pandas) (2020.1)\n",
      "Requirement already satisfied: six>=1.5 in c:\\users\\akhil\\anaconda3\\lib\\site-packages (from python-dateutil>=2.6.1->pandas) (1.15.0)\n"
     ]
    }
   ],
   "source": [
    "pip install pandas"
   ]
  },
  {
   "cell_type": "code",
   "execution_count": 3,
   "metadata": {
    "ExecuteTime": {
     "end_time": "2020-11-09T18:06:51.702109Z",
     "start_time": "2020-11-09T18:06:50.262178Z"
    },
    "scrolled": true
   },
   "outputs": [
    {
     "name": "stdout",
     "output_type": "stream",
     "text": [
      "Requirement already satisfied: sodapy in c:\\users\\akhil\\anaconda3\\lib\\site-packages (2.1.0)Note: you may need to restart the kernel to use updated packages.\n",
      "Requirement already satisfied: requests>=2.20.0 in c:\\users\\akhil\\anaconda3\\lib\\site-packages (from sodapy) (2.24.0)\n",
      "Requirement already satisfied: urllib3!=1.25.0,!=1.25.1,<1.26,>=1.21.1 in c:\\users\\akhil\\anaconda3\\lib\\site-packages (from requests>=2.20.0->sodapy) (1.25.9)\n",
      "Requirement already satisfied: chardet<4,>=3.0.2 in c:\\users\\akhil\\anaconda3\\lib\\site-packages (from requests>=2.20.0->sodapy) (3.0.4)\n",
      "Requirement already satisfied: certifi>=2017.4.17 in c:\\users\\akhil\\anaconda3\\lib\\site-packages (from requests>=2.20.0->sodapy) (2020.6.20)\n",
      "Requirement already satisfied: idna<3,>=2.5 in c:\\users\\akhil\\anaconda3\\lib\\site-packages (from requests>=2.20.0->sodapy) (2.10)\n",
      "\n"
     ]
    }
   ],
   "source": [
    "pip install sodapy"
   ]
  },
  {
   "cell_type": "markdown",
   "metadata": {},
   "source": [
    "# Data Preparation"
   ]
  },
  {
   "cell_type": "code",
   "execution_count": 4,
   "metadata": {
    "ExecuteTime": {
     "end_time": "2020-11-09T18:07:05.968214Z",
     "start_time": "2020-11-09T18:06:59.379374Z"
    }
   },
   "outputs": [],
   "source": [
    "import pandas as pd\n",
    "from sodapy import Socrata\n",
    "\n",
    "# Extracting data using API\n",
    "# Unauthenticated client only works with public data sets. Note 'None'\n",
    "# in place of application token, and no username or password:\n",
    "## domain = \"https://data.cityofnewyork.us/resource/qgea-i56i.json\"\n",
    "## client = Socrata(domain, None)\n",
    "\n",
    "# Example authenticated client (needed for non-public datasets):\n",
    "# client = Socrata(data.cityofnewyork.us,\n",
    "#                  MyAppToken,\n",
    "#                  userame=\"user@example.com\",\n",
    "#                  password=\"AFakePassword\")\n",
    "\n",
    "# First 2000 results, returned as JSON from API / converted to Python list of\n",
    "# dictionaries by sodapy.\n",
    "## results = client.get(\"qgea-i56i\",limit=10000)\n",
    "\n",
    "#----------------------------------------------------------------------------\n",
    "# Loading data from CSV \n",
    "# importing csv module \n",
    "import csv \n",
    "\n",
    "# csv file name \n",
    "file = pd.read_csv(\"NYPD.csv\", low_memory = False)"
   ]
  },
  {
   "cell_type": "code",
   "execution_count": 5,
   "metadata": {
    "ExecuteTime": {
     "end_time": "2020-11-09T18:07:16.208195Z",
     "start_time": "2020-11-09T18:07:16.192565Z"
    },
    "scrolled": false
   },
   "outputs": [],
   "source": [
    "# results_df.describe()"
   ]
  },
  {
   "cell_type": "code",
   "execution_count": 6,
   "metadata": {
    "ExecuteTime": {
     "end_time": "2020-11-09T18:07:36.644771Z",
     "start_time": "2020-11-09T18:07:36.233673Z"
    },
    "scrolled": true
   },
   "outputs": [
    {
     "data": {
      "text/plain": [
       "<bound method NDFrame.head of        CMPLNT_NUM CMPLNT_FR_DT CMPLNT_FR_TM CMPLNT_TO_DT CMPLNT_TO_TM  \\\n",
       "0       708078702    5/20/2017      4:02:00    5/20/2017      4:09:00   \n",
       "1       696394455    5/12/2017      7:14:00          NaN          NaN   \n",
       "2       430798229   10/16/2007      2:00:00   12/31/2007      3:00:00   \n",
       "3       722182197    12/4/2014      0:30:00          NaN          NaN   \n",
       "4       907474278     6/4/2017     10:00:00     6/5/2017     10:00:00   \n",
       "...           ...          ...          ...          ...          ...   \n",
       "59994   331933147     8/4/2012      2:47:00          NaN          NaN   \n",
       "59995   788712882   12/27/2012     12:10:00          NaN          NaN   \n",
       "59996   465850600    6/14/2015     17:00:00    6/14/2015     17:02:00   \n",
       "59997   203855141    3/25/2014      7:03:00    3/25/2014      7:05:00   \n",
       "59998   594111384     2/5/2012      5:00:00     2/5/2012      5:05:00   \n",
       "\n",
       "       ADDR_PCT_CD      RPT_DT  KY_CD                        OFNS_DESC  PD_CD  \\\n",
       "0            109.0   5/20/2017    344     ASSAULT 3 & RELATED OFFENSES  101.0   \n",
       "1             32.0   5/12/2017    101  MURDER & NON-NEGL. MANSLAUGHTER    NaN   \n",
       "2             83.0   3/11/2016    116                       SEX CRIMES  177.0   \n",
       "3             23.0   12/4/2014    351   CRIMINAL MISCHIEF & RELATED OF  259.0   \n",
       "4            106.0   6/12/2017    109                    GRAND LARCENY  412.0   \n",
       "...            ...         ...    ...                              ...    ...   \n",
       "59994         75.0    8/4/2012    106                   FELONY ASSAULT  106.0   \n",
       "59995         25.0  12/27/2012    578                    HARRASSMENT 2  638.0   \n",
       "59996         69.0   6/14/2015    106                   FELONY ASSAULT  109.0   \n",
       "59997        106.0   3/25/2014    578                    HARRASSMENT 2  638.0   \n",
       "59998         43.0   7/25/2014    233                       SEX CRIMES  681.0   \n",
       "\n",
       "       ... SUSP_SEX TRANSIT_DISTRICT   Latitude  Longitude  \\\n",
       "0      ...        M              NaN  40.763992 -73.828426   \n",
       "1      ...        M              NaN  40.812797 -73.943663   \n",
       "2      ...        M              NaN  40.697964 -73.918083   \n",
       "3      ...        M              NaN  40.788845 -73.946176   \n",
       "4      ...        M              NaN  40.689272 -73.820396   \n",
       "...    ...      ...              ...        ...        ...   \n",
       "59994  ...        M              NaN  40.667390 -73.870950   \n",
       "59995  ...        F              NaN  40.798002 -73.937052   \n",
       "59996  ...        M              NaN  40.646361 -73.912785   \n",
       "59997  ...        M              NaN  40.684608 -73.811146   \n",
       "59998  ...        M              NaN  40.823101 -73.869690   \n",
       "\n",
       "                             Lat_Lon               PATROL_BORO STATION_NAME  \\\n",
       "0      (40.763991557, -73.828425559)  PATROL BORO QUEENS NORTH          NaN   \n",
       "1      (40.812797101, -73.943663498)                       NaN          NaN   \n",
       "2      (40.697963515, -73.918083362)   PATROL BORO BKLYN NORTH          NaN   \n",
       "3      (40.788845063, -73.946175538)     PATROL BORO MAN NORTH          NaN   \n",
       "4      (40.689272367, -73.820396416)  PATROL BORO QUEENS SOUTH          NaN   \n",
       "...                              ...                       ...          ...   \n",
       "59994  (40.667390177, -73.870949908)   PATROL BORO BKLYN NORTH          NaN   \n",
       "59995  (40.798002353, -73.937052045)     PATROL BORO MAN NORTH          NaN   \n",
       "59996  (40.646360547, -73.912784625)   PATROL BORO BKLYN SOUTH          NaN   \n",
       "59997  (40.684607904, -73.811146121)  PATROL BORO QUEENS SOUTH          NaN   \n",
       "59998  (40.823101299, -73.869690461)         PATROL BORO BRONX          NaN   \n",
       "\n",
       "       VIC_AGE_GROUP                  VIC_RACE VIC_SEX  \n",
       "0              25-44                     BLACK       M  \n",
       "1              25-44                   UNKNOWN       M  \n",
       "2                <18            WHITE HISPANIC       F  \n",
       "3              25-44                     BLACK       F  \n",
       "4              45-64  ASIAN / PACIFIC ISLANDER       M  \n",
       "...              ...                       ...     ...  \n",
       "59994          25-44                     WHITE       M  \n",
       "59995          25-44            WHITE HISPANIC       M  \n",
       "59996          25-44                     BLACK       F  \n",
       "59997          18-24  ASIAN / PACIFIC ISLANDER       F  \n",
       "59998            <18            WHITE HISPANIC       F  \n",
       "\n",
       "[59999 rows x 35 columns]>"
      ]
     },
     "execution_count": 6,
     "metadata": {},
     "output_type": "execute_result"
    }
   ],
   "source": [
    "file.head"
   ]
  },
  {
   "cell_type": "code",
   "execution_count": 7,
   "metadata": {
    "ExecuteTime": {
     "end_time": "2020-11-09T18:07:41.017712Z",
     "start_time": "2020-11-09T18:07:40.997624Z"
    },
    "scrolled": true
   },
   "outputs": [
    {
     "data": {
      "text/plain": [
       "CMPLNT_NUM             int64\n",
       "CMPLNT_FR_DT          object\n",
       "CMPLNT_FR_TM          object\n",
       "CMPLNT_TO_DT          object\n",
       "CMPLNT_TO_TM          object\n",
       "ADDR_PCT_CD          float64\n",
       "RPT_DT                object\n",
       "KY_CD                  int64\n",
       "OFNS_DESC             object\n",
       "PD_CD                float64\n",
       "PD_DESC               object\n",
       "CRM_ATPT_CPTD_CD      object\n",
       "LAW_CAT_CD            object\n",
       "BORO_NM               object\n",
       "LOC_OF_OCCUR_DESC     object\n",
       "PREM_TYP_DESC         object\n",
       "JURIS_DESC            object\n",
       "JURISDICTION_CODE    float64\n",
       "PARKS_NM              object\n",
       "HADEVELOPT            object\n",
       "HOUSING_PSA          float64\n",
       "X_COORD_CD           float64\n",
       "Y_COORD_CD           float64\n",
       "SUSP_AGE_GROUP        object\n",
       "SUSP_RACE             object\n",
       "SUSP_SEX              object\n",
       "TRANSIT_DISTRICT     float64\n",
       "Latitude             float64\n",
       "Longitude            float64\n",
       "Lat_Lon               object\n",
       "PATROL_BORO           object\n",
       "STATION_NAME          object\n",
       "VIC_AGE_GROUP         object\n",
       "VIC_RACE              object\n",
       "VIC_SEX               object\n",
       "dtype: object"
      ]
     },
     "execution_count": 7,
     "metadata": {},
     "output_type": "execute_result"
    }
   ],
   "source": [
    "file.dtypes"
   ]
  },
  {
   "cell_type": "code",
   "execution_count": 8,
   "metadata": {
    "ExecuteTime": {
     "end_time": "2020-11-09T03:10:05.424258Z",
     "start_time": "2020-11-09T03:10:05.408668Z"
    }
   },
   "outputs": [
    {
     "data": {
      "text/plain": [
       "(59999, 35)"
      ]
     },
     "execution_count": 8,
     "metadata": {},
     "output_type": "execute_result"
    }
   ],
   "source": [
    "file.shape"
   ]
  },
  {
   "cell_type": "code",
   "execution_count": 9,
   "metadata": {
    "ExecuteTime": {
     "end_time": "2020-11-09T18:07:54.987202Z",
     "start_time": "2020-11-09T18:07:54.065846Z"
    },
    "scrolled": true
   },
   "outputs": [
    {
     "data": {
      "text/plain": [
       "CMPLNT_NUM               0\n",
       "CMPLNT_FR_DT             1\n",
       "CMPLNT_FR_TM             0\n",
       "CMPLNT_TO_DT         13267\n",
       "CMPLNT_TO_TM         13244\n",
       "ADDR_PCT_CD             10\n",
       "RPT_DT                   0\n",
       "KY_CD                    0\n",
       "OFNS_DESC               25\n",
       "PD_CD                  141\n",
       "PD_DESC                141\n",
       "CRM_ATPT_CPTD_CD         0\n",
       "LAW_CAT_CD               0\n",
       "BORO_NM                142\n",
       "LOC_OF_OCCUR_DESC     6841\n",
       "PREM_TYP_DESC          295\n",
       "JURIS_DESC               0\n",
       "JURISDICTION_CODE      141\n",
       "PARKS_NM             59740\n",
       "HADEVELOPT           55125\n",
       "HOUSING_PSA          52836\n",
       "X_COORD_CD              23\n",
       "Y_COORD_CD              23\n",
       "SUSP_AGE_GROUP           0\n",
       "SUSP_RACE                0\n",
       "SUSP_SEX                 0\n",
       "TRANSIT_DISTRICT     59270\n",
       "Latitude                23\n",
       "Longitude               23\n",
       "Lat_Lon                 23\n",
       "PATROL_BORO            143\n",
       "STATION_NAME         59270\n",
       "VIC_AGE_GROUP            0\n",
       "VIC_RACE                 0\n",
       "VIC_SEX                  0\n",
       "dtype: int64"
      ]
     },
     "execution_count": 9,
     "metadata": {},
     "output_type": "execute_result"
    }
   ],
   "source": [
    "file.isnull().sum()"
   ]
  },
  {
   "cell_type": "markdown",
   "metadata": {},
   "source": [
    "# Data Transformation"
   ]
  },
  {
   "cell_type": "raw",
   "metadata": {},
   "source": [
    "##While exploring the data, We have observed that some of the columns have null values which will not be useful for our research,hence those columns were dropped from our dataframe."
   ]
  },
  {
   "cell_type": "code",
   "execution_count": 10,
   "metadata": {
    "ExecuteTime": {
     "end_time": "2020-11-09T18:08:01.403870Z",
     "start_time": "2020-11-09T18:08:01.265699Z"
    }
   },
   "outputs": [],
   "source": [
    "df1 = file.drop(['CMPLNT_FR_DT', 'CMPLNT_TO_DT', 'CMPLNT_TO_TM', 'Lat_Lon', 'PARKS_NM', 'TRANSIT_DISTRICT', 'STATION_NAME','HADEVELOPT','PD_CD','PD_DESC','BORO_NM','LOC_OF_OCCUR_DESC','PREM_TYP_DESC','HOUSING_PSA','X_COORD_CD','Y_COORD_CD','Latitude','Longitude'],axis=1)"
   ]
  },
  {
   "cell_type": "code",
   "execution_count": 11,
   "metadata": {
    "ExecuteTime": {
     "end_time": "2020-11-09T18:08:09.859148Z",
     "start_time": "2020-11-09T18:08:09.843490Z"
    }
   },
   "outputs": [
    {
     "data": {
      "text/plain": [
       "(59999, 17)"
      ]
     },
     "execution_count": 11,
     "metadata": {},
     "output_type": "execute_result"
    }
   ],
   "source": [
    "df1.shape"
   ]
  },
  {
   "cell_type": "code",
   "execution_count": 12,
   "metadata": {
    "ExecuteTime": {
     "end_time": "2020-11-09T18:08:18.170129Z",
     "start_time": "2020-11-09T18:08:18.154508Z"
    },
    "scrolled": true
   },
   "outputs": [
    {
     "data": {
      "text/plain": [
       "CMPLNT_NUM             int64\n",
       "CMPLNT_FR_TM          object\n",
       "ADDR_PCT_CD          float64\n",
       "RPT_DT                object\n",
       "KY_CD                  int64\n",
       "OFNS_DESC             object\n",
       "CRM_ATPT_CPTD_CD      object\n",
       "LAW_CAT_CD            object\n",
       "JURIS_DESC            object\n",
       "JURISDICTION_CODE    float64\n",
       "SUSP_AGE_GROUP        object\n",
       "SUSP_RACE             object\n",
       "SUSP_SEX              object\n",
       "PATROL_BORO           object\n",
       "VIC_AGE_GROUP         object\n",
       "VIC_RACE              object\n",
       "VIC_SEX               object\n",
       "dtype: object"
      ]
     },
     "execution_count": 12,
     "metadata": {},
     "output_type": "execute_result"
    }
   ],
   "source": [
    "df1.dtypes"
   ]
  },
  {
   "cell_type": "raw",
   "metadata": {},
   "source": [
    "##five-number summary is set of major statistical numbers , these show three main characters i.e., median, spread(lower & upper quartiles), range(min & max). Since most of our data consists of categorical data, this summary might not provide appropriate insights about our data."
   ]
  },
  {
   "cell_type": "code",
   "execution_count": 13,
   "metadata": {
    "ExecuteTime": {
     "end_time": "2020-11-09T18:08:24.866655Z",
     "start_time": "2020-11-09T18:08:24.380442Z"
    }
   },
   "outputs": [
    {
     "data": {
      "text/plain": [
       "CMPLNT_NUM             0\n",
       "CMPLNT_FR_TM           0\n",
       "ADDR_PCT_CD           10\n",
       "RPT_DT                 0\n",
       "KY_CD                  0\n",
       "OFNS_DESC             25\n",
       "CRM_ATPT_CPTD_CD       0\n",
       "LAW_CAT_CD             0\n",
       "JURIS_DESC             0\n",
       "JURISDICTION_CODE    141\n",
       "SUSP_AGE_GROUP         0\n",
       "SUSP_RACE              0\n",
       "SUSP_SEX               0\n",
       "PATROL_BORO          143\n",
       "VIC_AGE_GROUP          0\n",
       "VIC_RACE               0\n",
       "VIC_SEX                0\n",
       "dtype: int64"
      ]
     },
     "execution_count": 13,
     "metadata": {},
     "output_type": "execute_result"
    }
   ],
   "source": [
    "df1.isnull().sum()"
   ]
  },
  {
   "cell_type": "code",
   "execution_count": 14,
   "metadata": {
    "ExecuteTime": {
     "end_time": "2020-11-09T18:08:48.848924Z",
     "start_time": "2020-11-09T18:08:48.670557Z"
    }
   },
   "outputs": [],
   "source": [
    "df2 = df1.dropna(subset=['ADDR_PCT_CD'])"
   ]
  },
  {
   "cell_type": "code",
   "execution_count": 15,
   "metadata": {
    "ExecuteTime": {
     "end_time": "2020-11-09T18:08:53.880378Z",
     "start_time": "2020-11-09T18:08:53.399198Z"
    }
   },
   "outputs": [
    {
     "data": {
      "text/plain": [
       "CMPLNT_NUM             0\n",
       "CMPLNT_FR_TM           0\n",
       "ADDR_PCT_CD            0\n",
       "RPT_DT                 0\n",
       "KY_CD                  0\n",
       "OFNS_DESC             25\n",
       "CRM_ATPT_CPTD_CD       0\n",
       "LAW_CAT_CD             0\n",
       "JURIS_DESC             0\n",
       "JURISDICTION_CODE    131\n",
       "SUSP_AGE_GROUP         0\n",
       "SUSP_RACE              0\n",
       "SUSP_SEX               0\n",
       "PATROL_BORO          133\n",
       "VIC_AGE_GROUP          0\n",
       "VIC_RACE               0\n",
       "VIC_SEX                0\n",
       "dtype: int64"
      ]
     },
     "execution_count": 15,
     "metadata": {},
     "output_type": "execute_result"
    }
   ],
   "source": [
    "df2.isnull().sum()"
   ]
  },
  {
   "cell_type": "raw",
   "metadata": {
    "ExecuteTime": {
     "end_time": "2020-11-07T04:23:12.969066Z",
     "start_time": "2020-11-07T04:23:12.953430Z"
    }
   },
   "source": [
    "## Given that the offense description has 1370 null values, deleting them is an option. However, we can also fill the empty values base on the Key Code. We first created dictionary to map the Key Codes and their Descriptions"
   ]
  },
  {
   "cell_type": "code",
   "execution_count": 16,
   "metadata": {
    "ExecuteTime": {
     "end_time": "2020-11-09T18:09:01.186869Z",
     "start_time": "2020-11-09T18:09:00.908184Z"
    },
    "scrolled": true
   },
   "outputs": [
    {
     "data": {
      "text/plain": [
       "{344: 'ASSAULT 3 & RELATED OFFENSES',\n",
       " 101: 'MURDER & NON-NEGL. MANSLAUGHTER',\n",
       " 116: 'SEX CRIMES',\n",
       " 351: 'CRIMINAL MISCHIEF & RELATED OF',\n",
       " 109: 'GRAND LARCENY',\n",
       " 578: 'HARRASSMENT 2',\n",
       " 106: 'FELONY ASSAULT',\n",
       " 126: 'MISCELLANEOUS PENAL LAW',\n",
       " 359: 'OFFENSES AGAINST PUBLIC ADMINI',\n",
       " 343: 'OTHER OFFENSES RELATED TO THEF',\n",
       " 361: 'OFF. AGNST PUB ORD SENSBLTY &',\n",
       " 107: 'BURGLARY',\n",
       " 105: 'ROBBERY',\n",
       " 358: 'OFFENSES INVOLVING FRAUD',\n",
       " 353: 'UNAUTHORIZED USE OF A VEHICLE',\n",
       " 341: 'PETIT LARCENY',\n",
       " 348: 'VEHICLE AND TRAFFIC LAWS',\n",
       " 104: 'RAPE',\n",
       " 233: 'SEX CRIMES',\n",
       " 111: 'POSSESSION OF STOLEN PROPERTY',\n",
       " 121: 'CRIMINAL MISCHIEF & RELATED OF',\n",
       " 352: 'CRIMINAL TRESPASS',\n",
       " 124: 'KIDNAPPING & RELATED OFFENSES',\n",
       " 236: 'DANGEROUS WEAPONS',\n",
       " 113: 'FORGERY',\n",
       " 347: 'INTOXICATED & IMPAIRED DRIVING',\n",
       " 125: 'NYS LAWS-UNCLASSIFIED FELONY',\n",
       " 232: 'POSSESSION OF STOLEN PROPERTY',\n",
       " 365: 'ADMINISTRATIVE CODE',\n",
       " 110: 'GRAND LARCENY OF MOTOR VEHICLE',\n",
       " 340: 'FRAUDS',\n",
       " 118: 'DANGEROUS WEAPONS',\n",
       " 112: 'THEFT-FRAUD',\n",
       " 355: 'OFFENSES AGAINST THE PERSON',\n",
       " 114: 'ARSON',\n",
       " 678: 'MISCELLANEOUS PENAL LAW',\n",
       " 238: 'FRAUDULENT ACCOSTING',\n",
       " 360: nan,\n",
       " 117: 'DANGEROUS DRUGS',\n",
       " 235: 'DANGEROUS DRUGS',\n",
       " 120: 'CHILD ABANDONMENT/NON SUPPORT',\n",
       " 572: 'DISORDERLY CONDUCT',\n",
       " 364: 'OTHER STATE LAWS (NON PENAL LA',\n",
       " 230: 'JOSTLING',\n",
       " 115: 'PROSTITUTION & RELATED OFFENSES',\n",
       " 345: 'OFFENSES RELATED TO CHILDREN',\n",
       " 231: \"BURGLAR'S TOOLS\",\n",
       " 356: 'PROSTITUTION & RELATED OFFENSES'}"
      ]
     },
     "execution_count": 16,
     "metadata": {},
     "output_type": "execute_result"
    }
   ],
   "source": [
    "offense_dict = dict(zip(df2['KY_CD'],df2['OFNS_DESC']))\n",
    "offense_dict"
   ]
  },
  {
   "cell_type": "raw",
   "metadata": {},
   "source": [
    "The code below helped is fill most of the Offense Descriptions based on Key Code values."
   ]
  },
  {
   "cell_type": "code",
   "execution_count": 17,
   "metadata": {
    "ExecuteTime": {
     "end_time": "2020-11-09T18:11:59.176726Z",
     "start_time": "2020-11-09T18:11:59.076457Z"
    }
   },
   "outputs": [
    {
     "name": "stderr",
     "output_type": "stream",
     "text": [
      "C:\\Users\\akhil\\anaconda3\\lib\\site-packages\\pandas\\core\\indexing.py:966: SettingWithCopyWarning: \n",
      "A value is trying to be set on a copy of a slice from a DataFrame.\n",
      "Try using .loc[row_indexer,col_indexer] = value instead\n",
      "\n",
      "See the caveats in the documentation: https://pandas.pydata.org/pandas-docs/stable/user_guide/indexing.html#returning-a-view-versus-a-copy\n",
      "  self.obj[item] = s\n"
     ]
    }
   ],
   "source": [
    "df2.loc[df2['OFNS_DESC'].isnull(),'OFNS_DESC'] = df2['KY_CD'].map(offense_dict)"
   ]
  },
  {
   "cell_type": "raw",
   "metadata": {},
   "source": [
    "We verified again to see if all the Offense Descriptions were correctly mapped to the Key codes. We saw 385 instances of Offense Description that were still NaN."
   ]
  },
  {
   "cell_type": "code",
   "execution_count": 18,
   "metadata": {
    "ExecuteTime": {
     "end_time": "2020-11-09T18:12:12.390618Z",
     "start_time": "2020-11-09T18:12:11.893062Z"
    }
   },
   "outputs": [
    {
     "data": {
      "text/plain": [
       "CMPLNT_NUM             0\n",
       "CMPLNT_FR_TM           0\n",
       "ADDR_PCT_CD            0\n",
       "RPT_DT                 0\n",
       "KY_CD                  0\n",
       "OFNS_DESC             25\n",
       "CRM_ATPT_CPTD_CD       0\n",
       "LAW_CAT_CD             0\n",
       "JURIS_DESC             0\n",
       "JURISDICTION_CODE    131\n",
       "SUSP_AGE_GROUP         0\n",
       "SUSP_RACE              0\n",
       "SUSP_SEX               0\n",
       "PATROL_BORO          133\n",
       "VIC_AGE_GROUP          0\n",
       "VIC_RACE               0\n",
       "VIC_SEX                0\n",
       "dtype: int64"
      ]
     },
     "execution_count": 18,
     "metadata": {},
     "output_type": "execute_result"
    }
   ],
   "source": [
    "df2.isnull().sum()"
   ]
  },
  {
   "cell_type": "raw",
   "metadata": {},
   "source": [
    "In order to find the problem Key Code that was causing Offense Description values to show NaN we used the code below. With that we found that there was no description for Key Code = 360. All records of Key Code 360 were therefore removed."
   ]
  },
  {
   "cell_type": "code",
   "execution_count": 19,
   "metadata": {
    "ExecuteTime": {
     "end_time": "2020-11-09T18:12:28.847197Z",
     "start_time": "2020-11-09T18:12:28.784616Z"
    }
   },
   "outputs": [
    {
     "data": {
      "text/plain": [
       "2371     360\n",
       "3417     360\n",
       "6911     360\n",
       "10675    360\n",
       "10684    360\n",
       "14912    360\n",
       "16234    360\n",
       "17297    360\n",
       "20825    360\n",
       "21401    360\n",
       "21566    360\n",
       "24264    360\n",
       "24337    360\n",
       "29020    360\n",
       "30943    360\n",
       "32659    360\n",
       "32846    360\n",
       "34444    360\n",
       "44620    360\n",
       "46618    360\n",
       "48474    360\n",
       "52685    360\n",
       "54287    360\n",
       "57040    360\n",
       "58812    360\n",
       "Name: KY_CD, dtype: int64"
      ]
     },
     "execution_count": 19,
     "metadata": {},
     "output_type": "execute_result"
    }
   ],
   "source": [
    "df2.KY_CD[df2['OFNS_DESC'].isnull()]"
   ]
  },
  {
   "cell_type": "code",
   "execution_count": 20,
   "metadata": {
    "ExecuteTime": {
     "end_time": "2020-11-09T18:12:31.942027Z",
     "start_time": "2020-11-09T18:12:31.737406Z"
    }
   },
   "outputs": [],
   "source": [
    "df2 = df2[df2['KY_CD'] != 360]"
   ]
  },
  {
   "cell_type": "raw",
   "metadata": {},
   "source": [
    "We followed the same process of filling NaN values of Jurisdiction code with a reference dictionary"
   ]
  },
  {
   "cell_type": "code",
   "execution_count": 21,
   "metadata": {
    "ExecuteTime": {
     "end_time": "2020-11-09T18:12:35.889793Z",
     "start_time": "2020-11-09T18:12:35.669999Z"
    }
   },
   "outputs": [],
   "source": [
    "juris_dict = dict(zip(df2['JURIS_DESC'],df2['JURISDICTION_CODE']))"
   ]
  },
  {
   "cell_type": "code",
   "execution_count": 22,
   "metadata": {
    "ExecuteTime": {
     "end_time": "2020-11-09T18:12:37.895032Z",
     "start_time": "2020-11-09T18:12:37.794718Z"
    }
   },
   "outputs": [],
   "source": [
    "df2.loc[df2[\"JURISDICTION_CODE\"].isnull(),\"JURISDICTION_CODE\"] = df2[\"JURIS_DESC\"].map(juris_dict)"
   ]
  },
  {
   "cell_type": "code",
   "execution_count": 23,
   "metadata": {
    "ExecuteTime": {
     "end_time": "2020-11-09T18:12:39.597391Z",
     "start_time": "2020-11-09T18:12:39.115207Z"
    }
   },
   "outputs": [
    {
     "data": {
      "text/plain": [
       "CMPLNT_NUM             0\n",
       "CMPLNT_FR_TM           0\n",
       "ADDR_PCT_CD            0\n",
       "RPT_DT                 0\n",
       "KY_CD                  0\n",
       "OFNS_DESC              0\n",
       "CRM_ATPT_CPTD_CD       0\n",
       "LAW_CAT_CD             0\n",
       "JURIS_DESC             0\n",
       "JURISDICTION_CODE      0\n",
       "SUSP_AGE_GROUP         0\n",
       "SUSP_RACE              0\n",
       "SUSP_SEX               0\n",
       "PATROL_BORO          133\n",
       "VIC_AGE_GROUP          0\n",
       "VIC_RACE               0\n",
       "VIC_SEX                0\n",
       "dtype: int64"
      ]
     },
     "execution_count": 23,
     "metadata": {},
     "output_type": "execute_result"
    }
   ],
   "source": [
    "df2.isnull().sum()"
   ]
  },
  {
   "cell_type": "raw",
   "metadata": {},
   "source": [
    "Further, we proceed to remove all NaN values from Suspect Sex and Patrol Boro columns."
   ]
  },
  {
   "cell_type": "code",
   "execution_count": 24,
   "metadata": {
    "ExecuteTime": {
     "end_time": "2020-11-09T18:13:23.344839Z",
     "start_time": "2020-11-09T18:13:22.658925Z"
    }
   },
   "outputs": [],
   "source": [
    "df2 = df2.dropna()"
   ]
  },
  {
   "cell_type": "code",
   "execution_count": 25,
   "metadata": {
    "ExecuteTime": {
     "end_time": "2020-11-09T18:13:27.953030Z",
     "start_time": "2020-11-09T18:13:27.456561Z"
    }
   },
   "outputs": [
    {
     "data": {
      "text/plain": [
       "CMPLNT_NUM           0\n",
       "CMPLNT_FR_TM         0\n",
       "ADDR_PCT_CD          0\n",
       "RPT_DT               0\n",
       "KY_CD                0\n",
       "OFNS_DESC            0\n",
       "CRM_ATPT_CPTD_CD     0\n",
       "LAW_CAT_CD           0\n",
       "JURIS_DESC           0\n",
       "JURISDICTION_CODE    0\n",
       "SUSP_AGE_GROUP       0\n",
       "SUSP_RACE            0\n",
       "SUSP_SEX             0\n",
       "PATROL_BORO          0\n",
       "VIC_AGE_GROUP        0\n",
       "VIC_RACE             0\n",
       "VIC_SEX              0\n",
       "dtype: int64"
      ]
     },
     "execution_count": 25,
     "metadata": {},
     "output_type": "execute_result"
    }
   ],
   "source": [
    "df2.isnull().sum()"
   ]
  },
  {
   "cell_type": "code",
   "execution_count": 26,
   "metadata": {
    "ExecuteTime": {
     "end_time": "2020-11-09T18:13:30.598985Z",
     "start_time": "2020-11-09T18:13:30.583327Z"
    }
   },
   "outputs": [
    {
     "data": {
      "text/plain": [
       "CMPLNT_NUM             int64\n",
       "CMPLNT_FR_TM          object\n",
       "ADDR_PCT_CD          float64\n",
       "RPT_DT                object\n",
       "KY_CD                  int64\n",
       "OFNS_DESC             object\n",
       "CRM_ATPT_CPTD_CD      object\n",
       "LAW_CAT_CD            object\n",
       "JURIS_DESC            object\n",
       "JURISDICTION_CODE    float64\n",
       "SUSP_AGE_GROUP        object\n",
       "SUSP_RACE             object\n",
       "SUSP_SEX              object\n",
       "PATROL_BORO           object\n",
       "VIC_AGE_GROUP         object\n",
       "VIC_RACE              object\n",
       "VIC_SEX               object\n",
       "dtype: object"
      ]
     },
     "execution_count": 26,
     "metadata": {},
     "output_type": "execute_result"
    }
   ],
   "source": [
    "df2.dtypes"
   ]
  },
  {
   "cell_type": "code",
   "execution_count": 27,
   "metadata": {
    "ExecuteTime": {
     "end_time": "2020-11-09T18:13:34.954808Z",
     "start_time": "2020-11-09T18:13:34.932584Z"
    }
   },
   "outputs": [
    {
     "data": {
      "text/plain": [
       "(59831, 17)"
      ]
     },
     "execution_count": 27,
     "metadata": {},
     "output_type": "execute_result"
    }
   ],
   "source": [
    "df2.shape"
   ]
  },
  {
   "cell_type": "raw",
   "metadata": {},
   "source": [
    "##The 'cmplnt_to_dt','cmplnt_to_tm','cmplnt_fr_dt','cmplnt_fr_tm' were in the form of object datatype, but these features have the information about exact date and time of the crime occurance  and the ending date and time of the crime. Hence for the appropriate use of these features we changed these features from object datatype to date-time datatype."
   ]
  },
  {
   "cell_type": "code",
   "execution_count": 28,
   "metadata": {
    "ExecuteTime": {
     "end_time": "2020-11-09T18:13:41.885157Z",
     "start_time": "2020-11-09T18:13:40.791301Z"
    }
   },
   "outputs": [],
   "source": [
    "df2['RPT_DT'] = pd.to_datetime(df2['RPT_DT'])\n",
    "df2['CMPLNT_FR_TM'] = pd.to_datetime(df2['CMPLNT_FR_TM'])"
   ]
  },
  {
   "cell_type": "raw",
   "metadata": {},
   "source": [
    "# The feature 'cmplnt_fr_dt' has yyyy-mm-dd format,using the below code we divided this into two seperate columns as year and month.Similarly,'cmplnt_to_dt','cmplnt_to_tm','cmplnt_fr_tm' also follows the same format as 'cmplnt_fr_dt', hence we seperated this into two seperate columns i.e., as year and month."
   ]
  },
  {
   "cell_type": "code",
   "execution_count": 29,
   "metadata": {
    "ExecuteTime": {
     "end_time": "2020-11-09T18:13:46.031753Z",
     "start_time": "2020-11-09T18:13:45.550804Z"
    }
   },
   "outputs": [],
   "source": [
    "df2['year_of_occurance'] = df2['RPT_DT'].dt.year\n",
    "df2['month_of_occurance'] = df2['RPT_DT'].dt.month\n",
    "df2['day_of_week'] = df2['RPT_DT'].dt.day_name()"
   ]
  },
  {
   "cell_type": "code",
   "execution_count": 30,
   "metadata": {
    "ExecuteTime": {
     "end_time": "2020-11-09T18:13:49.418423Z",
     "start_time": "2020-11-09T18:13:48.750217Z"
    }
   },
   "outputs": [
    {
     "data": {
      "text/plain": [
       "CMPLNT_NUM            0\n",
       "CMPLNT_FR_TM          0\n",
       "ADDR_PCT_CD           0\n",
       "RPT_DT                0\n",
       "KY_CD                 0\n",
       "OFNS_DESC             0\n",
       "CRM_ATPT_CPTD_CD      0\n",
       "LAW_CAT_CD            0\n",
       "JURIS_DESC            0\n",
       "JURISDICTION_CODE     0\n",
       "SUSP_AGE_GROUP        0\n",
       "SUSP_RACE             0\n",
       "SUSP_SEX              0\n",
       "PATROL_BORO           0\n",
       "VIC_AGE_GROUP         0\n",
       "VIC_RACE              0\n",
       "VIC_SEX               0\n",
       "year_of_occurance     0\n",
       "month_of_occurance    0\n",
       "day_of_week           0\n",
       "dtype: int64"
      ]
     },
     "execution_count": 30,
     "metadata": {},
     "output_type": "execute_result"
    }
   ],
   "source": [
    "df2.isnull().sum()"
   ]
  },
  {
   "cell_type": "code",
   "execution_count": 31,
   "metadata": {
    "ExecuteTime": {
     "end_time": "2020-11-09T18:13:52.810013Z",
     "start_time": "2020-11-09T18:13:52.794352Z"
    }
   },
   "outputs": [
    {
     "data": {
      "text/plain": [
       "(59831, 20)"
      ]
     },
     "execution_count": 31,
     "metadata": {},
     "output_type": "execute_result"
    }
   ],
   "source": [
    "df2.shape"
   ]
  },
  {
   "cell_type": "code",
   "execution_count": 32,
   "metadata": {
    "ExecuteTime": {
     "end_time": "2020-11-09T18:14:05.737567Z",
     "start_time": "2020-11-09T18:14:05.706285Z"
    },
    "scrolled": true
   },
   "outputs": [
    {
     "data": {
      "text/plain": [
       "<bound method NDFrame.head of        CMPLNT_NUM        CMPLNT_FR_TM  ADDR_PCT_CD     RPT_DT  KY_CD  \\\n",
       "0       708078702 2020-11-10 04:02:00        109.0 2017-05-20    344   \n",
       "2       430798229 2020-11-10 02:00:00         83.0 2016-03-11    116   \n",
       "3       722182197 2020-11-10 00:30:00         23.0 2014-12-04    351   \n",
       "4       907474278 2020-11-10 10:00:00        106.0 2017-06-12    109   \n",
       "5       288889108 2020-11-10 01:30:00         68.0 2016-09-27    578   \n",
       "...           ...                 ...          ...        ...    ...   \n",
       "59994   331933147 2020-11-10 02:47:00         75.0 2012-08-04    106   \n",
       "59995   788712882 2020-11-10 12:10:00         25.0 2012-12-27    578   \n",
       "59996   465850600 2020-11-10 17:00:00         69.0 2015-06-14    106   \n",
       "59997   203855141 2020-11-10 07:03:00        106.0 2014-03-25    578   \n",
       "59998   594111384 2020-11-10 05:00:00         43.0 2014-07-25    233   \n",
       "\n",
       "                            OFNS_DESC CRM_ATPT_CPTD_CD   LAW_CAT_CD  \\\n",
       "0        ASSAULT 3 & RELATED OFFENSES        COMPLETED  MISDEMEANOR   \n",
       "2                          SEX CRIMES        COMPLETED       FELONY   \n",
       "3      CRIMINAL MISCHIEF & RELATED OF        COMPLETED  MISDEMEANOR   \n",
       "4                       GRAND LARCENY        COMPLETED       FELONY   \n",
       "5                       HARRASSMENT 2        COMPLETED    VIOLATION   \n",
       "...                               ...              ...          ...   \n",
       "59994                  FELONY ASSAULT        ATTEMPTED       FELONY   \n",
       "59995                   HARRASSMENT 2        COMPLETED    VIOLATION   \n",
       "59996                  FELONY ASSAULT        COMPLETED       FELONY   \n",
       "59997                   HARRASSMENT 2        COMPLETED    VIOLATION   \n",
       "59998                      SEX CRIMES        COMPLETED  MISDEMEANOR   \n",
       "\n",
       "                JURIS_DESC  JURISDICTION_CODE SUSP_AGE_GROUP  \\\n",
       "0         N.Y. POLICE DEPT                0.0          25-44   \n",
       "2         N.Y. POLICE DEPT                0.0          25-44   \n",
       "3      N.Y. HOUSING POLICE                2.0            <18   \n",
       "4         N.Y. POLICE DEPT                0.0          25-44   \n",
       "5         N.Y. POLICE DEPT                0.0          45-64   \n",
       "...                    ...                ...            ...   \n",
       "59994  N.Y. HOUSING POLICE                2.0          18-24   \n",
       "59995     N.Y. POLICE DEPT                0.0          25-44   \n",
       "59996     N.Y. POLICE DEPT                0.0          45-64   \n",
       "59997     N.Y. POLICE DEPT                0.0          25-44   \n",
       "59998     N.Y. POLICE DEPT                0.0          25-44   \n",
       "\n",
       "                      SUSP_RACE SUSP_SEX               PATROL_BORO  \\\n",
       "0                WHITE HISPANIC        M  PATROL BORO QUEENS NORTH   \n",
       "2                WHITE HISPANIC        M   PATROL BORO BKLYN NORTH   \n",
       "3                         BLACK        M     PATROL BORO MAN NORTH   \n",
       "4      ASIAN / PACIFIC ISLANDER        M  PATROL BORO QUEENS SOUTH   \n",
       "5                         WHITE        F   PATROL BORO BKLYN SOUTH   \n",
       "...                         ...      ...                       ...   \n",
       "59994                     BLACK        M   PATROL BORO BKLYN NORTH   \n",
       "59995            WHITE HISPANIC        F     PATROL BORO MAN NORTH   \n",
       "59996                     BLACK        M   PATROL BORO BKLYN SOUTH   \n",
       "59997  ASIAN / PACIFIC ISLANDER        M  PATROL BORO QUEENS SOUTH   \n",
       "59998            BLACK HISPANIC        M         PATROL BORO BRONX   \n",
       "\n",
       "      VIC_AGE_GROUP                  VIC_RACE VIC_SEX  year_of_occurance  \\\n",
       "0             25-44                     BLACK       M               2017   \n",
       "2               <18            WHITE HISPANIC       F               2016   \n",
       "3             25-44                     BLACK       F               2014   \n",
       "4             45-64  ASIAN / PACIFIC ISLANDER       M               2017   \n",
       "5               65+                     WHITE       M               2016   \n",
       "...             ...                       ...     ...                ...   \n",
       "59994         25-44                     WHITE       M               2012   \n",
       "59995         25-44            WHITE HISPANIC       M               2012   \n",
       "59996         25-44                     BLACK       F               2015   \n",
       "59997         18-24  ASIAN / PACIFIC ISLANDER       F               2014   \n",
       "59998           <18            WHITE HISPANIC       F               2014   \n",
       "\n",
       "       month_of_occurance day_of_week  \n",
       "0                       5    Saturday  \n",
       "2                       3      Friday  \n",
       "3                      12    Thursday  \n",
       "4                       6      Monday  \n",
       "5                       9     Tuesday  \n",
       "...                   ...         ...  \n",
       "59994                   8    Saturday  \n",
       "59995                  12    Thursday  \n",
       "59996                   6      Sunday  \n",
       "59997                   3     Tuesday  \n",
       "59998                   7      Friday  \n",
       "\n",
       "[59831 rows x 20 columns]>"
      ]
     },
     "execution_count": 32,
     "metadata": {},
     "output_type": "execute_result"
    }
   ],
   "source": [
    "df2.head"
   ]
  },
  {
   "cell_type": "raw",
   "metadata": {},
   "source": [
    "##The feature 'cmplnt_num' is a randomly generated unique number per complaint. This feature was also a object datatype, since it is an unique identifier we changed the datatype to category as it might provide more specific insights during our research."
   ]
  },
  {
   "cell_type": "code",
   "execution_count": 33,
   "metadata": {
    "ExecuteTime": {
     "end_time": "2020-11-09T18:14:30.863386Z",
     "start_time": "2020-11-09T18:14:30.541719Z"
    }
   },
   "outputs": [
    {
     "data": {
      "text/plain": [
       "0        weekend\n",
       "2        weekday\n",
       "3        weekday\n",
       "4        weekday\n",
       "5        weekday\n",
       "          ...   \n",
       "59994    weekend\n",
       "59995    weekday\n",
       "59996    weekend\n",
       "59997    weekday\n",
       "59998    weekday\n",
       "Name: daytype, Length: 59831, dtype: object"
      ]
     },
     "execution_count": 33,
     "metadata": {},
     "output_type": "execute_result"
    }
   ],
   "source": [
    "df2['daytype'] = np.where(((df2['RPT_DT']).dt.dayofweek) < 5,\"weekday\",\"weekend\")\n",
    "df2['daytype']"
   ]
  },
  {
   "cell_type": "code",
   "execution_count": 34,
   "metadata": {
    "ExecuteTime": {
     "end_time": "2020-11-09T18:14:39.191121Z",
     "start_time": "2020-11-09T18:14:39.168954Z"
    },
    "scrolled": true
   },
   "outputs": [
    {
     "data": {
      "text/plain": [
       "CMPLNT_NUM                     int64\n",
       "CMPLNT_FR_TM          datetime64[ns]\n",
       "ADDR_PCT_CD                  float64\n",
       "RPT_DT                datetime64[ns]\n",
       "KY_CD                          int64\n",
       "OFNS_DESC                     object\n",
       "CRM_ATPT_CPTD_CD              object\n",
       "LAW_CAT_CD                    object\n",
       "JURIS_DESC                    object\n",
       "JURISDICTION_CODE            float64\n",
       "SUSP_AGE_GROUP                object\n",
       "SUSP_RACE                     object\n",
       "SUSP_SEX                      object\n",
       "PATROL_BORO                   object\n",
       "VIC_AGE_GROUP                 object\n",
       "VIC_RACE                      object\n",
       "VIC_SEX                       object\n",
       "year_of_occurance              int64\n",
       "month_of_occurance             int64\n",
       "day_of_week                   object\n",
       "daytype                       object\n",
       "dtype: object"
      ]
     },
     "execution_count": 34,
     "metadata": {},
     "output_type": "execute_result"
    }
   ],
   "source": [
    "df2.dtypes"
   ]
  },
  {
   "cell_type": "raw",
   "metadata": {},
   "source": [
    "##The other attributes of our data frame also are in object datatype. We used the below code to convert the attributes with object datatype to category datatype. "
   ]
  },
  {
   "cell_type": "code",
   "execution_count": 35,
   "metadata": {
    "ExecuteTime": {
     "end_time": "2020-11-09T18:14:43.163633Z",
     "start_time": "2020-11-09T18:14:43.148010Z"
    }
   },
   "outputs": [],
   "source": [
    "df3 = df2.copy()"
   ]
  },
  {
   "cell_type": "code",
   "execution_count": 36,
   "metadata": {
    "ExecuteTime": {
     "end_time": "2020-11-09T18:18:47.753746Z",
     "start_time": "2020-11-09T18:18:47.483465Z"
    },
    "scrolled": true
   },
   "outputs": [
    {
     "data": {
      "text/plain": [
       "CMPLNT_NUM                  category\n",
       "CMPLNT_FR_TM          datetime64[ns]\n",
       "ADDR_PCT_CD                 category\n",
       "RPT_DT                datetime64[ns]\n",
       "KY_CD                       category\n",
       "OFNS_DESC                   category\n",
       "CRM_ATPT_CPTD_CD            category\n",
       "LAW_CAT_CD                  category\n",
       "JURIS_DESC                  category\n",
       "JURISDICTION_CODE           category\n",
       "SUSP_AGE_GROUP              category\n",
       "SUSP_RACE                   category\n",
       "SUSP_SEX                    category\n",
       "PATROL_BORO                 category\n",
       "VIC_AGE_GROUP               category\n",
       "VIC_RACE                    category\n",
       "VIC_SEX                     category\n",
       "year_of_occurance           category\n",
       "month_of_occurance          category\n",
       "day_of_week                 category\n",
       "daytype                     category\n",
       "dtype: object"
      ]
     },
     "execution_count": 36,
     "metadata": {},
     "output_type": "execute_result"
    }
   ],
   "source": [
    "col = df3.select_dtypes(exclude='datetime').columns.to_list()\n",
    "df3[col]=df3[col].astype('category')\n",
    "df3.dtypes"
   ]
  },
  {
   "cell_type": "raw",
   "metadata": {},
   "source": [
    "#As we were exploring the data, we observed that some of the categorical attributes have null values, hence we used fillna() method to replace these null values with the mode of their respective columns. We used mode as it represents the frequently occured value in a column and since these attributes are categorical it would not be appropriate to use mean values to replace the null values."
   ]
  },
  {
   "cell_type": "code",
   "execution_count": 37,
   "metadata": {},
   "outputs": [],
   "source": [
    "# df3['rpt_dt'] = df3['rpt_dt'].fillna(value=df3[\"rpt_dt\"].mode())"
   ]
  },
  {
   "cell_type": "code",
   "execution_count": 38,
   "metadata": {},
   "outputs": [],
   "source": [
    "#df3['ofns_desc'].fillna(df3['ofns_desc'].mode()[0], inplace=True)"
   ]
  },
  {
   "cell_type": "code",
   "execution_count": 39,
   "metadata": {},
   "outputs": [],
   "source": [
    "#df3['ky_cd'].fillna(df3['ky_cd'].mode()[0], inplace=True)"
   ]
  },
  {
   "cell_type": "code",
   "execution_count": 40,
   "metadata": {},
   "outputs": [],
   "source": [
    "#df3['pd_cd'].fillna(df3['pd_cd'].mode()[0], inplace=True)"
   ]
  },
  {
   "cell_type": "code",
   "execution_count": 41,
   "metadata": {},
   "outputs": [],
   "source": [
    "#df3['jurisdiction_code'].fillna(df3['jurisdiction_code'].mode()[0], inplace=True)"
   ]
  },
  {
   "cell_type": "code",
   "execution_count": 42,
   "metadata": {},
   "outputs": [],
   "source": [
    "#df3['pd_desc'].fillna(df3['pd_desc'].mode()[0], inplace=True)"
   ]
  },
  {
   "cell_type": "code",
   "execution_count": 43,
   "metadata": {},
   "outputs": [],
   "source": [
    "#df3['boro_nm'].fillna(df3['boro_nm'].mode()[0], inplace=True)"
   ]
  },
  {
   "cell_type": "code",
   "execution_count": 44,
   "metadata": {},
   "outputs": [],
   "source": [
    "#df3['loc_of_occur_desc'].fillna(df3['loc_of_occur_desc'].mode()[0], inplace=True)"
   ]
  },
  {
   "cell_type": "code",
   "execution_count": 45,
   "metadata": {},
   "outputs": [],
   "source": [
    "#df3['prem_typ_desc'].fillna(df3['prem_typ_desc'].mode()[0], inplace=True)"
   ]
  },
  {
   "cell_type": "code",
   "execution_count": 46,
   "metadata": {},
   "outputs": [],
   "source": [
    "#df3['susp_age_group'].fillna(df3['susp_age_group'].mode()[0], inplace=True)"
   ]
  },
  {
   "cell_type": "code",
   "execution_count": 47,
   "metadata": {},
   "outputs": [],
   "source": [
    "#df3['susp_race'].fillna(df3['susp_race'].mode()[0], inplace=True)"
   ]
  },
  {
   "cell_type": "code",
   "execution_count": 48,
   "metadata": {},
   "outputs": [],
   "source": [
    "#df3['susp_sex'].fillna(df3['susp_sex'].mode()[0], inplace=True)"
   ]
  },
  {
   "cell_type": "code",
   "execution_count": 49,
   "metadata": {},
   "outputs": [],
   "source": [
    "#df3['patrol_boro'].fillna(df3['patrol_boro'].mode()[0], inplace=True)"
   ]
  },
  {
   "cell_type": "code",
   "execution_count": 50,
   "metadata": {},
   "outputs": [],
   "source": [
    "#df3['vic_age_group'].fillna(df3['vic_age_group'].mode()[0], inplace=True)"
   ]
  },
  {
   "cell_type": "raw",
   "metadata": {},
   "source": [
    "#As we considered 'addr_pct_cd'(the precinct in which crime incident occured) as a categorical attribute, we used label encoder inorder to give a numeric label for that attribute. As this will help us to count the frequency of crimes per precinct."
   ]
  },
  {
   "cell_type": "code",
   "execution_count": 51,
   "metadata": {
    "ExecuteTime": {
     "end_time": "2020-11-09T18:18:55.111733Z",
     "start_time": "2020-11-09T18:18:55.096106Z"
    }
   },
   "outputs": [],
   "source": [
    "#labelencoder = LabelEncoder()\n",
    "# Assigning numerical values and storing in another column\n",
    "#df3['precinct'] = labelencoder.fit_transform(df3['addr_pct_cd'])\n",
    "#print(df3)"
   ]
  },
  {
   "cell_type": "markdown",
   "metadata": {},
   "source": [
    "## Calculate Number of crimes by precinct"
   ]
  },
  {
   "cell_type": "code",
   "execution_count": 38,
   "metadata": {
    "ExecuteTime": {
     "end_time": "2020-11-09T04:10:44.601554Z",
     "start_time": "2020-11-09T04:10:44.104765Z"
    },
    "scrolled": true
   },
   "outputs": [
    {
     "data": {
      "text/plain": [
       "ADDR_PCT_CD       \n",
       "1.0          26324   2017-12-28\n",
       "             49743   2017-12-25\n",
       "             16703   2017-12-17\n",
       "             15593   2017-12-16\n",
       "             38255   2017-12-13\n",
       "                        ...    \n",
       "123.0        32523   2011-02-12\n",
       "             54151   2011-02-05\n",
       "             33408   2011-02-05\n",
       "             55698   2011-02-01\n",
       "             22095   2011-01-19\n",
       "Name: RPT_DT, Length: 59831, dtype: datetime64[ns]"
      ]
     },
     "execution_count": 38,
     "metadata": {},
     "output_type": "execute_result"
    }
   ],
   "source": [
    "tb1 = df3.groupby('ADDR_PCT_CD')['RPT_DT'].apply(lambda x: x.sort_values(ascending = False))\n",
    "tb1"
   ]
  },
  {
   "cell_type": "raw",
   "metadata": {},
   "source": [
    "Capturing the Groupby and Count output from above into a dataframe. Further, merging the output with df3"
   ]
  },
  {
   "cell_type": "code",
   "execution_count": 39,
   "metadata": {
    "ExecuteTime": {
     "end_time": "2020-11-09T22:47:11.306746Z",
     "start_time": "2020-11-09T22:47:07.565728Z"
    }
   },
   "outputs": [
    {
     "data": {
      "text/html": [
       "<div>\n",
       "<style scoped>\n",
       "    .dataframe tbody tr th:only-of-type {\n",
       "        vertical-align: middle;\n",
       "    }\n",
       "\n",
       "    .dataframe tbody tr th {\n",
       "        vertical-align: top;\n",
       "    }\n",
       "\n",
       "    .dataframe thead th {\n",
       "        text-align: right;\n",
       "    }\n",
       "</style>\n",
       "<table border=\"1\" class=\"dataframe\">\n",
       "  <thead>\n",
       "    <tr style=\"text-align: right;\">\n",
       "      <th></th>\n",
       "      <th>RPT_DT</th>\n",
       "      <th>ADDR_PCT_CD</th>\n",
       "      <th>count</th>\n",
       "      <th>CMPLNT_NUM</th>\n",
       "      <th>CMPLNT_FR_TM</th>\n",
       "      <th>KY_CD</th>\n",
       "      <th>OFNS_DESC</th>\n",
       "      <th>CRM_ATPT_CPTD_CD</th>\n",
       "      <th>LAW_CAT_CD</th>\n",
       "      <th>JURIS_DESC</th>\n",
       "      <th>...</th>\n",
       "      <th>SUSP_RACE</th>\n",
       "      <th>SUSP_SEX</th>\n",
       "      <th>PATROL_BORO</th>\n",
       "      <th>VIC_AGE_GROUP</th>\n",
       "      <th>VIC_RACE</th>\n",
       "      <th>VIC_SEX</th>\n",
       "      <th>year_of_occurance</th>\n",
       "      <th>month_of_occurance</th>\n",
       "      <th>day_of_week</th>\n",
       "      <th>daytype</th>\n",
       "    </tr>\n",
       "  </thead>\n",
       "  <tbody>\n",
       "    <tr>\n",
       "      <th>0</th>\n",
       "      <td>2006-04-18</td>\n",
       "      <td>113.0</td>\n",
       "      <td>1</td>\n",
       "      <td>476555488</td>\n",
       "      <td>2020-11-10 13:00:00</td>\n",
       "      <td>578</td>\n",
       "      <td>HARRASSMENT 2</td>\n",
       "      <td>ATTEMPTED</td>\n",
       "      <td>VIOLATION</td>\n",
       "      <td>N.Y. POLICE DEPT</td>\n",
       "      <td>...</td>\n",
       "      <td>BLACK</td>\n",
       "      <td>M</td>\n",
       "      <td>PATROL BORO QUEENS SOUTH</td>\n",
       "      <td>25-44</td>\n",
       "      <td>BLACK</td>\n",
       "      <td>F</td>\n",
       "      <td>2006</td>\n",
       "      <td>4</td>\n",
       "      <td>Tuesday</td>\n",
       "      <td>weekday</td>\n",
       "    </tr>\n",
       "    <tr>\n",
       "      <th>1</th>\n",
       "      <td>2006-04-19</td>\n",
       "      <td>105.0</td>\n",
       "      <td>1</td>\n",
       "      <td>482185331</td>\n",
       "      <td>2020-11-10 08:35:00</td>\n",
       "      <td>344</td>\n",
       "      <td>ASSAULT 3 &amp; RELATED OFFENSES</td>\n",
       "      <td>COMPLETED</td>\n",
       "      <td>MISDEMEANOR</td>\n",
       "      <td>N.Y. POLICE DEPT</td>\n",
       "      <td>...</td>\n",
       "      <td>BLACK</td>\n",
       "      <td>M</td>\n",
       "      <td>PATROL BORO QUEENS SOUTH</td>\n",
       "      <td>25-44</td>\n",
       "      <td>WHITE</td>\n",
       "      <td>M</td>\n",
       "      <td>2006</td>\n",
       "      <td>4</td>\n",
       "      <td>Wednesday</td>\n",
       "      <td>weekday</td>\n",
       "    </tr>\n",
       "    <tr>\n",
       "      <th>2</th>\n",
       "      <td>2006-04-20</td>\n",
       "      <td>44.0</td>\n",
       "      <td>1</td>\n",
       "      <td>421451064</td>\n",
       "      <td>2020-11-10 12:50:00</td>\n",
       "      <td>578</td>\n",
       "      <td>HARRASSMENT 2</td>\n",
       "      <td>COMPLETED</td>\n",
       "      <td>VIOLATION</td>\n",
       "      <td>N.Y. POLICE DEPT</td>\n",
       "      <td>...</td>\n",
       "      <td>BLACK</td>\n",
       "      <td>F</td>\n",
       "      <td>PATROL BORO BRONX</td>\n",
       "      <td>45-64</td>\n",
       "      <td>BLACK</td>\n",
       "      <td>F</td>\n",
       "      <td>2006</td>\n",
       "      <td>4</td>\n",
       "      <td>Thursday</td>\n",
       "      <td>weekday</td>\n",
       "    </tr>\n",
       "    <tr>\n",
       "      <th>3</th>\n",
       "      <td>2006-04-21</td>\n",
       "      <td>69.0</td>\n",
       "      <td>1</td>\n",
       "      <td>730104949</td>\n",
       "      <td>2020-11-10 14:53:00</td>\n",
       "      <td>578</td>\n",
       "      <td>HARRASSMENT 2</td>\n",
       "      <td>COMPLETED</td>\n",
       "      <td>VIOLATION</td>\n",
       "      <td>N.Y. POLICE DEPT</td>\n",
       "      <td>...</td>\n",
       "      <td>BLACK</td>\n",
       "      <td>M</td>\n",
       "      <td>PATROL BORO BKLYN SOUTH</td>\n",
       "      <td>65+</td>\n",
       "      <td>BLACK</td>\n",
       "      <td>F</td>\n",
       "      <td>2006</td>\n",
       "      <td>4</td>\n",
       "      <td>Friday</td>\n",
       "      <td>weekday</td>\n",
       "    </tr>\n",
       "    <tr>\n",
       "      <th>4</th>\n",
       "      <td>2006-04-22</td>\n",
       "      <td>113.0</td>\n",
       "      <td>1</td>\n",
       "      <td>594816332</td>\n",
       "      <td>2020-11-10 16:10:00</td>\n",
       "      <td>344</td>\n",
       "      <td>ASSAULT 3 &amp; RELATED OFFENSES</td>\n",
       "      <td>COMPLETED</td>\n",
       "      <td>MISDEMEANOR</td>\n",
       "      <td>N.Y. POLICE DEPT</td>\n",
       "      <td>...</td>\n",
       "      <td>BLACK</td>\n",
       "      <td>M</td>\n",
       "      <td>PATROL BORO QUEENS SOUTH</td>\n",
       "      <td>18-24</td>\n",
       "      <td>BLACK</td>\n",
       "      <td>F</td>\n",
       "      <td>2006</td>\n",
       "      <td>4</td>\n",
       "      <td>Saturday</td>\n",
       "      <td>weekend</td>\n",
       "    </tr>\n",
       "    <tr>\n",
       "      <th>...</th>\n",
       "      <td>...</td>\n",
       "      <td>...</td>\n",
       "      <td>...</td>\n",
       "      <td>...</td>\n",
       "      <td>...</td>\n",
       "      <td>...</td>\n",
       "      <td>...</td>\n",
       "      <td>...</td>\n",
       "      <td>...</td>\n",
       "      <td>...</td>\n",
       "      <td>...</td>\n",
       "      <td>...</td>\n",
       "      <td>...</td>\n",
       "      <td>...</td>\n",
       "      <td>...</td>\n",
       "      <td>...</td>\n",
       "      <td>...</td>\n",
       "      <td>...</td>\n",
       "      <td>...</td>\n",
       "      <td>...</td>\n",
       "      <td>...</td>\n",
       "    </tr>\n",
       "    <tr>\n",
       "      <th>59826</th>\n",
       "      <td>2019-02-17</td>\n",
       "      <td>67.0</td>\n",
       "      <td>1</td>\n",
       "      <td>810533252</td>\n",
       "      <td>2020-11-10 21:40:00</td>\n",
       "      <td>578</td>\n",
       "      <td>HARRASSMENT 2</td>\n",
       "      <td>COMPLETED</td>\n",
       "      <td>VIOLATION</td>\n",
       "      <td>N.Y. POLICE DEPT</td>\n",
       "      <td>...</td>\n",
       "      <td>BLACK</td>\n",
       "      <td>F</td>\n",
       "      <td>PATROL BORO BKLYN SOUTH</td>\n",
       "      <td>25-44</td>\n",
       "      <td>BLACK</td>\n",
       "      <td>F</td>\n",
       "      <td>2019</td>\n",
       "      <td>2</td>\n",
       "      <td>Sunday</td>\n",
       "      <td>weekend</td>\n",
       "    </tr>\n",
       "    <tr>\n",
       "      <th>59827</th>\n",
       "      <td>2019-03-18</td>\n",
       "      <td>45.0</td>\n",
       "      <td>1</td>\n",
       "      <td>995833483</td>\n",
       "      <td>2020-11-10 15:00:00</td>\n",
       "      <td>116</td>\n",
       "      <td>SEX CRIMES</td>\n",
       "      <td>COMPLETED</td>\n",
       "      <td>FELONY</td>\n",
       "      <td>N.Y. POLICE DEPT</td>\n",
       "      <td>...</td>\n",
       "      <td>WHITE HISPANIC</td>\n",
       "      <td>M</td>\n",
       "      <td>PATROL BORO BRONX</td>\n",
       "      <td>&lt;18</td>\n",
       "      <td>WHITE HISPANIC</td>\n",
       "      <td>F</td>\n",
       "      <td>2019</td>\n",
       "      <td>3</td>\n",
       "      <td>Monday</td>\n",
       "      <td>weekday</td>\n",
       "    </tr>\n",
       "    <tr>\n",
       "      <th>59828</th>\n",
       "      <td>2019-03-18</td>\n",
       "      <td>66.0</td>\n",
       "      <td>1</td>\n",
       "      <td>166879036</td>\n",
       "      <td>2020-11-10 00:01:00</td>\n",
       "      <td>104</td>\n",
       "      <td>RAPE</td>\n",
       "      <td>COMPLETED</td>\n",
       "      <td>FELONY</td>\n",
       "      <td>N.Y. POLICE DEPT</td>\n",
       "      <td>...</td>\n",
       "      <td>UNKNOWN</td>\n",
       "      <td>M</td>\n",
       "      <td>PATROL BORO BKLYN SOUTH</td>\n",
       "      <td>18-24</td>\n",
       "      <td>UNKNOWN</td>\n",
       "      <td>F</td>\n",
       "      <td>2019</td>\n",
       "      <td>3</td>\n",
       "      <td>Monday</td>\n",
       "      <td>weekday</td>\n",
       "    </tr>\n",
       "    <tr>\n",
       "      <th>59829</th>\n",
       "      <td>2019-04-08</td>\n",
       "      <td>121.0</td>\n",
       "      <td>1</td>\n",
       "      <td>327146009</td>\n",
       "      <td>2020-11-10 14:00:00</td>\n",
       "      <td>104</td>\n",
       "      <td>RAPE</td>\n",
       "      <td>COMPLETED</td>\n",
       "      <td>FELONY</td>\n",
       "      <td>N.Y. POLICE DEPT</td>\n",
       "      <td>...</td>\n",
       "      <td>BLACK</td>\n",
       "      <td>M</td>\n",
       "      <td>PATROL BORO STATEN ISLAND</td>\n",
       "      <td>25-44</td>\n",
       "      <td>BLACK</td>\n",
       "      <td>F</td>\n",
       "      <td>2019</td>\n",
       "      <td>4</td>\n",
       "      <td>Monday</td>\n",
       "      <td>weekday</td>\n",
       "    </tr>\n",
       "    <tr>\n",
       "      <th>59830</th>\n",
       "      <td>2019-04-29</td>\n",
       "      <td>47.0</td>\n",
       "      <td>1</td>\n",
       "      <td>940596075</td>\n",
       "      <td>2020-11-10 06:00:00</td>\n",
       "      <td>361</td>\n",
       "      <td>OFF. AGNST PUB ORD SENSBLTY &amp;</td>\n",
       "      <td>COMPLETED</td>\n",
       "      <td>MISDEMEANOR</td>\n",
       "      <td>N.Y. POLICE DEPT</td>\n",
       "      <td>...</td>\n",
       "      <td>BLACK</td>\n",
       "      <td>F</td>\n",
       "      <td>PATROL BORO BRONX</td>\n",
       "      <td>25-44</td>\n",
       "      <td>BLACK</td>\n",
       "      <td>M</td>\n",
       "      <td>2019</td>\n",
       "      <td>4</td>\n",
       "      <td>Monday</td>\n",
       "      <td>weekday</td>\n",
       "    </tr>\n",
       "  </tbody>\n",
       "</table>\n",
       "<p>59831 rows × 22 columns</p>\n",
       "</div>"
      ],
      "text/plain": [
       "          RPT_DT ADDR_PCT_CD  count CMPLNT_NUM        CMPLNT_FR_TM KY_CD  \\\n",
       "0     2006-04-18       113.0      1  476555488 2020-11-10 13:00:00   578   \n",
       "1     2006-04-19       105.0      1  482185331 2020-11-10 08:35:00   344   \n",
       "2     2006-04-20        44.0      1  421451064 2020-11-10 12:50:00   578   \n",
       "3     2006-04-21        69.0      1  730104949 2020-11-10 14:53:00   578   \n",
       "4     2006-04-22       113.0      1  594816332 2020-11-10 16:10:00   344   \n",
       "...          ...         ...    ...        ...                 ...   ...   \n",
       "59826 2019-02-17        67.0      1  810533252 2020-11-10 21:40:00   578   \n",
       "59827 2019-03-18        45.0      1  995833483 2020-11-10 15:00:00   116   \n",
       "59828 2019-03-18        66.0      1  166879036 2020-11-10 00:01:00   104   \n",
       "59829 2019-04-08       121.0      1  327146009 2020-11-10 14:00:00   104   \n",
       "59830 2019-04-29        47.0      1  940596075 2020-11-10 06:00:00   361   \n",
       "\n",
       "                           OFNS_DESC CRM_ATPT_CPTD_CD   LAW_CAT_CD  \\\n",
       "0                      HARRASSMENT 2        ATTEMPTED    VIOLATION   \n",
       "1       ASSAULT 3 & RELATED OFFENSES        COMPLETED  MISDEMEANOR   \n",
       "2                      HARRASSMENT 2        COMPLETED    VIOLATION   \n",
       "3                      HARRASSMENT 2        COMPLETED    VIOLATION   \n",
       "4       ASSAULT 3 & RELATED OFFENSES        COMPLETED  MISDEMEANOR   \n",
       "...                              ...              ...          ...   \n",
       "59826                  HARRASSMENT 2        COMPLETED    VIOLATION   \n",
       "59827                     SEX CRIMES        COMPLETED       FELONY   \n",
       "59828                           RAPE        COMPLETED       FELONY   \n",
       "59829                           RAPE        COMPLETED       FELONY   \n",
       "59830  OFF. AGNST PUB ORD SENSBLTY &        COMPLETED  MISDEMEANOR   \n",
       "\n",
       "             JURIS_DESC  ...       SUSP_RACE SUSP_SEX  \\\n",
       "0      N.Y. POLICE DEPT  ...           BLACK        M   \n",
       "1      N.Y. POLICE DEPT  ...           BLACK        M   \n",
       "2      N.Y. POLICE DEPT  ...           BLACK        F   \n",
       "3      N.Y. POLICE DEPT  ...           BLACK        M   \n",
       "4      N.Y. POLICE DEPT  ...           BLACK        M   \n",
       "...                 ...  ...             ...      ...   \n",
       "59826  N.Y. POLICE DEPT  ...           BLACK        F   \n",
       "59827  N.Y. POLICE DEPT  ...  WHITE HISPANIC        M   \n",
       "59828  N.Y. POLICE DEPT  ...         UNKNOWN        M   \n",
       "59829  N.Y. POLICE DEPT  ...           BLACK        M   \n",
       "59830  N.Y. POLICE DEPT  ...           BLACK        F   \n",
       "\n",
       "                     PATROL_BORO VIC_AGE_GROUP        VIC_RACE VIC_SEX  \\\n",
       "0       PATROL BORO QUEENS SOUTH         25-44           BLACK       F   \n",
       "1       PATROL BORO QUEENS SOUTH         25-44           WHITE       M   \n",
       "2              PATROL BORO BRONX         45-64           BLACK       F   \n",
       "3        PATROL BORO BKLYN SOUTH           65+           BLACK       F   \n",
       "4       PATROL BORO QUEENS SOUTH         18-24           BLACK       F   \n",
       "...                          ...           ...             ...     ...   \n",
       "59826    PATROL BORO BKLYN SOUTH         25-44           BLACK       F   \n",
       "59827          PATROL BORO BRONX           <18  WHITE HISPANIC       F   \n",
       "59828    PATROL BORO BKLYN SOUTH         18-24         UNKNOWN       F   \n",
       "59829  PATROL BORO STATEN ISLAND         25-44           BLACK       F   \n",
       "59830          PATROL BORO BRONX         25-44           BLACK       M   \n",
       "\n",
       "      year_of_occurance month_of_occurance day_of_week  daytype  \n",
       "0                  2006                  4     Tuesday  weekday  \n",
       "1                  2006                  4   Wednesday  weekday  \n",
       "2                  2006                  4    Thursday  weekday  \n",
       "3                  2006                  4      Friday  weekday  \n",
       "4                  2006                  4    Saturday  weekend  \n",
       "...                 ...                ...         ...      ...  \n",
       "59826              2019                  2      Sunday  weekend  \n",
       "59827              2019                  3      Monday  weekday  \n",
       "59828              2019                  3      Monday  weekday  \n",
       "59829              2019                  4      Monday  weekday  \n",
       "59830              2019                  4      Monday  weekday  \n",
       "\n",
       "[59831 rows x 22 columns]"
      ]
     },
     "execution_count": 39,
     "metadata": {},
     "output_type": "execute_result"
    }
   ],
   "source": [
    "tb1 = df3.groupby(['ADDR_PCT_CD','RPT_DT'])['CMPLNT_NUM'].agg(['count']).sort_values('RPT_DT').reset_index(level=0)\n",
    "tb1.reset_index(level=0, inplace=True)\n",
    "df4 = pd.merge(tb1, df3,  how='right', left_on=['ADDR_PCT_CD','RPT_DT'], right_on = ['ADDR_PCT_CD','RPT_DT'])\n",
    "df4"
   ]
  },
  {
   "cell_type": "code",
   "execution_count": 40,
   "metadata": {
    "ExecuteTime": {
     "end_time": "2020-11-09T22:59:32.802294Z",
     "start_time": "2020-11-09T22:59:32.248470Z"
    }
   },
   "outputs": [
    {
     "data": {
      "text/plain": [
       "(59754, 23)"
      ]
     },
     "execution_count": 40,
     "metadata": {},
     "output_type": "execute_result"
    }
   ],
   "source": [
    "df4['time_diff'] = df4.sort_values(['ADDR_PCT_CD','RPT_DT']).groupby('ADDR_PCT_CD')['RPT_DT'].diff()\n",
    "df4 = df4.dropna(subset=['time_diff'])\n",
    "df4.shape"
   ]
  },
  {
   "cell_type": "code",
   "execution_count": 41,
   "metadata": {
    "ExecuteTime": {
     "end_time": "2020-11-09T22:59:49.949152Z",
     "start_time": "2020-11-09T22:59:49.855249Z"
    }
   },
   "outputs": [
    {
     "data": {
      "text/plain": [
       "RPT_DT                0\n",
       "ADDR_PCT_CD           0\n",
       "count                 0\n",
       "CMPLNT_NUM            0\n",
       "CMPLNT_FR_TM          0\n",
       "KY_CD                 0\n",
       "OFNS_DESC             0\n",
       "CRM_ATPT_CPTD_CD      0\n",
       "LAW_CAT_CD            0\n",
       "JURIS_DESC            0\n",
       "JURISDICTION_CODE     0\n",
       "SUSP_AGE_GROUP        0\n",
       "SUSP_RACE             0\n",
       "SUSP_SEX              0\n",
       "PATROL_BORO           0\n",
       "VIC_AGE_GROUP         0\n",
       "VIC_RACE              0\n",
       "VIC_SEX               0\n",
       "year_of_occurance     0\n",
       "month_of_occurance    0\n",
       "day_of_week           0\n",
       "daytype               0\n",
       "time_diff             0\n",
       "dtype: int64"
      ]
     },
     "execution_count": 41,
     "metadata": {},
     "output_type": "execute_result"
    }
   ],
   "source": [
    "df4.isnull().sum()"
   ]
  },
  {
   "cell_type": "code",
   "execution_count": 42,
   "metadata": {
    "ExecuteTime": {
     "end_time": "2020-11-09T23:25:14.793279Z",
     "start_time": "2020-11-09T23:25:14.762082Z"
    }
   },
   "outputs": [
    {
     "data": {
      "text/plain": [
       "RPT_DT                 datetime64[ns]\n",
       "ADDR_PCT_CD                  category\n",
       "count                           int64\n",
       "CMPLNT_NUM                   category\n",
       "CMPLNT_FR_TM           datetime64[ns]\n",
       "KY_CD                        category\n",
       "OFNS_DESC                    category\n",
       "CRM_ATPT_CPTD_CD             category\n",
       "LAW_CAT_CD                   category\n",
       "JURIS_DESC                   category\n",
       "JURISDICTION_CODE            category\n",
       "SUSP_AGE_GROUP               category\n",
       "SUSP_RACE                    category\n",
       "SUSP_SEX                     category\n",
       "PATROL_BORO                  category\n",
       "VIC_AGE_GROUP                category\n",
       "VIC_RACE                     category\n",
       "VIC_SEX                      category\n",
       "year_of_occurance            category\n",
       "month_of_occurance           category\n",
       "day_of_week                  category\n",
       "daytype                      category\n",
       "time_diff             timedelta64[ns]\n",
       "dtype: object"
      ]
     },
     "execution_count": 42,
     "metadata": {},
     "output_type": "execute_result"
    }
   ],
   "source": [
    "df4.dtypes"
   ]
  },
  {
   "cell_type": "raw",
   "metadata": {},
   "source": [
    "Converting time_diff into int"
   ]
  },
  {
   "cell_type": "code",
   "execution_count": 43,
   "metadata": {
    "ExecuteTime": {
     "end_time": "2020-11-09T23:59:36.945881Z",
     "start_time": "2020-11-09T23:59:36.892053Z"
    }
   },
   "outputs": [
    {
     "name": "stderr",
     "output_type": "stream",
     "text": [
      "<ipython-input-43-0d871a66f484>:1: SettingWithCopyWarning: \n",
      "A value is trying to be set on a copy of a slice from a DataFrame.\n",
      "Try using .loc[row_indexer,col_indexer] = value instead\n",
      "\n",
      "See the caveats in the documentation: https://pandas.pydata.org/pandas-docs/stable/user_guide/indexing.html#returning-a-view-versus-a-copy\n",
      "  df4['time_diff'] = df4['time_diff'].astype('timedelta64[D]').astype(int)\n"
     ]
    }
   ],
   "source": [
    "df4['time_diff'] = df4['time_diff'].astype('timedelta64[D]').astype(int)"
   ]
  },
  {
   "cell_type": "code",
   "execution_count": 44,
   "metadata": {
    "ExecuteTime": {
     "end_time": "2020-11-09T23:59:39.717287Z",
     "start_time": "2020-11-09T23:59:39.701706Z"
    }
   },
   "outputs": [
    {
     "data": {
      "text/plain": [
       "RPT_DT                datetime64[ns]\n",
       "ADDR_PCT_CD                 category\n",
       "count                          int64\n",
       "CMPLNT_NUM                  category\n",
       "CMPLNT_FR_TM          datetime64[ns]\n",
       "KY_CD                       category\n",
       "OFNS_DESC                   category\n",
       "CRM_ATPT_CPTD_CD            category\n",
       "LAW_CAT_CD                  category\n",
       "JURIS_DESC                  category\n",
       "JURISDICTION_CODE           category\n",
       "SUSP_AGE_GROUP              category\n",
       "SUSP_RACE                   category\n",
       "SUSP_SEX                    category\n",
       "PATROL_BORO                 category\n",
       "VIC_AGE_GROUP               category\n",
       "VIC_RACE                    category\n",
       "VIC_SEX                     category\n",
       "year_of_occurance           category\n",
       "month_of_occurance          category\n",
       "day_of_week                 category\n",
       "daytype                     category\n",
       "time_diff                      int32\n",
       "dtype: object"
      ]
     },
     "execution_count": 44,
     "metadata": {},
     "output_type": "execute_result"
    }
   ],
   "source": [
    "df4.dtypes"
   ]
  },
  {
   "cell_type": "code",
   "execution_count": 45,
   "metadata": {
    "ExecuteTime": {
     "end_time": "2020-11-10T00:01:18.709769Z",
     "start_time": "2020-11-10T00:01:18.678561Z"
    }
   },
   "outputs": [
    {
     "data": {
      "text/html": [
       "<div>\n",
       "<style scoped>\n",
       "    .dataframe tbody tr th:only-of-type {\n",
       "        vertical-align: middle;\n",
       "    }\n",
       "\n",
       "    .dataframe tbody tr th {\n",
       "        vertical-align: top;\n",
       "    }\n",
       "\n",
       "    .dataframe thead th {\n",
       "        text-align: right;\n",
       "    }\n",
       "</style>\n",
       "<table border=\"1\" class=\"dataframe\">\n",
       "  <thead>\n",
       "    <tr style=\"text-align: right;\">\n",
       "      <th></th>\n",
       "      <th>RPT_DT</th>\n",
       "      <th>ADDR_PCT_CD</th>\n",
       "      <th>count</th>\n",
       "      <th>CMPLNT_NUM</th>\n",
       "      <th>CMPLNT_FR_TM</th>\n",
       "      <th>KY_CD</th>\n",
       "      <th>OFNS_DESC</th>\n",
       "      <th>CRM_ATPT_CPTD_CD</th>\n",
       "      <th>LAW_CAT_CD</th>\n",
       "      <th>JURIS_DESC</th>\n",
       "      <th>...</th>\n",
       "      <th>SUSP_SEX</th>\n",
       "      <th>PATROL_BORO</th>\n",
       "      <th>VIC_AGE_GROUP</th>\n",
       "      <th>VIC_RACE</th>\n",
       "      <th>VIC_SEX</th>\n",
       "      <th>year_of_occurance</th>\n",
       "      <th>month_of_occurance</th>\n",
       "      <th>day_of_week</th>\n",
       "      <th>daytype</th>\n",
       "      <th>time_diff</th>\n",
       "    </tr>\n",
       "  </thead>\n",
       "  <tbody>\n",
       "    <tr>\n",
       "      <th>14</th>\n",
       "      <td>2011-01-01</td>\n",
       "      <td>69.0</td>\n",
       "      <td>1</td>\n",
       "      <td>994720437</td>\n",
       "      <td>2020-11-10 10:00:00</td>\n",
       "      <td>344</td>\n",
       "      <td>ASSAULT 3 &amp; RELATED OFFENSES</td>\n",
       "      <td>COMPLETED</td>\n",
       "      <td>MISDEMEANOR</td>\n",
       "      <td>N.Y. HOUSING POLICE</td>\n",
       "      <td>...</td>\n",
       "      <td>M</td>\n",
       "      <td>PATROL BORO BKLYN SOUTH</td>\n",
       "      <td>25-44</td>\n",
       "      <td>BLACK</td>\n",
       "      <td>F</td>\n",
       "      <td>2011</td>\n",
       "      <td>1</td>\n",
       "      <td>Saturday</td>\n",
       "      <td>weekend</td>\n",
       "      <td>1716</td>\n",
       "    </tr>\n",
       "    <tr>\n",
       "      <th>15</th>\n",
       "      <td>2011-01-01</td>\n",
       "      <td>105.0</td>\n",
       "      <td>2</td>\n",
       "      <td>484630801</td>\n",
       "      <td>2020-11-10 16:00:00</td>\n",
       "      <td>106</td>\n",
       "      <td>FELONY ASSAULT</td>\n",
       "      <td>ATTEMPTED</td>\n",
       "      <td>FELONY</td>\n",
       "      <td>N.Y. POLICE DEPT</td>\n",
       "      <td>...</td>\n",
       "      <td>M</td>\n",
       "      <td>PATROL BORO QUEENS SOUTH</td>\n",
       "      <td>45-64</td>\n",
       "      <td>BLACK</td>\n",
       "      <td>F</td>\n",
       "      <td>2011</td>\n",
       "      <td>1</td>\n",
       "      <td>Saturday</td>\n",
       "      <td>weekend</td>\n",
       "      <td>1718</td>\n",
       "    </tr>\n",
       "    <tr>\n",
       "      <th>19</th>\n",
       "      <td>2011-01-01</td>\n",
       "      <td>42.0</td>\n",
       "      <td>1</td>\n",
       "      <td>284102197</td>\n",
       "      <td>2020-11-10 06:00:00</td>\n",
       "      <td>344</td>\n",
       "      <td>ASSAULT 3 &amp; RELATED OFFENSES</td>\n",
       "      <td>COMPLETED</td>\n",
       "      <td>MISDEMEANOR</td>\n",
       "      <td>N.Y. POLICE DEPT</td>\n",
       "      <td>...</td>\n",
       "      <td>M</td>\n",
       "      <td>PATROL BORO BRONX</td>\n",
       "      <td>25-44</td>\n",
       "      <td>BLACK</td>\n",
       "      <td>F</td>\n",
       "      <td>2011</td>\n",
       "      <td>1</td>\n",
       "      <td>Saturday</td>\n",
       "      <td>weekend</td>\n",
       "      <td>1710</td>\n",
       "    </tr>\n",
       "    <tr>\n",
       "      <th>23</th>\n",
       "      <td>2011-01-01</td>\n",
       "      <td>103.0</td>\n",
       "      <td>1</td>\n",
       "      <td>146619360</td>\n",
       "      <td>2020-11-10 05:45:00</td>\n",
       "      <td>344</td>\n",
       "      <td>ASSAULT 3 &amp; RELATED OFFENSES</td>\n",
       "      <td>COMPLETED</td>\n",
       "      <td>MISDEMEANOR</td>\n",
       "      <td>N.Y. POLICE DEPT</td>\n",
       "      <td>...</td>\n",
       "      <td>M</td>\n",
       "      <td>PATROL BORO QUEENS SOUTH</td>\n",
       "      <td>18-24</td>\n",
       "      <td>WHITE HISPANIC</td>\n",
       "      <td>F</td>\n",
       "      <td>2011</td>\n",
       "      <td>1</td>\n",
       "      <td>Saturday</td>\n",
       "      <td>weekend</td>\n",
       "      <td>1707</td>\n",
       "    </tr>\n",
       "    <tr>\n",
       "      <th>29</th>\n",
       "      <td>2011-01-01</td>\n",
       "      <td>113.0</td>\n",
       "      <td>1</td>\n",
       "      <td>754895381</td>\n",
       "      <td>2020-11-10 13:00:00</td>\n",
       "      <td>351</td>\n",
       "      <td>CRIMINAL MISCHIEF &amp; RELATED OF</td>\n",
       "      <td>COMPLETED</td>\n",
       "      <td>MISDEMEANOR</td>\n",
       "      <td>N.Y. POLICE DEPT</td>\n",
       "      <td>...</td>\n",
       "      <td>M</td>\n",
       "      <td>PATROL BORO QUEENS SOUTH</td>\n",
       "      <td>25-44</td>\n",
       "      <td>BLACK</td>\n",
       "      <td>F</td>\n",
       "      <td>2011</td>\n",
       "      <td>1</td>\n",
       "      <td>Saturday</td>\n",
       "      <td>weekend</td>\n",
       "      <td>1715</td>\n",
       "    </tr>\n",
       "    <tr>\n",
       "      <th>...</th>\n",
       "      <td>...</td>\n",
       "      <td>...</td>\n",
       "      <td>...</td>\n",
       "      <td>...</td>\n",
       "      <td>...</td>\n",
       "      <td>...</td>\n",
       "      <td>...</td>\n",
       "      <td>...</td>\n",
       "      <td>...</td>\n",
       "      <td>...</td>\n",
       "      <td>...</td>\n",
       "      <td>...</td>\n",
       "      <td>...</td>\n",
       "      <td>...</td>\n",
       "      <td>...</td>\n",
       "      <td>...</td>\n",
       "      <td>...</td>\n",
       "      <td>...</td>\n",
       "      <td>...</td>\n",
       "      <td>...</td>\n",
       "      <td>...</td>\n",
       "    </tr>\n",
       "    <tr>\n",
       "      <th>59824</th>\n",
       "      <td>2019-02-02</td>\n",
       "      <td>47.0</td>\n",
       "      <td>1</td>\n",
       "      <td>919443939</td>\n",
       "      <td>2020-11-10 00:00:00</td>\n",
       "      <td>104</td>\n",
       "      <td>RAPE</td>\n",
       "      <td>COMPLETED</td>\n",
       "      <td>FELONY</td>\n",
       "      <td>N.Y. POLICE DEPT</td>\n",
       "      <td>...</td>\n",
       "      <td>M</td>\n",
       "      <td>PATROL BORO BRONX</td>\n",
       "      <td>&lt;18</td>\n",
       "      <td>BLACK</td>\n",
       "      <td>F</td>\n",
       "      <td>2019</td>\n",
       "      <td>2</td>\n",
       "      <td>Saturday</td>\n",
       "      <td>weekend</td>\n",
       "      <td>398</td>\n",
       "    </tr>\n",
       "    <tr>\n",
       "      <th>59825</th>\n",
       "      <td>2019-02-08</td>\n",
       "      <td>63.0</td>\n",
       "      <td>1</td>\n",
       "      <td>324070938</td>\n",
       "      <td>2020-11-10 06:00:00</td>\n",
       "      <td>104</td>\n",
       "      <td>RAPE</td>\n",
       "      <td>COMPLETED</td>\n",
       "      <td>FELONY</td>\n",
       "      <td>N.Y. POLICE DEPT</td>\n",
       "      <td>...</td>\n",
       "      <td>M</td>\n",
       "      <td>PATROL BORO BKLYN SOUTH</td>\n",
       "      <td>25-44</td>\n",
       "      <td>BLACK</td>\n",
       "      <td>F</td>\n",
       "      <td>2019</td>\n",
       "      <td>2</td>\n",
       "      <td>Friday</td>\n",
       "      <td>weekday</td>\n",
       "      <td>405</td>\n",
       "    </tr>\n",
       "    <tr>\n",
       "      <th>59827</th>\n",
       "      <td>2019-03-18</td>\n",
       "      <td>45.0</td>\n",
       "      <td>1</td>\n",
       "      <td>995833483</td>\n",
       "      <td>2020-11-10 15:00:00</td>\n",
       "      <td>116</td>\n",
       "      <td>SEX CRIMES</td>\n",
       "      <td>COMPLETED</td>\n",
       "      <td>FELONY</td>\n",
       "      <td>N.Y. POLICE DEPT</td>\n",
       "      <td>...</td>\n",
       "      <td>M</td>\n",
       "      <td>PATROL BORO BRONX</td>\n",
       "      <td>&lt;18</td>\n",
       "      <td>WHITE HISPANIC</td>\n",
       "      <td>F</td>\n",
       "      <td>2019</td>\n",
       "      <td>3</td>\n",
       "      <td>Monday</td>\n",
       "      <td>weekday</td>\n",
       "      <td>442</td>\n",
       "    </tr>\n",
       "    <tr>\n",
       "      <th>59828</th>\n",
       "      <td>2019-03-18</td>\n",
       "      <td>66.0</td>\n",
       "      <td>1</td>\n",
       "      <td>166879036</td>\n",
       "      <td>2020-11-10 00:01:00</td>\n",
       "      <td>104</td>\n",
       "      <td>RAPE</td>\n",
       "      <td>COMPLETED</td>\n",
       "      <td>FELONY</td>\n",
       "      <td>N.Y. POLICE DEPT</td>\n",
       "      <td>...</td>\n",
       "      <td>M</td>\n",
       "      <td>PATROL BORO BKLYN SOUTH</td>\n",
       "      <td>18-24</td>\n",
       "      <td>UNKNOWN</td>\n",
       "      <td>F</td>\n",
       "      <td>2019</td>\n",
       "      <td>3</td>\n",
       "      <td>Monday</td>\n",
       "      <td>weekday</td>\n",
       "      <td>445</td>\n",
       "    </tr>\n",
       "    <tr>\n",
       "      <th>59829</th>\n",
       "      <td>2019-04-08</td>\n",
       "      <td>121.0</td>\n",
       "      <td>1</td>\n",
       "      <td>327146009</td>\n",
       "      <td>2020-11-10 14:00:00</td>\n",
       "      <td>104</td>\n",
       "      <td>RAPE</td>\n",
       "      <td>COMPLETED</td>\n",
       "      <td>FELONY</td>\n",
       "      <td>N.Y. POLICE DEPT</td>\n",
       "      <td>...</td>\n",
       "      <td>M</td>\n",
       "      <td>PATROL BORO STATEN ISLAND</td>\n",
       "      <td>25-44</td>\n",
       "      <td>BLACK</td>\n",
       "      <td>F</td>\n",
       "      <td>2019</td>\n",
       "      <td>4</td>\n",
       "      <td>Monday</td>\n",
       "      <td>weekday</td>\n",
       "      <td>463</td>\n",
       "    </tr>\n",
       "  </tbody>\n",
       "</table>\n",
       "<p>107 rows × 23 columns</p>\n",
       "</div>"
      ],
      "text/plain": [
       "          RPT_DT ADDR_PCT_CD  count CMPLNT_NUM        CMPLNT_FR_TM KY_CD  \\\n",
       "14    2011-01-01        69.0      1  994720437 2020-11-10 10:00:00   344   \n",
       "15    2011-01-01       105.0      2  484630801 2020-11-10 16:00:00   106   \n",
       "19    2011-01-01        42.0      1  284102197 2020-11-10 06:00:00   344   \n",
       "23    2011-01-01       103.0      1  146619360 2020-11-10 05:45:00   344   \n",
       "29    2011-01-01       113.0      1  754895381 2020-11-10 13:00:00   351   \n",
       "...          ...         ...    ...        ...                 ...   ...   \n",
       "59824 2019-02-02        47.0      1  919443939 2020-11-10 00:00:00   104   \n",
       "59825 2019-02-08        63.0      1  324070938 2020-11-10 06:00:00   104   \n",
       "59827 2019-03-18        45.0      1  995833483 2020-11-10 15:00:00   116   \n",
       "59828 2019-03-18        66.0      1  166879036 2020-11-10 00:01:00   104   \n",
       "59829 2019-04-08       121.0      1  327146009 2020-11-10 14:00:00   104   \n",
       "\n",
       "                            OFNS_DESC CRM_ATPT_CPTD_CD   LAW_CAT_CD  \\\n",
       "14       ASSAULT 3 & RELATED OFFENSES        COMPLETED  MISDEMEANOR   \n",
       "15                     FELONY ASSAULT        ATTEMPTED       FELONY   \n",
       "19       ASSAULT 3 & RELATED OFFENSES        COMPLETED  MISDEMEANOR   \n",
       "23       ASSAULT 3 & RELATED OFFENSES        COMPLETED  MISDEMEANOR   \n",
       "29     CRIMINAL MISCHIEF & RELATED OF        COMPLETED  MISDEMEANOR   \n",
       "...                               ...              ...          ...   \n",
       "59824                            RAPE        COMPLETED       FELONY   \n",
       "59825                            RAPE        COMPLETED       FELONY   \n",
       "59827                      SEX CRIMES        COMPLETED       FELONY   \n",
       "59828                            RAPE        COMPLETED       FELONY   \n",
       "59829                            RAPE        COMPLETED       FELONY   \n",
       "\n",
       "                JURIS_DESC  ... SUSP_SEX                PATROL_BORO  \\\n",
       "14     N.Y. HOUSING POLICE  ...        M    PATROL BORO BKLYN SOUTH   \n",
       "15        N.Y. POLICE DEPT  ...        M   PATROL BORO QUEENS SOUTH   \n",
       "19        N.Y. POLICE DEPT  ...        M          PATROL BORO BRONX   \n",
       "23        N.Y. POLICE DEPT  ...        M   PATROL BORO QUEENS SOUTH   \n",
       "29        N.Y. POLICE DEPT  ...        M   PATROL BORO QUEENS SOUTH   \n",
       "...                    ...  ...      ...                        ...   \n",
       "59824     N.Y. POLICE DEPT  ...        M          PATROL BORO BRONX   \n",
       "59825     N.Y. POLICE DEPT  ...        M    PATROL BORO BKLYN SOUTH   \n",
       "59827     N.Y. POLICE DEPT  ...        M          PATROL BORO BRONX   \n",
       "59828     N.Y. POLICE DEPT  ...        M    PATROL BORO BKLYN SOUTH   \n",
       "59829     N.Y. POLICE DEPT  ...        M  PATROL BORO STATEN ISLAND   \n",
       "\n",
       "      VIC_AGE_GROUP        VIC_RACE VIC_SEX year_of_occurance  \\\n",
       "14            25-44           BLACK       F              2011   \n",
       "15            45-64           BLACK       F              2011   \n",
       "19            25-44           BLACK       F              2011   \n",
       "23            18-24  WHITE HISPANIC       F              2011   \n",
       "29            25-44           BLACK       F              2011   \n",
       "...             ...             ...     ...               ...   \n",
       "59824           <18           BLACK       F              2019   \n",
       "59825         25-44           BLACK       F              2019   \n",
       "59827           <18  WHITE HISPANIC       F              2019   \n",
       "59828         18-24         UNKNOWN       F              2019   \n",
       "59829         25-44           BLACK       F              2019   \n",
       "\n",
       "      month_of_occurance day_of_week  daytype time_diff  \n",
       "14                     1    Saturday  weekend      1716  \n",
       "15                     1    Saturday  weekend      1718  \n",
       "19                     1    Saturday  weekend      1710  \n",
       "23                     1    Saturday  weekend      1707  \n",
       "29                     1    Saturday  weekend      1715  \n",
       "...                  ...         ...      ...       ...  \n",
       "59824                  2    Saturday  weekend       398  \n",
       "59825                  2      Friday  weekday       405  \n",
       "59827                  3      Monday  weekday       442  \n",
       "59828                  3      Monday  weekday       445  \n",
       "59829                  4      Monday  weekday       463  \n",
       "\n",
       "[107 rows x 23 columns]"
      ]
     },
     "execution_count": 45,
     "metadata": {},
     "output_type": "execute_result"
    }
   ],
   "source": [
    "df4[df4['time_diff']>90]"
   ]
  },
  {
   "cell_type": "code",
   "execution_count": 46,
   "metadata": {
    "ExecuteTime": {
     "end_time": "2020-11-10T00:15:35.824553Z",
     "start_time": "2020-11-10T00:15:35.792855Z"
    }
   },
   "outputs": [
    {
     "name": "stderr",
     "output_type": "stream",
     "text": [
      "<ipython-input-46-48b0c1985c80>:1: SettingWithCopyWarning: \n",
      "A value is trying to be set on a copy of a slice from a DataFrame.\n",
      "Try using .loc[row_indexer,col_indexer] = value instead\n",
      "\n",
      "See the caveats in the documentation: https://pandas.pydata.org/pandas-docs/stable/user_guide/indexing.html#returning-a-view-versus-a-copy\n",
      "  df4['target'] = np.where(df4['time_diff'] >1, 0, 1)\n"
     ]
    },
    {
     "data": {
      "text/plain": [
       "4        0\n",
       "14       0\n",
       "15       0\n",
       "16       1\n",
       "19       0\n",
       "        ..\n",
       "59826    0\n",
       "59827    0\n",
       "59828    0\n",
       "59829    0\n",
       "59830    0\n",
       "Name: target, Length: 59754, dtype: int32"
      ]
     },
     "execution_count": 46,
     "metadata": {},
     "output_type": "execute_result"
    }
   ],
   "source": [
    "df4['target'] = np.where(df4['time_diff'] >1, 0, 1)\n",
    "df4['target']"
   ]
  },
  {
   "cell_type": "code",
   "execution_count": 47,
   "metadata": {
    "ExecuteTime": {
     "end_time": "2020-11-10T00:16:19.211149Z",
     "start_time": "2020-11-10T00:16:19.195518Z"
    }
   },
   "outputs": [
    {
     "name": "stderr",
     "output_type": "stream",
     "text": [
      "<ipython-input-47-029a6d3c159c>:1: SettingWithCopyWarning: \n",
      "A value is trying to be set on a copy of a slice from a DataFrame.\n",
      "Try using .loc[row_indexer,col_indexer] = value instead\n",
      "\n",
      "See the caveats in the documentation: https://pandas.pydata.org/pandas-docs/stable/user_guide/indexing.html#returning-a-view-versus-a-copy\n",
      "  df4['target'] = df4['target'].astype('category')\n"
     ]
    }
   ],
   "source": [
    "df4['target'] = df4['target'].astype('category')"
   ]
  },
  {
   "cell_type": "code",
   "execution_count": 48,
   "metadata": {
    "ExecuteTime": {
     "end_time": "2020-11-10T00:16:21.138927Z",
     "start_time": "2020-11-10T00:16:21.118472Z"
    }
   },
   "outputs": [
    {
     "data": {
      "text/plain": [
       "RPT_DT                datetime64[ns]\n",
       "ADDR_PCT_CD                 category\n",
       "count                          int64\n",
       "CMPLNT_NUM                  category\n",
       "CMPLNT_FR_TM          datetime64[ns]\n",
       "KY_CD                       category\n",
       "OFNS_DESC                   category\n",
       "CRM_ATPT_CPTD_CD            category\n",
       "LAW_CAT_CD                  category\n",
       "JURIS_DESC                  category\n",
       "JURISDICTION_CODE           category\n",
       "SUSP_AGE_GROUP              category\n",
       "SUSP_RACE                   category\n",
       "SUSP_SEX                    category\n",
       "PATROL_BORO                 category\n",
       "VIC_AGE_GROUP               category\n",
       "VIC_RACE                    category\n",
       "VIC_SEX                     category\n",
       "year_of_occurance           category\n",
       "month_of_occurance          category\n",
       "day_of_week                 category\n",
       "daytype                     category\n",
       "time_diff                      int32\n",
       "target                      category\n",
       "dtype: object"
      ]
     },
     "execution_count": 48,
     "metadata": {},
     "output_type": "execute_result"
    }
   ],
   "source": [
    "df4.dtypes"
   ]
  },
  {
   "cell_type": "code",
   "execution_count": 49,
   "metadata": {
    "ExecuteTime": {
     "end_time": "2020-11-10T00:16:23.431973Z",
     "start_time": "2020-11-10T00:16:23.378985Z"
    }
   },
   "outputs": [
    {
     "data": {
      "text/plain": [
       "target\n",
       "0    30491\n",
       "1    29263\n",
       "Name: target, dtype: int64"
      ]
     },
     "execution_count": 49,
     "metadata": {},
     "output_type": "execute_result"
    }
   ],
   "source": [
    "df4.groupby('target')['target'].count()"
   ]
  },
  {
   "cell_type": "code",
   "execution_count": 50,
   "metadata": {
    "ExecuteTime": {
     "end_time": "2020-11-08T03:33:05.068237Z",
     "start_time": "2020-11-08T03:33:04.952570Z"
    }
   },
   "outputs": [],
   "source": [
    "df3 = df3.dropna()"
   ]
  },
  {
   "cell_type": "code",
   "execution_count": 51,
   "metadata": {
    "ExecuteTime": {
     "end_time": "2020-11-08T03:33:15.113757Z",
     "start_time": "2020-11-08T03:33:15.073109Z"
    }
   },
   "outputs": [
    {
     "data": {
      "text/plain": [
       "<bound method NDFrame.head of       CMPLNT_NUM        CMPLNT_FR_TM ADDR_PCT_CD     RPT_DT KY_CD  \\\n",
       "0      708078702 2020-11-10 04:02:00       109.0 2017-05-20   344   \n",
       "2      430798229 2020-11-10 02:00:00        83.0 2016-03-11   116   \n",
       "3      722182197 2020-11-10 00:30:00        23.0 2014-12-04   351   \n",
       "4      907474278 2020-11-10 10:00:00       106.0 2017-06-12   109   \n",
       "5      288889108 2020-11-10 01:30:00        68.0 2016-09-27   578   \n",
       "...          ...                 ...         ...        ...   ...   \n",
       "59994  331933147 2020-11-10 02:47:00        75.0 2012-08-04   106   \n",
       "59995  788712882 2020-11-10 12:10:00        25.0 2012-12-27   578   \n",
       "59996  465850600 2020-11-10 17:00:00        69.0 2015-06-14   106   \n",
       "59997  203855141 2020-11-10 07:03:00       106.0 2014-03-25   578   \n",
       "59998  594111384 2020-11-10 05:00:00        43.0 2014-07-25   233   \n",
       "\n",
       "                            OFNS_DESC CRM_ATPT_CPTD_CD   LAW_CAT_CD  \\\n",
       "0        ASSAULT 3 & RELATED OFFENSES        COMPLETED  MISDEMEANOR   \n",
       "2                          SEX CRIMES        COMPLETED       FELONY   \n",
       "3      CRIMINAL MISCHIEF & RELATED OF        COMPLETED  MISDEMEANOR   \n",
       "4                       GRAND LARCENY        COMPLETED       FELONY   \n",
       "5                       HARRASSMENT 2        COMPLETED    VIOLATION   \n",
       "...                               ...              ...          ...   \n",
       "59994                  FELONY ASSAULT        ATTEMPTED       FELONY   \n",
       "59995                   HARRASSMENT 2        COMPLETED    VIOLATION   \n",
       "59996                  FELONY ASSAULT        COMPLETED       FELONY   \n",
       "59997                   HARRASSMENT 2        COMPLETED    VIOLATION   \n",
       "59998                      SEX CRIMES        COMPLETED  MISDEMEANOR   \n",
       "\n",
       "                JURIS_DESC JURISDICTION_CODE  ...                 SUSP_RACE  \\\n",
       "0         N.Y. POLICE DEPT               0.0  ...            WHITE HISPANIC   \n",
       "2         N.Y. POLICE DEPT               0.0  ...            WHITE HISPANIC   \n",
       "3      N.Y. HOUSING POLICE               2.0  ...                     BLACK   \n",
       "4         N.Y. POLICE DEPT               0.0  ...  ASIAN / PACIFIC ISLANDER   \n",
       "5         N.Y. POLICE DEPT               0.0  ...                     WHITE   \n",
       "...                    ...               ...  ...                       ...   \n",
       "59994  N.Y. HOUSING POLICE               2.0  ...                     BLACK   \n",
       "59995     N.Y. POLICE DEPT               0.0  ...            WHITE HISPANIC   \n",
       "59996     N.Y. POLICE DEPT               0.0  ...                     BLACK   \n",
       "59997     N.Y. POLICE DEPT               0.0  ...  ASIAN / PACIFIC ISLANDER   \n",
       "59998     N.Y. POLICE DEPT               0.0  ...            BLACK HISPANIC   \n",
       "\n",
       "      SUSP_SEX               PATROL_BORO VIC_AGE_GROUP  \\\n",
       "0            M  PATROL BORO QUEENS NORTH         25-44   \n",
       "2            M   PATROL BORO BKLYN NORTH           <18   \n",
       "3            M     PATROL BORO MAN NORTH         25-44   \n",
       "4            M  PATROL BORO QUEENS SOUTH         45-64   \n",
       "5            F   PATROL BORO BKLYN SOUTH           65+   \n",
       "...        ...                       ...           ...   \n",
       "59994        M   PATROL BORO BKLYN NORTH         25-44   \n",
       "59995        F     PATROL BORO MAN NORTH         25-44   \n",
       "59996        M   PATROL BORO BKLYN SOUTH         25-44   \n",
       "59997        M  PATROL BORO QUEENS SOUTH         18-24   \n",
       "59998        M         PATROL BORO BRONX           <18   \n",
       "\n",
       "                       VIC_RACE VIC_SEX year_of_occurance month_of_occurance  \\\n",
       "0                         BLACK       M              2017                  5   \n",
       "2                WHITE HISPANIC       F              2016                  3   \n",
       "3                         BLACK       F              2014                 12   \n",
       "4      ASIAN / PACIFIC ISLANDER       M              2017                  6   \n",
       "5                         WHITE       M              2016                  9   \n",
       "...                         ...     ...               ...                ...   \n",
       "59994                     WHITE       M              2012                  8   \n",
       "59995            WHITE HISPANIC       M              2012                 12   \n",
       "59996                     BLACK       F              2015                  6   \n",
       "59997  ASIAN / PACIFIC ISLANDER       F              2014                  3   \n",
       "59998            WHITE HISPANIC       F              2014                  7   \n",
       "\n",
       "      day_of_week  daytype  \n",
       "0        Saturday  weekend  \n",
       "2          Friday  weekday  \n",
       "3        Thursday  weekday  \n",
       "4          Monday  weekday  \n",
       "5         Tuesday  weekday  \n",
       "...           ...      ...  \n",
       "59994    Saturday  weekend  \n",
       "59995    Thursday  weekday  \n",
       "59996      Sunday  weekend  \n",
       "59997     Tuesday  weekday  \n",
       "59998      Friday  weekday  \n",
       "\n",
       "[59831 rows x 21 columns]>"
      ]
     },
     "execution_count": 51,
     "metadata": {},
     "output_type": "execute_result"
    }
   ],
   "source": [
    "df3.head"
   ]
  },
  {
   "cell_type": "markdown",
   "metadata": {},
   "source": [
    "# Visualizing Numerical Features"
   ]
  },
  {
   "cell_type": "raw",
   "metadata": {},
   "source": [
    "#Inorder to visualize distribution among all the numerical features of our dataframe, we plotted a histogram."
   ]
  },
  {
   "cell_type": "code",
   "execution_count": 66,
   "metadata": {},
   "outputs": [],
   "source": [
    "#df3.hist(figsize=(20,10), xrot=-45, bins=10) \n",
    "## Display the labels rotated by 45 degress\n",
    "# Clear the text \"residue\"\n",
    "#plt.show()"
   ]
  },
  {
   "cell_type": "raw",
   "metadata": {},
   "source": [
    "# The Categorical column has 77 unique precinct-code values among which highest number of complaints filed are in precint code-75 i.e.,approximately 350. The categorical column with minimum number of complaints filed are in precinct 22.Hence, we can observe that the most of valuable information required for our research is around Precinct -75."
   ]
  },
  {
   "cell_type": "code",
   "execution_count": 67,
   "metadata": {},
   "outputs": [],
   "source": [
    "#plt.figure(figsize=(15,15))\n",
    "#ax = sns.countplot(y='addr_pct_cd', data=df3)\n",
    "#ax.set(ylabel=\"PRECINCT_CODE\")\n",
    "#plt.rcParams[\"axes.labelsize\"] = 25\n"
   ]
  },
  {
   "cell_type": "raw",
   "metadata": {},
   "source": [
    "# The unique number of categorical columns in the dataset of the unique Offense Descriptions is seen here. X axis represents the count of  offenses and Y – axis denotes the Offense  description numbered from 1 to 45 labels.Highest number of crimes were for the offense  petit Larceny which is more than 1750."
   ]
  },
  {
   "cell_type": "code",
   "execution_count": 68,
   "metadata": {},
   "outputs": [],
   "source": [
    "#plt.figure(figsize=(15,15))\n",
    "#ax = sns.countplot(y='ofns_desc', data=df3)\n",
    "#ax.set(ylabel=\"OFFENSE_DESCRIPTION\")\n",
    "#plt.rcParams[\"axes.labelsize\"] = 25"
   ]
  },
  {
   "cell_type": "raw",
   "metadata": {},
   "source": [
    "# The  Level of Offense as a unique categorical value.The Misdemeanor was the most (more than 5000) committed offense among all these offenses listed. As you can see the green bar in the graph which has Least leavel of offense was recorded as Violation."
   ]
  },
  {
   "cell_type": "code",
   "execution_count": 69,
   "metadata": {},
   "outputs": [],
   "source": [
    "#plt.figure(figsize=(7,7))\n",
    "#ax = sns.countplot(y='law_cat_cd', data=df3)\n",
    "#ax.set(ylabel=\"LEVEL-OF-OFFENSE\")\n",
    "#plt.rcParams[\"axes.labelsize\"] = 18"
   ]
  },
  {
   "cell_type": "raw",
   "metadata": {},
   "source": [
    "# The Crime indicator indicates that number of crimes which have been successfully completed or attempted by the suspect.The greater number of crimes have been successfully implemented by the suspect with the count of approximately 9800, whereas the  crimes that have been interrupted or failed were less than 100."
   ]
  },
  {
   "cell_type": "code",
   "execution_count": 70,
   "metadata": {},
   "outputs": [],
   "source": [
    "#plt.figure(figsize=(6, 6))\n",
    "#ax = sns.countplot(y=\"crm_atpt_cptd_cd\", data=df3, color=\"c\")\n",
    "#ax.set(ylabel=\"CRIME INDICATOR\")\n",
    "#plt.rcParams[\"axes.labelsize\"] = 15"
   ]
  },
  {
   "cell_type": "raw",
   "metadata": {},
   "source": [
    "# The box plot between the columns of  Year_of_crime_occurance (Numerical )and Suspect_Race(Categorical). The box plot shows the Unknown has maximum outliers as 6. Next highest outliers are in Black race. Least outliers are around white Hispanic race. Also, it can be deduced that most of the crimes were occurred between 2012-2018"
   ]
  },
  {
   "cell_type": "code",
   "execution_count": 71,
   "metadata": {
    "scrolled": false
   },
   "outputs": [],
   "source": [
    "#plt.figure(figsize=(25, 10))\n",
    "#ax = sns.boxplot(data=df3, y=\"year_of_occurance\", x=\"susp_race\")\n",
    "#ax.set(xlabel = \"SUSPECT_RACE\",ylabel=\"YEAR_OF_CRIME_OCCURANCE\")\n",
    "#plt.rcParams[\"axes.labelsize\"] = 35"
   ]
  },
  {
   "cell_type": "raw",
   "metadata": {},
   "source": [
    "# The violin chart between the suspect age (Numerical) is on the y-axis and x-axis as Year-Of_Crime _Occurance(Categorical).Blue label denotes the Number of crimes attempted which is very high between the period of  2012-2017. Yellow label denotes the successfully completed crimes by the suspects with the age group of 65+.Outliers are defined with a solid black line which were detected during the years 1995 and 2010 at the age group of the suspect is around 44+."
   ]
  },
  {
   "cell_type": "code",
   "execution_count": 72,
   "metadata": {},
   "outputs": [],
   "source": [
    "#plt.figure(figsize=(8, 8))\n",
    "#ax=sns.violinplot(data=df3, y=\"susp_age_group\", x=\"year_of_occurance\",hue=\"crm_atpt_cptd_cd\")\n",
    "#ax.set(ylabel = \"SUSPECT_AGE\",xlabel=\"YEAR_OF_CRIME_OCCURANCE\")\n",
    "#plt.rcParams[\"axes.labelsize\"] = 20"
   ]
  },
  {
   "cell_type": "raw",
   "metadata": {},
   "source": [
    "# The highest level of crime occurred in the month august and the age group of the suspect was 65+ and the level of offense was MISDEMENOR. Lowest offense was also done by the suspects with age group 65+ (offense type= FELONY)."
   ]
  },
  {
   "cell_type": "code",
   "execution_count": 73,
   "metadata": {},
   "outputs": [],
   "source": [
    "#plt.figure(figsize=(11, 8))\n",
    "#ax=sns.barplot(data = df3, x=\"law_cat_cd\", y = \"month_of_occurance\", hue=\"susp_age_group\")\n",
    "#ax.set(xlabel=\"LEVEL_OF_OFFENSE\",ylabel=\"MONTH_OF_CRIME_OCCURANCE\")\n",
    "#plt.rcParams[\"axes.labelsize\"] = 20"
   ]
  },
  {
   "cell_type": "raw",
   "metadata": {},
   "source": [
    "# The most of the crimes were occurred in March month in BRONX boro jurisdiction.The port authority orange dots in the graph which is detection of continuous crime  from the months between February and November."
   ]
  },
  {
   "cell_type": "code",
   "execution_count": 74,
   "metadata": {},
   "outputs": [],
   "source": [
    "#plt.figure(figsize=(8, 8))\n",
    "#ax=sns.scatterplot(data=df3, x=\"month_of_occurance\", y=\"juris_desc\",hue=\"boro_nm\")\n",
    "#ax.set(ylabel=\"JURISDICTION_DESCRIPTION\",xlabel=\"MONTH_OF_CRIME_OCCURANCE\")\n",
    "#plt.rcParams[\"axes.labelsize\"] = 20\n"
   ]
  },
  {
   "cell_type": "raw",
   "metadata": {},
   "source": [
    "# The ‘Law_cat_cd’ (level of offense) attribute  as a hue in order to get more insights about the data.The FELONY was the most occurring level of offense from 1985 to 2015. Highest value of VIOLATION was in October 2010 but decrease in VIOLATION can be observed after 2015.It can also be deduced that MISDEMEANOR trend is increasing after 2011."
   ]
  },
  {
   "cell_type": "code",
   "execution_count": 75,
   "metadata": {},
   "outputs": [],
   "source": [
    "#sns.relplot(x=\"year_of_occurance\", y=\"month_of_occurance\", ci=None, kind=\"line\", hue = \"law_cat_cd\",data=df3);"
   ]
  },
  {
   "cell_type": "raw",
   "metadata": {},
   "source": [
    "# The pie chart is plotted between suspect sex (Categorical )and complaint number (Numerical). Suspect_sex feature has three categories namely, Male(M), Female(F) and Unknown(U). The greater number of complaints have been filed against Male category."
   ]
  },
  {
   "cell_type": "code",
   "execution_count": 76,
   "metadata": {},
   "outputs": [],
   "source": [
    "#df3.groupby('susp_sex').count().plot.pie(y='cmplnt_num')"
   ]
  },
  {
   "cell_type": "code",
   "execution_count": 77,
   "metadata": {},
   "outputs": [],
   "source": [
    "#df4 = df3.copy()"
   ]
  },
  {
   "cell_type": "code",
   "execution_count": 78,
   "metadata": {},
   "outputs": [],
   "source": [
    "#df4.dtypes\n"
   ]
  },
  {
   "cell_type": "raw",
   "metadata": {},
   "source": [
    "## Inorder to understand the coorelation between categorical features we used label encoding"
   ]
  },
  {
   "cell_type": "code",
   "execution_count": 79,
   "metadata": {},
   "outputs": [],
   "source": [
    "#df3.dtypes"
   ]
  },
  {
   "cell_type": "code",
   "execution_count": 80,
   "metadata": {},
   "outputs": [],
   "source": [
    "#df4.dtypes"
   ]
  },
  {
   "cell_type": "code",
   "execution_count": 52,
   "metadata": {
    "scrolled": false
   },
   "outputs": [
    {
     "data": {
      "text/html": [
       "<div>\n",
       "<style scoped>\n",
       "    .dataframe tbody tr th:only-of-type {\n",
       "        vertical-align: middle;\n",
       "    }\n",
       "\n",
       "    .dataframe tbody tr th {\n",
       "        vertical-align: top;\n",
       "    }\n",
       "\n",
       "    .dataframe thead th {\n",
       "        text-align: right;\n",
       "    }\n",
       "</style>\n",
       "<table border=\"1\" class=\"dataframe\">\n",
       "  <thead>\n",
       "    <tr style=\"text-align: right;\">\n",
       "      <th></th>\n",
       "      <th>RPT_DT</th>\n",
       "      <th>ADDR_PCT_CD</th>\n",
       "      <th>count</th>\n",
       "      <th>CMPLNT_NUM</th>\n",
       "      <th>CMPLNT_FR_TM</th>\n",
       "      <th>KY_CD</th>\n",
       "      <th>OFNS_DESC</th>\n",
       "      <th>CRM_ATPT_CPTD_CD</th>\n",
       "      <th>LAW_CAT_CD</th>\n",
       "      <th>JURIS_DESC</th>\n",
       "      <th>...</th>\n",
       "      <th>PATROL_BORO</th>\n",
       "      <th>VIC_AGE_GROUP</th>\n",
       "      <th>VIC_RACE</th>\n",
       "      <th>VIC_SEX</th>\n",
       "      <th>year_of_occurance</th>\n",
       "      <th>month_of_occurance</th>\n",
       "      <th>day_of_week</th>\n",
       "      <th>daytype</th>\n",
       "      <th>time_diff</th>\n",
       "      <th>target</th>\n",
       "    </tr>\n",
       "  </thead>\n",
       "  <tbody>\n",
       "    <tr>\n",
       "      <th>4</th>\n",
       "      <td>2006-04-22</td>\n",
       "      <td>113.0</td>\n",
       "      <td>1</td>\n",
       "      <td>594816332</td>\n",
       "      <td>2020-11-10 16:10:00</td>\n",
       "      <td>344</td>\n",
       "      <td>ASSAULT 3 &amp; RELATED OFFENSES</td>\n",
       "      <td>COMPLETED</td>\n",
       "      <td>MISDEMEANOR</td>\n",
       "      <td>N.Y. POLICE DEPT</td>\n",
       "      <td>...</td>\n",
       "      <td>PATROL BORO QUEENS SOUTH</td>\n",
       "      <td>18-24</td>\n",
       "      <td>BLACK</td>\n",
       "      <td>F</td>\n",
       "      <td>2006</td>\n",
       "      <td>4</td>\n",
       "      <td>Saturday</td>\n",
       "      <td>weekend</td>\n",
       "      <td>4</td>\n",
       "      <td>0</td>\n",
       "    </tr>\n",
       "    <tr>\n",
       "      <th>14</th>\n",
       "      <td>2011-01-01</td>\n",
       "      <td>69.0</td>\n",
       "      <td>1</td>\n",
       "      <td>994720437</td>\n",
       "      <td>2020-11-10 10:00:00</td>\n",
       "      <td>344</td>\n",
       "      <td>ASSAULT 3 &amp; RELATED OFFENSES</td>\n",
       "      <td>COMPLETED</td>\n",
       "      <td>MISDEMEANOR</td>\n",
       "      <td>N.Y. HOUSING POLICE</td>\n",
       "      <td>...</td>\n",
       "      <td>PATROL BORO BKLYN SOUTH</td>\n",
       "      <td>25-44</td>\n",
       "      <td>BLACK</td>\n",
       "      <td>F</td>\n",
       "      <td>2011</td>\n",
       "      <td>1</td>\n",
       "      <td>Saturday</td>\n",
       "      <td>weekend</td>\n",
       "      <td>1716</td>\n",
       "      <td>0</td>\n",
       "    </tr>\n",
       "    <tr>\n",
       "      <th>15</th>\n",
       "      <td>2011-01-01</td>\n",
       "      <td>105.0</td>\n",
       "      <td>2</td>\n",
       "      <td>484630801</td>\n",
       "      <td>2020-11-10 16:00:00</td>\n",
       "      <td>106</td>\n",
       "      <td>FELONY ASSAULT</td>\n",
       "      <td>ATTEMPTED</td>\n",
       "      <td>FELONY</td>\n",
       "      <td>N.Y. POLICE DEPT</td>\n",
       "      <td>...</td>\n",
       "      <td>PATROL BORO QUEENS SOUTH</td>\n",
       "      <td>45-64</td>\n",
       "      <td>BLACK</td>\n",
       "      <td>F</td>\n",
       "      <td>2011</td>\n",
       "      <td>1</td>\n",
       "      <td>Saturday</td>\n",
       "      <td>weekend</td>\n",
       "      <td>1718</td>\n",
       "      <td>0</td>\n",
       "    </tr>\n",
       "    <tr>\n",
       "      <th>16</th>\n",
       "      <td>2011-01-01</td>\n",
       "      <td>105.0</td>\n",
       "      <td>2</td>\n",
       "      <td>129890826</td>\n",
       "      <td>2020-11-10 03:00:00</td>\n",
       "      <td>359</td>\n",
       "      <td>OFFENSES AGAINST PUBLIC ADMINI</td>\n",
       "      <td>COMPLETED</td>\n",
       "      <td>MISDEMEANOR</td>\n",
       "      <td>N.Y. POLICE DEPT</td>\n",
       "      <td>...</td>\n",
       "      <td>PATROL BORO QUEENS SOUTH</td>\n",
       "      <td>25-44</td>\n",
       "      <td>BLACK</td>\n",
       "      <td>F</td>\n",
       "      <td>2011</td>\n",
       "      <td>1</td>\n",
       "      <td>Saturday</td>\n",
       "      <td>weekend</td>\n",
       "      <td>0</td>\n",
       "      <td>1</td>\n",
       "    </tr>\n",
       "    <tr>\n",
       "      <th>19</th>\n",
       "      <td>2011-01-01</td>\n",
       "      <td>42.0</td>\n",
       "      <td>1</td>\n",
       "      <td>284102197</td>\n",
       "      <td>2020-11-10 06:00:00</td>\n",
       "      <td>344</td>\n",
       "      <td>ASSAULT 3 &amp; RELATED OFFENSES</td>\n",
       "      <td>COMPLETED</td>\n",
       "      <td>MISDEMEANOR</td>\n",
       "      <td>N.Y. POLICE DEPT</td>\n",
       "      <td>...</td>\n",
       "      <td>PATROL BORO BRONX</td>\n",
       "      <td>25-44</td>\n",
       "      <td>BLACK</td>\n",
       "      <td>F</td>\n",
       "      <td>2011</td>\n",
       "      <td>1</td>\n",
       "      <td>Saturday</td>\n",
       "      <td>weekend</td>\n",
       "      <td>1710</td>\n",
       "      <td>0</td>\n",
       "    </tr>\n",
       "    <tr>\n",
       "      <th>...</th>\n",
       "      <td>...</td>\n",
       "      <td>...</td>\n",
       "      <td>...</td>\n",
       "      <td>...</td>\n",
       "      <td>...</td>\n",
       "      <td>...</td>\n",
       "      <td>...</td>\n",
       "      <td>...</td>\n",
       "      <td>...</td>\n",
       "      <td>...</td>\n",
       "      <td>...</td>\n",
       "      <td>...</td>\n",
       "      <td>...</td>\n",
       "      <td>...</td>\n",
       "      <td>...</td>\n",
       "      <td>...</td>\n",
       "      <td>...</td>\n",
       "      <td>...</td>\n",
       "      <td>...</td>\n",
       "      <td>...</td>\n",
       "      <td>...</td>\n",
       "    </tr>\n",
       "    <tr>\n",
       "      <th>59826</th>\n",
       "      <td>2019-02-17</td>\n",
       "      <td>67.0</td>\n",
       "      <td>1</td>\n",
       "      <td>810533252</td>\n",
       "      <td>2020-11-10 21:40:00</td>\n",
       "      <td>578</td>\n",
       "      <td>HARRASSMENT 2</td>\n",
       "      <td>COMPLETED</td>\n",
       "      <td>VIOLATION</td>\n",
       "      <td>N.Y. POLICE DEPT</td>\n",
       "      <td>...</td>\n",
       "      <td>PATROL BORO BKLYN SOUTH</td>\n",
       "      <td>25-44</td>\n",
       "      <td>BLACK</td>\n",
       "      <td>F</td>\n",
       "      <td>2019</td>\n",
       "      <td>2</td>\n",
       "      <td>Sunday</td>\n",
       "      <td>weekend</td>\n",
       "      <td>40</td>\n",
       "      <td>0</td>\n",
       "    </tr>\n",
       "    <tr>\n",
       "      <th>59827</th>\n",
       "      <td>2019-03-18</td>\n",
       "      <td>45.0</td>\n",
       "      <td>1</td>\n",
       "      <td>995833483</td>\n",
       "      <td>2020-11-10 15:00:00</td>\n",
       "      <td>116</td>\n",
       "      <td>SEX CRIMES</td>\n",
       "      <td>COMPLETED</td>\n",
       "      <td>FELONY</td>\n",
       "      <td>N.Y. POLICE DEPT</td>\n",
       "      <td>...</td>\n",
       "      <td>PATROL BORO BRONX</td>\n",
       "      <td>&lt;18</td>\n",
       "      <td>WHITE HISPANIC</td>\n",
       "      <td>F</td>\n",
       "      <td>2019</td>\n",
       "      <td>3</td>\n",
       "      <td>Monday</td>\n",
       "      <td>weekday</td>\n",
       "      <td>442</td>\n",
       "      <td>0</td>\n",
       "    </tr>\n",
       "    <tr>\n",
       "      <th>59828</th>\n",
       "      <td>2019-03-18</td>\n",
       "      <td>66.0</td>\n",
       "      <td>1</td>\n",
       "      <td>166879036</td>\n",
       "      <td>2020-11-10 00:01:00</td>\n",
       "      <td>104</td>\n",
       "      <td>RAPE</td>\n",
       "      <td>COMPLETED</td>\n",
       "      <td>FELONY</td>\n",
       "      <td>N.Y. POLICE DEPT</td>\n",
       "      <td>...</td>\n",
       "      <td>PATROL BORO BKLYN SOUTH</td>\n",
       "      <td>18-24</td>\n",
       "      <td>UNKNOWN</td>\n",
       "      <td>F</td>\n",
       "      <td>2019</td>\n",
       "      <td>3</td>\n",
       "      <td>Monday</td>\n",
       "      <td>weekday</td>\n",
       "      <td>445</td>\n",
       "      <td>0</td>\n",
       "    </tr>\n",
       "    <tr>\n",
       "      <th>59829</th>\n",
       "      <td>2019-04-08</td>\n",
       "      <td>121.0</td>\n",
       "      <td>1</td>\n",
       "      <td>327146009</td>\n",
       "      <td>2020-11-10 14:00:00</td>\n",
       "      <td>104</td>\n",
       "      <td>RAPE</td>\n",
       "      <td>COMPLETED</td>\n",
       "      <td>FELONY</td>\n",
       "      <td>N.Y. POLICE DEPT</td>\n",
       "      <td>...</td>\n",
       "      <td>PATROL BORO STATEN ISLAND</td>\n",
       "      <td>25-44</td>\n",
       "      <td>BLACK</td>\n",
       "      <td>F</td>\n",
       "      <td>2019</td>\n",
       "      <td>4</td>\n",
       "      <td>Monday</td>\n",
       "      <td>weekday</td>\n",
       "      <td>463</td>\n",
       "      <td>0</td>\n",
       "    </tr>\n",
       "    <tr>\n",
       "      <th>59830</th>\n",
       "      <td>2019-04-29</td>\n",
       "      <td>47.0</td>\n",
       "      <td>1</td>\n",
       "      <td>940596075</td>\n",
       "      <td>2020-11-10 06:00:00</td>\n",
       "      <td>361</td>\n",
       "      <td>OFF. AGNST PUB ORD SENSBLTY &amp;</td>\n",
       "      <td>COMPLETED</td>\n",
       "      <td>MISDEMEANOR</td>\n",
       "      <td>N.Y. POLICE DEPT</td>\n",
       "      <td>...</td>\n",
       "      <td>PATROL BORO BRONX</td>\n",
       "      <td>25-44</td>\n",
       "      <td>BLACK</td>\n",
       "      <td>M</td>\n",
       "      <td>2019</td>\n",
       "      <td>4</td>\n",
       "      <td>Monday</td>\n",
       "      <td>weekday</td>\n",
       "      <td>86</td>\n",
       "      <td>0</td>\n",
       "    </tr>\n",
       "  </tbody>\n",
       "</table>\n",
       "<p>59754 rows × 24 columns</p>\n",
       "</div>"
      ],
      "text/plain": [
       "          RPT_DT ADDR_PCT_CD  count CMPLNT_NUM        CMPLNT_FR_TM KY_CD  \\\n",
       "4     2006-04-22       113.0      1  594816332 2020-11-10 16:10:00   344   \n",
       "14    2011-01-01        69.0      1  994720437 2020-11-10 10:00:00   344   \n",
       "15    2011-01-01       105.0      2  484630801 2020-11-10 16:00:00   106   \n",
       "16    2011-01-01       105.0      2  129890826 2020-11-10 03:00:00   359   \n",
       "19    2011-01-01        42.0      1  284102197 2020-11-10 06:00:00   344   \n",
       "...          ...         ...    ...        ...                 ...   ...   \n",
       "59826 2019-02-17        67.0      1  810533252 2020-11-10 21:40:00   578   \n",
       "59827 2019-03-18        45.0      1  995833483 2020-11-10 15:00:00   116   \n",
       "59828 2019-03-18        66.0      1  166879036 2020-11-10 00:01:00   104   \n",
       "59829 2019-04-08       121.0      1  327146009 2020-11-10 14:00:00   104   \n",
       "59830 2019-04-29        47.0      1  940596075 2020-11-10 06:00:00   361   \n",
       "\n",
       "                            OFNS_DESC CRM_ATPT_CPTD_CD   LAW_CAT_CD  \\\n",
       "4        ASSAULT 3 & RELATED OFFENSES        COMPLETED  MISDEMEANOR   \n",
       "14       ASSAULT 3 & RELATED OFFENSES        COMPLETED  MISDEMEANOR   \n",
       "15                     FELONY ASSAULT        ATTEMPTED       FELONY   \n",
       "16     OFFENSES AGAINST PUBLIC ADMINI        COMPLETED  MISDEMEANOR   \n",
       "19       ASSAULT 3 & RELATED OFFENSES        COMPLETED  MISDEMEANOR   \n",
       "...                               ...              ...          ...   \n",
       "59826                   HARRASSMENT 2        COMPLETED    VIOLATION   \n",
       "59827                      SEX CRIMES        COMPLETED       FELONY   \n",
       "59828                            RAPE        COMPLETED       FELONY   \n",
       "59829                            RAPE        COMPLETED       FELONY   \n",
       "59830   OFF. AGNST PUB ORD SENSBLTY &        COMPLETED  MISDEMEANOR   \n",
       "\n",
       "                JURIS_DESC  ...                PATROL_BORO VIC_AGE_GROUP  \\\n",
       "4         N.Y. POLICE DEPT  ...   PATROL BORO QUEENS SOUTH         18-24   \n",
       "14     N.Y. HOUSING POLICE  ...    PATROL BORO BKLYN SOUTH         25-44   \n",
       "15        N.Y. POLICE DEPT  ...   PATROL BORO QUEENS SOUTH         45-64   \n",
       "16        N.Y. POLICE DEPT  ...   PATROL BORO QUEENS SOUTH         25-44   \n",
       "19        N.Y. POLICE DEPT  ...          PATROL BORO BRONX         25-44   \n",
       "...                    ...  ...                        ...           ...   \n",
       "59826     N.Y. POLICE DEPT  ...    PATROL BORO BKLYN SOUTH         25-44   \n",
       "59827     N.Y. POLICE DEPT  ...          PATROL BORO BRONX           <18   \n",
       "59828     N.Y. POLICE DEPT  ...    PATROL BORO BKLYN SOUTH         18-24   \n",
       "59829     N.Y. POLICE DEPT  ...  PATROL BORO STATEN ISLAND         25-44   \n",
       "59830     N.Y. POLICE DEPT  ...          PATROL BORO BRONX         25-44   \n",
       "\n",
       "             VIC_RACE VIC_SEX year_of_occurance month_of_occurance  \\\n",
       "4               BLACK       F              2006                  4   \n",
       "14              BLACK       F              2011                  1   \n",
       "15              BLACK       F              2011                  1   \n",
       "16              BLACK       F              2011                  1   \n",
       "19              BLACK       F              2011                  1   \n",
       "...               ...     ...               ...                ...   \n",
       "59826           BLACK       F              2019                  2   \n",
       "59827  WHITE HISPANIC       F              2019                  3   \n",
       "59828         UNKNOWN       F              2019                  3   \n",
       "59829           BLACK       F              2019                  4   \n",
       "59830           BLACK       M              2019                  4   \n",
       "\n",
       "      day_of_week  daytype time_diff target  \n",
       "4        Saturday  weekend         4      0  \n",
       "14       Saturday  weekend      1716      0  \n",
       "15       Saturday  weekend      1718      0  \n",
       "16       Saturday  weekend         0      1  \n",
       "19       Saturday  weekend      1710      0  \n",
       "...           ...      ...       ...    ...  \n",
       "59826      Sunday  weekend        40      0  \n",
       "59827      Monday  weekday       442      0  \n",
       "59828      Monday  weekday       445      0  \n",
       "59829      Monday  weekday       463      0  \n",
       "59830      Monday  weekday        86      0  \n",
       "\n",
       "[59754 rows x 24 columns]"
      ]
     },
     "execution_count": 52,
     "metadata": {},
     "output_type": "execute_result"
    }
   ],
   "source": [
    "df4"
   ]
  },
  {
   "cell_type": "code",
   "execution_count": 53,
   "metadata": {},
   "outputs": [
    {
     "data": {
      "text/html": [
       "<div>\n",
       "<style scoped>\n",
       "    .dataframe tbody tr th:only-of-type {\n",
       "        vertical-align: middle;\n",
       "    }\n",
       "\n",
       "    .dataframe tbody tr th {\n",
       "        vertical-align: top;\n",
       "    }\n",
       "\n",
       "    .dataframe thead th {\n",
       "        text-align: right;\n",
       "    }\n",
       "</style>\n",
       "<table border=\"1\" class=\"dataframe\">\n",
       "  <thead>\n",
       "    <tr style=\"text-align: right;\">\n",
       "      <th></th>\n",
       "      <th>count</th>\n",
       "      <th>time_diff</th>\n",
       "    </tr>\n",
       "  </thead>\n",
       "  <tbody>\n",
       "    <tr>\n",
       "      <th>count</th>\n",
       "      <td>1.000000</td>\n",
       "      <td>-0.058858</td>\n",
       "    </tr>\n",
       "    <tr>\n",
       "      <th>time_diff</th>\n",
       "      <td>-0.058858</td>\n",
       "      <td>1.000000</td>\n",
       "    </tr>\n",
       "  </tbody>\n",
       "</table>\n",
       "</div>"
      ],
      "text/plain": [
       "              count  time_diff\n",
       "count      1.000000  -0.058858\n",
       "time_diff -0.058858   1.000000"
      ]
     },
     "execution_count": 53,
     "metadata": {},
     "output_type": "execute_result"
    }
   ],
   "source": [
    "df4.corr()"
   ]
  },
  {
   "cell_type": "raw",
   "metadata": {},
   "source": [
    "##The below is correlation map by using Heat map. High correlations are shown with light color and low correlations are shown in dark colors like black and dark red. In the below map the top correlations are between Cmplnt_end_year and Cmplnt_end_month. The medium correlation is between Patrol_boro and Boro_nm, Ofns_desc and frequency, Year_of_occurance and susp_age_group.  "
   ]
  },
  {
   "cell_type": "code",
   "execution_count": 54,
   "metadata": {
    "scrolled": false
   },
   "outputs": [
    {
     "data": {
      "text/plain": [
       "<matplotlib.axes._subplots.AxesSubplot at 0x2579aec1df0>"
      ]
     },
     "execution_count": 54,
     "metadata": {},
     "output_type": "execute_result"
    },
    {
     "data": {
      "image/png": "[encoded data removed]",
      "text/plain": [
       "<Figure size 720x720 with 2 Axes>"
      ]
     },
     "metadata": {
      "needs_background": "light"
     },
     "output_type": "display_data"
    }
   ],
   "source": [
    "plt.figure(figsize=(10,10))\n",
    "sns.heatmap(df4.corr())"
   ]
  },
  {
   "cell_type": "code",
   "execution_count": 55,
   "metadata": {},
   "outputs": [
    {
     "data": {
      "image/png": "[encoded data removed]",
      "text/plain": [
       "<Figure size 720x720 with 2 Axes>"
      ]
     },
     "metadata": {
      "needs_background": "light"
     },
     "output_type": "display_data"
    }
   ],
   "source": [
    "mask=np.zeros_like(df4.corr())\n",
    "mask[np.triu_indices_from(mask)] = True\n",
    "plt.figure(figsize=(10,10))\n",
    "with sns.axes_style(\"white\"):\n",
    "    ax = sns.heatmap(df4.corr()*100, mask=mask, fmt='.0f', annot=True, lw=1, cmap=ListedColormap(['green', 'yellow', 'red','blue']))"
   ]
  },
  {
   "cell_type": "code",
   "execution_count": 56,
   "metadata": {},
   "outputs": [],
   "source": [
    "df5=df4.copy()"
   ]
  },
  {
   "cell_type": "code",
   "execution_count": 57,
   "metadata": {},
   "outputs": [
    {
     "data": {
      "text/html": [
       "<div>\n",
       "<style scoped>\n",
       "    .dataframe tbody tr th:only-of-type {\n",
       "        vertical-align: middle;\n",
       "    }\n",
       "\n",
       "    .dataframe tbody tr th {\n",
       "        vertical-align: top;\n",
       "    }\n",
       "\n",
       "    .dataframe thead th {\n",
       "        text-align: right;\n",
       "    }\n",
       "</style>\n",
       "<table border=\"1\" class=\"dataframe\">\n",
       "  <thead>\n",
       "    <tr style=\"text-align: right;\">\n",
       "      <th></th>\n",
       "      <th>RPT_DT</th>\n",
       "      <th>ADDR_PCT_CD</th>\n",
       "      <th>count</th>\n",
       "      <th>CMPLNT_NUM</th>\n",
       "      <th>CMPLNT_FR_TM</th>\n",
       "      <th>KY_CD</th>\n",
       "      <th>OFNS_DESC</th>\n",
       "      <th>CRM_ATPT_CPTD_CD</th>\n",
       "      <th>LAW_CAT_CD</th>\n",
       "      <th>JURIS_DESC</th>\n",
       "      <th>...</th>\n",
       "      <th>PATROL_BORO</th>\n",
       "      <th>VIC_AGE_GROUP</th>\n",
       "      <th>VIC_RACE</th>\n",
       "      <th>VIC_SEX</th>\n",
       "      <th>year_of_occurance</th>\n",
       "      <th>month_of_occurance</th>\n",
       "      <th>day_of_week</th>\n",
       "      <th>daytype</th>\n",
       "      <th>time_diff</th>\n",
       "      <th>target</th>\n",
       "    </tr>\n",
       "  </thead>\n",
       "  <tbody>\n",
       "    <tr>\n",
       "      <th>4</th>\n",
       "      <td>2006-04-22</td>\n",
       "      <td>113.0</td>\n",
       "      <td>1</td>\n",
       "      <td>594816332</td>\n",
       "      <td>2020-11-10 16:10:00</td>\n",
       "      <td>344</td>\n",
       "      <td>ASSAULT 3 &amp; RELATED OFFENSES</td>\n",
       "      <td>COMPLETED</td>\n",
       "      <td>MISDEMEANOR</td>\n",
       "      <td>N.Y. POLICE DEPT</td>\n",
       "      <td>...</td>\n",
       "      <td>PATROL BORO QUEENS SOUTH</td>\n",
       "      <td>18-24</td>\n",
       "      <td>BLACK</td>\n",
       "      <td>F</td>\n",
       "      <td>2006</td>\n",
       "      <td>4</td>\n",
       "      <td>Saturday</td>\n",
       "      <td>weekend</td>\n",
       "      <td>4</td>\n",
       "      <td>0</td>\n",
       "    </tr>\n",
       "    <tr>\n",
       "      <th>14</th>\n",
       "      <td>2011-01-01</td>\n",
       "      <td>69.0</td>\n",
       "      <td>1</td>\n",
       "      <td>994720437</td>\n",
       "      <td>2020-11-10 10:00:00</td>\n",
       "      <td>344</td>\n",
       "      <td>ASSAULT 3 &amp; RELATED OFFENSES</td>\n",
       "      <td>COMPLETED</td>\n",
       "      <td>MISDEMEANOR</td>\n",
       "      <td>N.Y. HOUSING POLICE</td>\n",
       "      <td>...</td>\n",
       "      <td>PATROL BORO BKLYN SOUTH</td>\n",
       "      <td>25-44</td>\n",
       "      <td>BLACK</td>\n",
       "      <td>F</td>\n",
       "      <td>2011</td>\n",
       "      <td>1</td>\n",
       "      <td>Saturday</td>\n",
       "      <td>weekend</td>\n",
       "      <td>1716</td>\n",
       "      <td>0</td>\n",
       "    </tr>\n",
       "    <tr>\n",
       "      <th>15</th>\n",
       "      <td>2011-01-01</td>\n",
       "      <td>105.0</td>\n",
       "      <td>2</td>\n",
       "      <td>484630801</td>\n",
       "      <td>2020-11-10 16:00:00</td>\n",
       "      <td>106</td>\n",
       "      <td>FELONY ASSAULT</td>\n",
       "      <td>ATTEMPTED</td>\n",
       "      <td>FELONY</td>\n",
       "      <td>N.Y. POLICE DEPT</td>\n",
       "      <td>...</td>\n",
       "      <td>PATROL BORO QUEENS SOUTH</td>\n",
       "      <td>45-64</td>\n",
       "      <td>BLACK</td>\n",
       "      <td>F</td>\n",
       "      <td>2011</td>\n",
       "      <td>1</td>\n",
       "      <td>Saturday</td>\n",
       "      <td>weekend</td>\n",
       "      <td>1718</td>\n",
       "      <td>0</td>\n",
       "    </tr>\n",
       "    <tr>\n",
       "      <th>16</th>\n",
       "      <td>2011-01-01</td>\n",
       "      <td>105.0</td>\n",
       "      <td>2</td>\n",
       "      <td>129890826</td>\n",
       "      <td>2020-11-10 03:00:00</td>\n",
       "      <td>359</td>\n",
       "      <td>OFFENSES AGAINST PUBLIC ADMINI</td>\n",
       "      <td>COMPLETED</td>\n",
       "      <td>MISDEMEANOR</td>\n",
       "      <td>N.Y. POLICE DEPT</td>\n",
       "      <td>...</td>\n",
       "      <td>PATROL BORO QUEENS SOUTH</td>\n",
       "      <td>25-44</td>\n",
       "      <td>BLACK</td>\n",
       "      <td>F</td>\n",
       "      <td>2011</td>\n",
       "      <td>1</td>\n",
       "      <td>Saturday</td>\n",
       "      <td>weekend</td>\n",
       "      <td>0</td>\n",
       "      <td>1</td>\n",
       "    </tr>\n",
       "    <tr>\n",
       "      <th>19</th>\n",
       "      <td>2011-01-01</td>\n",
       "      <td>42.0</td>\n",
       "      <td>1</td>\n",
       "      <td>284102197</td>\n",
       "      <td>2020-11-10 06:00:00</td>\n",
       "      <td>344</td>\n",
       "      <td>ASSAULT 3 &amp; RELATED OFFENSES</td>\n",
       "      <td>COMPLETED</td>\n",
       "      <td>MISDEMEANOR</td>\n",
       "      <td>N.Y. POLICE DEPT</td>\n",
       "      <td>...</td>\n",
       "      <td>PATROL BORO BRONX</td>\n",
       "      <td>25-44</td>\n",
       "      <td>BLACK</td>\n",
       "      <td>F</td>\n",
       "      <td>2011</td>\n",
       "      <td>1</td>\n",
       "      <td>Saturday</td>\n",
       "      <td>weekend</td>\n",
       "      <td>1710</td>\n",
       "      <td>0</td>\n",
       "    </tr>\n",
       "    <tr>\n",
       "      <th>...</th>\n",
       "      <td>...</td>\n",
       "      <td>...</td>\n",
       "      <td>...</td>\n",
       "      <td>...</td>\n",
       "      <td>...</td>\n",
       "      <td>...</td>\n",
       "      <td>...</td>\n",
       "      <td>...</td>\n",
       "      <td>...</td>\n",
       "      <td>...</td>\n",
       "      <td>...</td>\n",
       "      <td>...</td>\n",
       "      <td>...</td>\n",
       "      <td>...</td>\n",
       "      <td>...</td>\n",
       "      <td>...</td>\n",
       "      <td>...</td>\n",
       "      <td>...</td>\n",
       "      <td>...</td>\n",
       "      <td>...</td>\n",
       "      <td>...</td>\n",
       "    </tr>\n",
       "    <tr>\n",
       "      <th>59826</th>\n",
       "      <td>2019-02-17</td>\n",
       "      <td>67.0</td>\n",
       "      <td>1</td>\n",
       "      <td>810533252</td>\n",
       "      <td>2020-11-10 21:40:00</td>\n",
       "      <td>578</td>\n",
       "      <td>HARRASSMENT 2</td>\n",
       "      <td>COMPLETED</td>\n",
       "      <td>VIOLATION</td>\n",
       "      <td>N.Y. POLICE DEPT</td>\n",
       "      <td>...</td>\n",
       "      <td>PATROL BORO BKLYN SOUTH</td>\n",
       "      <td>25-44</td>\n",
       "      <td>BLACK</td>\n",
       "      <td>F</td>\n",
       "      <td>2019</td>\n",
       "      <td>2</td>\n",
       "      <td>Sunday</td>\n",
       "      <td>weekend</td>\n",
       "      <td>40</td>\n",
       "      <td>0</td>\n",
       "    </tr>\n",
       "    <tr>\n",
       "      <th>59827</th>\n",
       "      <td>2019-03-18</td>\n",
       "      <td>45.0</td>\n",
       "      <td>1</td>\n",
       "      <td>995833483</td>\n",
       "      <td>2020-11-10 15:00:00</td>\n",
       "      <td>116</td>\n",
       "      <td>SEX CRIMES</td>\n",
       "      <td>COMPLETED</td>\n",
       "      <td>FELONY</td>\n",
       "      <td>N.Y. POLICE DEPT</td>\n",
       "      <td>...</td>\n",
       "      <td>PATROL BORO BRONX</td>\n",
       "      <td>&lt;18</td>\n",
       "      <td>WHITE HISPANIC</td>\n",
       "      <td>F</td>\n",
       "      <td>2019</td>\n",
       "      <td>3</td>\n",
       "      <td>Monday</td>\n",
       "      <td>weekday</td>\n",
       "      <td>442</td>\n",
       "      <td>0</td>\n",
       "    </tr>\n",
       "    <tr>\n",
       "      <th>59828</th>\n",
       "      <td>2019-03-18</td>\n",
       "      <td>66.0</td>\n",
       "      <td>1</td>\n",
       "      <td>166879036</td>\n",
       "      <td>2020-11-10 00:01:00</td>\n",
       "      <td>104</td>\n",
       "      <td>RAPE</td>\n",
       "      <td>COMPLETED</td>\n",
       "      <td>FELONY</td>\n",
       "      <td>N.Y. POLICE DEPT</td>\n",
       "      <td>...</td>\n",
       "      <td>PATROL BORO BKLYN SOUTH</td>\n",
       "      <td>18-24</td>\n",
       "      <td>UNKNOWN</td>\n",
       "      <td>F</td>\n",
       "      <td>2019</td>\n",
       "      <td>3</td>\n",
       "      <td>Monday</td>\n",
       "      <td>weekday</td>\n",
       "      <td>445</td>\n",
       "      <td>0</td>\n",
       "    </tr>\n",
       "    <tr>\n",
       "      <th>59829</th>\n",
       "      <td>2019-04-08</td>\n",
       "      <td>121.0</td>\n",
       "      <td>1</td>\n",
       "      <td>327146009</td>\n",
       "      <td>2020-11-10 14:00:00</td>\n",
       "      <td>104</td>\n",
       "      <td>RAPE</td>\n",
       "      <td>COMPLETED</td>\n",
       "      <td>FELONY</td>\n",
       "      <td>N.Y. POLICE DEPT</td>\n",
       "      <td>...</td>\n",
       "      <td>PATROL BORO STATEN ISLAND</td>\n",
       "      <td>25-44</td>\n",
       "      <td>BLACK</td>\n",
       "      <td>F</td>\n",
       "      <td>2019</td>\n",
       "      <td>4</td>\n",
       "      <td>Monday</td>\n",
       "      <td>weekday</td>\n",
       "      <td>463</td>\n",
       "      <td>0</td>\n",
       "    </tr>\n",
       "    <tr>\n",
       "      <th>59830</th>\n",
       "      <td>2019-04-29</td>\n",
       "      <td>47.0</td>\n",
       "      <td>1</td>\n",
       "      <td>940596075</td>\n",
       "      <td>2020-11-10 06:00:00</td>\n",
       "      <td>361</td>\n",
       "      <td>OFF. AGNST PUB ORD SENSBLTY &amp;</td>\n",
       "      <td>COMPLETED</td>\n",
       "      <td>MISDEMEANOR</td>\n",
       "      <td>N.Y. POLICE DEPT</td>\n",
       "      <td>...</td>\n",
       "      <td>PATROL BORO BRONX</td>\n",
       "      <td>25-44</td>\n",
       "      <td>BLACK</td>\n",
       "      <td>M</td>\n",
       "      <td>2019</td>\n",
       "      <td>4</td>\n",
       "      <td>Monday</td>\n",
       "      <td>weekday</td>\n",
       "      <td>86</td>\n",
       "      <td>0</td>\n",
       "    </tr>\n",
       "  </tbody>\n",
       "</table>\n",
       "<p>59754 rows × 24 columns</p>\n",
       "</div>"
      ],
      "text/plain": [
       "          RPT_DT ADDR_PCT_CD  count CMPLNT_NUM        CMPLNT_FR_TM KY_CD  \\\n",
       "4     2006-04-22       113.0      1  594816332 2020-11-10 16:10:00   344   \n",
       "14    2011-01-01        69.0      1  994720437 2020-11-10 10:00:00   344   \n",
       "15    2011-01-01       105.0      2  484630801 2020-11-10 16:00:00   106   \n",
       "16    2011-01-01       105.0      2  129890826 2020-11-10 03:00:00   359   \n",
       "19    2011-01-01        42.0      1  284102197 2020-11-10 06:00:00   344   \n",
       "...          ...         ...    ...        ...                 ...   ...   \n",
       "59826 2019-02-17        67.0      1  810533252 2020-11-10 21:40:00   578   \n",
       "59827 2019-03-18        45.0      1  995833483 2020-11-10 15:00:00   116   \n",
       "59828 2019-03-18        66.0      1  166879036 2020-11-10 00:01:00   104   \n",
       "59829 2019-04-08       121.0      1  327146009 2020-11-10 14:00:00   104   \n",
       "59830 2019-04-29        47.0      1  940596075 2020-11-10 06:00:00   361   \n",
       "\n",
       "                            OFNS_DESC CRM_ATPT_CPTD_CD   LAW_CAT_CD  \\\n",
       "4        ASSAULT 3 & RELATED OFFENSES        COMPLETED  MISDEMEANOR   \n",
       "14       ASSAULT 3 & RELATED OFFENSES        COMPLETED  MISDEMEANOR   \n",
       "15                     FELONY ASSAULT        ATTEMPTED       FELONY   \n",
       "16     OFFENSES AGAINST PUBLIC ADMINI        COMPLETED  MISDEMEANOR   \n",
       "19       ASSAULT 3 & RELATED OFFENSES        COMPLETED  MISDEMEANOR   \n",
       "...                               ...              ...          ...   \n",
       "59826                   HARRASSMENT 2        COMPLETED    VIOLATION   \n",
       "59827                      SEX CRIMES        COMPLETED       FELONY   \n",
       "59828                            RAPE        COMPLETED       FELONY   \n",
       "59829                            RAPE        COMPLETED       FELONY   \n",
       "59830   OFF. AGNST PUB ORD SENSBLTY &        COMPLETED  MISDEMEANOR   \n",
       "\n",
       "                JURIS_DESC  ...                PATROL_BORO VIC_AGE_GROUP  \\\n",
       "4         N.Y. POLICE DEPT  ...   PATROL BORO QUEENS SOUTH         18-24   \n",
       "14     N.Y. HOUSING POLICE  ...    PATROL BORO BKLYN SOUTH         25-44   \n",
       "15        N.Y. POLICE DEPT  ...   PATROL BORO QUEENS SOUTH         45-64   \n",
       "16        N.Y. POLICE DEPT  ...   PATROL BORO QUEENS SOUTH         25-44   \n",
       "19        N.Y. POLICE DEPT  ...          PATROL BORO BRONX         25-44   \n",
       "...                    ...  ...                        ...           ...   \n",
       "59826     N.Y. POLICE DEPT  ...    PATROL BORO BKLYN SOUTH         25-44   \n",
       "59827     N.Y. POLICE DEPT  ...          PATROL BORO BRONX           <18   \n",
       "59828     N.Y. POLICE DEPT  ...    PATROL BORO BKLYN SOUTH         18-24   \n",
       "59829     N.Y. POLICE DEPT  ...  PATROL BORO STATEN ISLAND         25-44   \n",
       "59830     N.Y. POLICE DEPT  ...          PATROL BORO BRONX         25-44   \n",
       "\n",
       "             VIC_RACE VIC_SEX year_of_occurance month_of_occurance  \\\n",
       "4               BLACK       F              2006                  4   \n",
       "14              BLACK       F              2011                  1   \n",
       "15              BLACK       F              2011                  1   \n",
       "16              BLACK       F              2011                  1   \n",
       "19              BLACK       F              2011                  1   \n",
       "...               ...     ...               ...                ...   \n",
       "59826           BLACK       F              2019                  2   \n",
       "59827  WHITE HISPANIC       F              2019                  3   \n",
       "59828         UNKNOWN       F              2019                  3   \n",
       "59829           BLACK       F              2019                  4   \n",
       "59830           BLACK       M              2019                  4   \n",
       "\n",
       "      day_of_week  daytype time_diff target  \n",
       "4        Saturday  weekend         4      0  \n",
       "14       Saturday  weekend      1716      0  \n",
       "15       Saturday  weekend      1718      0  \n",
       "16       Saturday  weekend         0      1  \n",
       "19       Saturday  weekend      1710      0  \n",
       "...           ...      ...       ...    ...  \n",
       "59826      Sunday  weekend        40      0  \n",
       "59827      Monday  weekday       442      0  \n",
       "59828      Monday  weekday       445      0  \n",
       "59829      Monday  weekday       463      0  \n",
       "59830      Monday  weekday        86      0  \n",
       "\n",
       "[59754 rows x 24 columns]"
      ]
     },
     "execution_count": 57,
     "metadata": {},
     "output_type": "execute_result"
    }
   ],
   "source": [
    "df5"
   ]
  },
  {
   "cell_type": "markdown",
   "metadata": {
    "heading_collapsed": true
   },
   "source": [
    "# Machine Learning Models"
   ]
  },
  {
   "cell_type": "markdown",
   "metadata": {},
   "source": [
    "# Data Preparation"
   ]
  },
  {
   "cell_type": "raw",
   "metadata": {},
   "source": [
    "dropped 'x_coord_cd','y_coord_cd','latitude','longitude',cmplnt_fr_dt\tcmplnt_fr_tm,cmplnt_to_dt,cmplnt_to_tm."
   ]
  },
  {
   "cell_type": "code",
   "execution_count": 129,
   "metadata": {
    "scrolled": true
   },
   "outputs": [
    {
     "data": {
      "text/plain": [
       "RPT_DT                int64\n",
       "ADDR_PCT_CD           int64\n",
       "count                 int64\n",
       "CMPLNT_NUM            int64\n",
       "CMPLNT_FR_TM          int64\n",
       "KY_CD                 int64\n",
       "OFNS_DESC             int64\n",
       "CRM_ATPT_CPTD_CD      int64\n",
       "LAW_CAT_CD            int64\n",
       "JURIS_DESC            int64\n",
       "JURISDICTION_CODE     int64\n",
       "SUSP_AGE_GROUP        int64\n",
       "SUSP_RACE             int64\n",
       "SUSP_SEX              int64\n",
       "PATROL_BORO           int64\n",
       "VIC_AGE_GROUP         int64\n",
       "VIC_RACE              int64\n",
       "VIC_SEX               int64\n",
       "year_of_occurance     int64\n",
       "month_of_occurance    int64\n",
       "day_of_week           int64\n",
       "daytype               int64\n",
       "time_diff             int32\n",
       "target                int64\n",
       "dtype: object"
      ]
     },
     "execution_count": 129,
     "metadata": {},
     "output_type": "execute_result"
    }
   ],
   "source": [
    "df5.dtypes"
   ]
  },
  {
   "cell_type": "code",
   "execution_count": 228,
   "metadata": {},
   "outputs": [],
   "source": [
    "# Create separate object for target variable\n",
    "y = df5.target\n",
    "\n",
    "# Create separate object for input features\n",
    "X = df5.drop('target', axis=1)"
   ]
  },
  {
   "cell_type": "code",
   "execution_count": 229,
   "metadata": {},
   "outputs": [],
   "source": [
    "from sklearn.preprocessing import LabelEncoder"
   ]
  },
  {
   "cell_type": "code",
   "execution_count": 230,
   "metadata": {},
   "outputs": [],
   "source": [
    "labelencoder = LabelEncoder()"
   ]
  },
  {
   "cell_type": "code",
   "execution_count": 231,
   "metadata": {},
   "outputs": [],
   "source": [
    "df5['ADDR_PCT_CD'] = labelencoder.fit_transform(df5['ADDR_PCT_CD'])\n",
    "df5['CMPLNT_NUM'] =labelencoder.fit_transform(df5['CMPLNT_NUM'])\n",
    "df5['RPT_DT'] =labelencoder.fit_transform(df5['RPT_DT'])\n",
    "df5['CMPLNT_FR_TM'] =labelencoder.fit_transform(df5['CMPLNT_FR_TM'])\n",
    "df5['year_of_occurance'] =labelencoder.fit_transform(df5['year_of_occurance'])\n",
    "df5['month_of_occurance'] =labelencoder.fit_transform(df5['month_of_occurance'])\n",
    "df5['KY_CD'] =labelencoder.fit_transform(df5['KY_CD'])\n",
    "df5['OFNS_DESC'] =labelencoder.fit_transform(df5['OFNS_DESC'])\n",
    "df5['LAW_CAT_CD'] =labelencoder.fit_transform(df5['LAW_CAT_CD'])\n",
    "df5['CRM_ATPT_CPTD_CD'] =labelencoder.fit_transform(df5['CRM_ATPT_CPTD_CD'])\n",
    "df5['JURIS_DESC'] =labelencoder.fit_transform(df5['JURIS_DESC'])\n",
    "df5['JURISDICTION_CODE'] =labelencoder.fit_transform(df5['JURISDICTION_CODE'])\n",
    "df5['SUSP_AGE_GROUP'] =labelencoder.fit_transform(df5['SUSP_AGE_GROUP'])\n",
    "df5['SUSP_SEX'] =labelencoder.fit_transform(df5['SUSP_SEX'])\n",
    "df5['SUSP_RACE'] =labelencoder.fit_transform(df5['SUSP_RACE'])\n",
    "df5['PATROL_BORO'] =labelencoder.fit_transform(df5['PATROL_BORO'])\n",
    "df5['VIC_AGE_GROUP'] =labelencoder.fit_transform(df5['VIC_AGE_GROUP'])\n",
    "df5['VIC_RACE'] =labelencoder.fit_transform(df5['VIC_RACE'])\n",
    "df5['VIC_SEX'] =labelencoder.fit_transform(df5['VIC_SEX'])\n",
    "df5['day_of_week'] =labelencoder.fit_transform(df5['day_of_week'])\n",
    "df5['daytype'] =labelencoder.fit_transform(df5['daytype'])\n",
    "df5['target'] =labelencoder.fit_transform(df5['target'])"
   ]
  },
  {
   "cell_type": "code",
   "execution_count": 232,
   "metadata": {},
   "outputs": [
    {
     "data": {
      "text/plain": [
       "RPT_DT                int64\n",
       "ADDR_PCT_CD           int64\n",
       "count                 int64\n",
       "CMPLNT_NUM            int64\n",
       "CMPLNT_FR_TM          int64\n",
       "KY_CD                 int64\n",
       "OFNS_DESC             int64\n",
       "CRM_ATPT_CPTD_CD      int64\n",
       "LAW_CAT_CD            int64\n",
       "JURIS_DESC            int64\n",
       "JURISDICTION_CODE     int64\n",
       "SUSP_AGE_GROUP        int64\n",
       "SUSP_RACE             int64\n",
       "SUSP_SEX              int64\n",
       "PATROL_BORO           int64\n",
       "VIC_AGE_GROUP         int64\n",
       "VIC_RACE              int64\n",
       "VIC_SEX               int64\n",
       "year_of_occurance     int64\n",
       "month_of_occurance    int64\n",
       "day_of_week           int64\n",
       "daytype               int64\n",
       "time_diff             int32\n",
       "target                int64\n",
       "dtype: object"
      ]
     },
     "execution_count": 232,
     "metadata": {},
     "output_type": "execute_result"
    }
   ],
   "source": [
    "df5.dtypes\n"
   ]
  },
  {
   "cell_type": "code",
   "execution_count": 233,
   "metadata": {},
   "outputs": [
    {
     "name": "stdout",
     "output_type": "stream",
     "text": [
      "(41827, 24) (41827,)\n",
      "(17927, 24) (17927,)\n"
     ]
    }
   ],
   "source": [
    "X_train, X_test, y_train, y_test = train_test_split(df5, y, test_size=0.3)\n",
    "print(X_train.shape, y_train.shape)\n",
    "print(X_test.shape, y_test.shape)\n"
   ]
  },
  {
   "cell_type": "code",
   "execution_count": 234,
   "metadata": {},
   "outputs": [
    {
     "data": {
      "text/html": [
       "<div>\n",
       "<style scoped>\n",
       "    .dataframe tbody tr th:only-of-type {\n",
       "        vertical-align: middle;\n",
       "    }\n",
       "\n",
       "    .dataframe tbody tr th {\n",
       "        vertical-align: top;\n",
       "    }\n",
       "\n",
       "    .dataframe thead th {\n",
       "        text-align: right;\n",
       "    }\n",
       "</style>\n",
       "<table border=\"1\" class=\"dataframe\">\n",
       "  <thead>\n",
       "    <tr style=\"text-align: right;\">\n",
       "      <th></th>\n",
       "      <th>RPT_DT</th>\n",
       "      <th>ADDR_PCT_CD</th>\n",
       "      <th>count</th>\n",
       "      <th>CMPLNT_NUM</th>\n",
       "      <th>CMPLNT_FR_TM</th>\n",
       "      <th>KY_CD</th>\n",
       "      <th>OFNS_DESC</th>\n",
       "      <th>CRM_ATPT_CPTD_CD</th>\n",
       "      <th>LAW_CAT_CD</th>\n",
       "      <th>JURIS_DESC</th>\n",
       "      <th>...</th>\n",
       "      <th>PATROL_BORO</th>\n",
       "      <th>VIC_AGE_GROUP</th>\n",
       "      <th>VIC_RACE</th>\n",
       "      <th>VIC_SEX</th>\n",
       "      <th>year_of_occurance</th>\n",
       "      <th>month_of_occurance</th>\n",
       "      <th>day_of_week</th>\n",
       "      <th>daytype</th>\n",
       "      <th>time_diff</th>\n",
       "      <th>target</th>\n",
       "    </tr>\n",
       "  </thead>\n",
       "  <tbody>\n",
       "    <tr>\n",
       "      <th>count</th>\n",
       "      <td>41827.000000</td>\n",
       "      <td>41827.000000</td>\n",
       "      <td>41827.000000</td>\n",
       "      <td>41827.000000</td>\n",
       "      <td>41827.000000</td>\n",
       "      <td>41827.000000</td>\n",
       "      <td>41827.000000</td>\n",
       "      <td>41827.000000</td>\n",
       "      <td>41827.000000</td>\n",
       "      <td>41827.000000</td>\n",
       "      <td>...</td>\n",
       "      <td>41827.000000</td>\n",
       "      <td>41827.000000</td>\n",
       "      <td>41827.000000</td>\n",
       "      <td>41827.000000</td>\n",
       "      <td>41827.000000</td>\n",
       "      <td>41827.000000</td>\n",
       "      <td>41827.000000</td>\n",
       "      <td>41827.000000</td>\n",
       "      <td>41827.000000</td>\n",
       "      <td>41827.000000</td>\n",
       "    </tr>\n",
       "    <tr>\n",
       "      <th>mean</th>\n",
       "      <td>1372.042915</td>\n",
       "      <td>40.485739</td>\n",
       "      <td>1.523944</td>\n",
       "      <td>29862.740383</td>\n",
       "      <td>792.563033</td>\n",
       "      <td>29.670811</td>\n",
       "      <td>16.036125</td>\n",
       "      <td>0.985488</td>\n",
       "      <td>1.053195</td>\n",
       "      <td>4.940278</td>\n",
       "      <td>...</td>\n",
       "      <td>2.813804</td>\n",
       "      <td>3.348101</td>\n",
       "      <td>3.624429</td>\n",
       "      <td>2.325699</td>\n",
       "      <td>5.017357</td>\n",
       "      <td>5.657159</td>\n",
       "      <td>3.013508</td>\n",
       "      <td>0.274512</td>\n",
       "      <td>3.751046</td>\n",
       "      <td>0.489875</td>\n",
       "    </tr>\n",
       "    <tr>\n",
       "      <th>std</th>\n",
       "      <td>622.101379</td>\n",
       "      <td>20.246377</td>\n",
       "      <td>0.789291</td>\n",
       "      <td>17210.831161</td>\n",
       "      <td>392.119420</td>\n",
       "      <td>14.476874</td>\n",
       "      <td>10.407074</td>\n",
       "      <td>0.119591</td>\n",
       "      <td>0.725261</td>\n",
       "      <td>0.670448</td>\n",
       "      <td>...</td>\n",
       "      <td>2.155061</td>\n",
       "      <td>1.033296</td>\n",
       "      <td>1.845806</td>\n",
       "      <td>0.468998</td>\n",
       "      <td>1.698398</td>\n",
       "      <td>3.439609</td>\n",
       "      <td>2.014670</td>\n",
       "      <td>0.446273</td>\n",
       "      <td>27.964223</td>\n",
       "      <td>0.499903</td>\n",
       "    </tr>\n",
       "    <tr>\n",
       "      <th>min</th>\n",
       "      <td>1.000000</td>\n",
       "      <td>0.000000</td>\n",
       "      <td>1.000000</td>\n",
       "      <td>0.000000</td>\n",
       "      <td>0.000000</td>\n",
       "      <td>0.000000</td>\n",
       "      <td>0.000000</td>\n",
       "      <td>0.000000</td>\n",
       "      <td>0.000000</td>\n",
       "      <td>0.000000</td>\n",
       "      <td>...</td>\n",
       "      <td>0.000000</td>\n",
       "      <td>0.000000</td>\n",
       "      <td>0.000000</td>\n",
       "      <td>0.000000</td>\n",
       "      <td>1.000000</td>\n",
       "      <td>0.000000</td>\n",
       "      <td>0.000000</td>\n",
       "      <td>0.000000</td>\n",
       "      <td>0.000000</td>\n",
       "      <td>0.000000</td>\n",
       "    </tr>\n",
       "    <tr>\n",
       "      <th>25%</th>\n",
       "      <td>927.000000</td>\n",
       "      <td>25.000000</td>\n",
       "      <td>1.000000</td>\n",
       "      <td>14992.500000</td>\n",
       "      <td>521.000000</td>\n",
       "      <td>22.000000</td>\n",
       "      <td>6.000000</td>\n",
       "      <td>1.000000</td>\n",
       "      <td>1.000000</td>\n",
       "      <td>5.000000</td>\n",
       "      <td>...</td>\n",
       "      <td>1.000000</td>\n",
       "      <td>3.000000</td>\n",
       "      <td>2.000000</td>\n",
       "      <td>2.000000</td>\n",
       "      <td>4.000000</td>\n",
       "      <td>3.000000</td>\n",
       "      <td>1.000000</td>\n",
       "      <td>0.000000</td>\n",
       "      <td>1.000000</td>\n",
       "      <td>0.000000</td>\n",
       "    </tr>\n",
       "    <tr>\n",
       "      <th>50%</th>\n",
       "      <td>1501.000000</td>\n",
       "      <td>39.000000</td>\n",
       "      <td>1.000000</td>\n",
       "      <td>29784.000000</td>\n",
       "      <td>850.000000</td>\n",
       "      <td>29.000000</td>\n",
       "      <td>18.000000</td>\n",
       "      <td>1.000000</td>\n",
       "      <td>1.000000</td>\n",
       "      <td>5.000000</td>\n",
       "      <td>...</td>\n",
       "      <td>2.000000</td>\n",
       "      <td>3.000000</td>\n",
       "      <td>3.000000</td>\n",
       "      <td>2.000000</td>\n",
       "      <td>5.000000</td>\n",
       "      <td>6.000000</td>\n",
       "      <td>3.000000</td>\n",
       "      <td>0.000000</td>\n",
       "      <td>2.000000</td>\n",
       "      <td>0.000000</td>\n",
       "    </tr>\n",
       "    <tr>\n",
       "      <th>75%</th>\n",
       "      <td>1878.000000</td>\n",
       "      <td>58.000000</td>\n",
       "      <td>2.000000</td>\n",
       "      <td>44745.500000</td>\n",
       "      <td>1120.000000</td>\n",
       "      <td>44.000000</td>\n",
       "      <td>23.000000</td>\n",
       "      <td>1.000000</td>\n",
       "      <td>2.000000</td>\n",
       "      <td>5.000000</td>\n",
       "      <td>...</td>\n",
       "      <td>5.000000</td>\n",
       "      <td>4.000000</td>\n",
       "      <td>6.000000</td>\n",
       "      <td>3.000000</td>\n",
       "      <td>6.000000</td>\n",
       "      <td>9.000000</td>\n",
       "      <td>5.000000</td>\n",
       "      <td>1.000000</td>\n",
       "      <td>3.000000</td>\n",
       "      <td>1.000000</td>\n",
       "    </tr>\n",
       "    <tr>\n",
       "      <th>max</th>\n",
       "      <td>2283.000000</td>\n",
       "      <td>76.000000</td>\n",
       "      <td>7.000000</td>\n",
       "      <td>59751.000000</td>\n",
       "      <td>1419.000000</td>\n",
       "      <td>45.000000</td>\n",
       "      <td>40.000000</td>\n",
       "      <td>1.000000</td>\n",
       "      <td>2.000000</td>\n",
       "      <td>16.000000</td>\n",
       "      <td>...</td>\n",
       "      <td>7.000000</td>\n",
       "      <td>6.000000</td>\n",
       "      <td>6.000000</td>\n",
       "      <td>3.000000</td>\n",
       "      <td>9.000000</td>\n",
       "      <td>11.000000</td>\n",
       "      <td>6.000000</td>\n",
       "      <td>1.000000</td>\n",
       "      <td>1729.000000</td>\n",
       "      <td>1.000000</td>\n",
       "    </tr>\n",
       "  </tbody>\n",
       "</table>\n",
       "<p>8 rows × 24 columns</p>\n",
       "</div>"
      ],
      "text/plain": [
       "             RPT_DT   ADDR_PCT_CD         count    CMPLNT_NUM  CMPLNT_FR_TM  \\\n",
       "count  41827.000000  41827.000000  41827.000000  41827.000000  41827.000000   \n",
       "mean    1372.042915     40.485739      1.523944  29862.740383    792.563033   \n",
       "std      622.101379     20.246377      0.789291  17210.831161    392.119420   \n",
       "min        1.000000      0.000000      1.000000      0.000000      0.000000   \n",
       "25%      927.000000     25.000000      1.000000  14992.500000    521.000000   \n",
       "50%     1501.000000     39.000000      1.000000  29784.000000    850.000000   \n",
       "75%     1878.000000     58.000000      2.000000  44745.500000   1120.000000   \n",
       "max     2283.000000     76.000000      7.000000  59751.000000   1419.000000   \n",
       "\n",
       "              KY_CD     OFNS_DESC  CRM_ATPT_CPTD_CD    LAW_CAT_CD  \\\n",
       "count  41827.000000  41827.000000      41827.000000  41827.000000   \n",
       "mean      29.670811     16.036125          0.985488      1.053195   \n",
       "std       14.476874     10.407074          0.119591      0.725261   \n",
       "min        0.000000      0.000000          0.000000      0.000000   \n",
       "25%       22.000000      6.000000          1.000000      1.000000   \n",
       "50%       29.000000     18.000000          1.000000      1.000000   \n",
       "75%       44.000000     23.000000          1.000000      2.000000   \n",
       "max       45.000000     40.000000          1.000000      2.000000   \n",
       "\n",
       "         JURIS_DESC  ...   PATROL_BORO  VIC_AGE_GROUP      VIC_RACE  \\\n",
       "count  41827.000000  ...  41827.000000   41827.000000  41827.000000   \n",
       "mean       4.940278  ...      2.813804       3.348101      3.624429   \n",
       "std        0.670448  ...      2.155061       1.033296      1.845806   \n",
       "min        0.000000  ...      0.000000       0.000000      0.000000   \n",
       "25%        5.000000  ...      1.000000       3.000000      2.000000   \n",
       "50%        5.000000  ...      2.000000       3.000000      3.000000   \n",
       "75%        5.000000  ...      5.000000       4.000000      6.000000   \n",
       "max       16.000000  ...      7.000000       6.000000      6.000000   \n",
       "\n",
       "            VIC_SEX  year_of_occurance  month_of_occurance   day_of_week  \\\n",
       "count  41827.000000       41827.000000        41827.000000  41827.000000   \n",
       "mean       2.325699           5.017357            5.657159      3.013508   \n",
       "std        0.468998           1.698398            3.439609      2.014670   \n",
       "min        0.000000           1.000000            0.000000      0.000000   \n",
       "25%        2.000000           4.000000            3.000000      1.000000   \n",
       "50%        2.000000           5.000000            6.000000      3.000000   \n",
       "75%        3.000000           6.000000            9.000000      5.000000   \n",
       "max        3.000000           9.000000           11.000000      6.000000   \n",
       "\n",
       "            daytype     time_diff        target  \n",
       "count  41827.000000  41827.000000  41827.000000  \n",
       "mean       0.274512      3.751046      0.489875  \n",
       "std        0.446273     27.964223      0.499903  \n",
       "min        0.000000      0.000000      0.000000  \n",
       "25%        0.000000      1.000000      0.000000  \n",
       "50%        0.000000      2.000000      0.000000  \n",
       "75%        1.000000      3.000000      1.000000  \n",
       "max        1.000000   1729.000000      1.000000  \n",
       "\n",
       "[8 rows x 24 columns]"
      ]
     },
     "execution_count": 234,
     "metadata": {},
     "output_type": "execute_result"
    }
   ],
   "source": [
    "X_train.describe()"
   ]
  },
  {
   "cell_type": "code",
   "execution_count": 235,
   "metadata": {},
   "outputs": [
    {
     "data": {
      "text/html": [
       "<div>\n",
       "<style scoped>\n",
       "    .dataframe tbody tr th:only-of-type {\n",
       "        vertical-align: middle;\n",
       "    }\n",
       "\n",
       "    .dataframe tbody tr th {\n",
       "        vertical-align: top;\n",
       "    }\n",
       "\n",
       "    .dataframe thead th {\n",
       "        text-align: right;\n",
       "    }\n",
       "</style>\n",
       "<table border=\"1\" class=\"dataframe\">\n",
       "  <thead>\n",
       "    <tr style=\"text-align: right;\">\n",
       "      <th></th>\n",
       "      <th>RPT_DT</th>\n",
       "      <th>ADDR_PCT_CD</th>\n",
       "      <th>count</th>\n",
       "      <th>CMPLNT_NUM</th>\n",
       "      <th>CMPLNT_FR_TM</th>\n",
       "      <th>KY_CD</th>\n",
       "      <th>OFNS_DESC</th>\n",
       "      <th>CRM_ATPT_CPTD_CD</th>\n",
       "      <th>LAW_CAT_CD</th>\n",
       "      <th>JURIS_DESC</th>\n",
       "      <th>...</th>\n",
       "      <th>PATROL_BORO</th>\n",
       "      <th>VIC_AGE_GROUP</th>\n",
       "      <th>VIC_RACE</th>\n",
       "      <th>VIC_SEX</th>\n",
       "      <th>year_of_occurance</th>\n",
       "      <th>month_of_occurance</th>\n",
       "      <th>day_of_week</th>\n",
       "      <th>daytype</th>\n",
       "      <th>time_diff</th>\n",
       "      <th>target</th>\n",
       "    </tr>\n",
       "  </thead>\n",
       "  <tbody>\n",
       "    <tr>\n",
       "      <th>count</th>\n",
       "      <td>17927.000000</td>\n",
       "      <td>17927.000000</td>\n",
       "      <td>17927.000000</td>\n",
       "      <td>17927.000000</td>\n",
       "      <td>17927.000000</td>\n",
       "      <td>17927.000000</td>\n",
       "      <td>17927.000000</td>\n",
       "      <td>17927.000000</td>\n",
       "      <td>17927.000000</td>\n",
       "      <td>17927.000000</td>\n",
       "      <td>...</td>\n",
       "      <td>17927.000000</td>\n",
       "      <td>17927.000000</td>\n",
       "      <td>17927.000000</td>\n",
       "      <td>17927.000000</td>\n",
       "      <td>17927.000000</td>\n",
       "      <td>17927.000000</td>\n",
       "      <td>17927.000000</td>\n",
       "      <td>17927.000000</td>\n",
       "      <td>17927.000000</td>\n",
       "      <td>17927.000000</td>\n",
       "    </tr>\n",
       "    <tr>\n",
       "      <th>mean</th>\n",
       "      <td>1370.575780</td>\n",
       "      <td>40.412897</td>\n",
       "      <td>1.518994</td>\n",
       "      <td>29908.603726</td>\n",
       "      <td>790.781391</td>\n",
       "      <td>29.829475</td>\n",
       "      <td>16.064428</td>\n",
       "      <td>0.986333</td>\n",
       "      <td>1.059631</td>\n",
       "      <td>4.938305</td>\n",
       "      <td>...</td>\n",
       "      <td>2.801026</td>\n",
       "      <td>3.347855</td>\n",
       "      <td>3.592681</td>\n",
       "      <td>2.319183</td>\n",
       "      <td>5.015117</td>\n",
       "      <td>5.636749</td>\n",
       "      <td>3.036481</td>\n",
       "      <td>0.279913</td>\n",
       "      <td>3.471523</td>\n",
       "      <td>0.489374</td>\n",
       "    </tr>\n",
       "    <tr>\n",
       "      <th>std</th>\n",
       "      <td>621.284202</td>\n",
       "      <td>20.158224</td>\n",
       "      <td>0.782824</td>\n",
       "      <td>17340.283934</td>\n",
       "      <td>392.581927</td>\n",
       "      <td>14.467944</td>\n",
       "      <td>10.384681</td>\n",
       "      <td>0.116106</td>\n",
       "      <td>0.726188</td>\n",
       "      <td>0.669700</td>\n",
       "      <td>...</td>\n",
       "      <td>2.144627</td>\n",
       "      <td>1.034191</td>\n",
       "      <td>1.842234</td>\n",
       "      <td>0.466173</td>\n",
       "      <td>1.699783</td>\n",
       "      <td>3.423039</td>\n",
       "      <td>1.998244</td>\n",
       "      <td>0.448969</td>\n",
       "      <td>22.707917</td>\n",
       "      <td>0.499901</td>\n",
       "    </tr>\n",
       "    <tr>\n",
       "      <th>min</th>\n",
       "      <td>0.000000</td>\n",
       "      <td>0.000000</td>\n",
       "      <td>1.000000</td>\n",
       "      <td>1.000000</td>\n",
       "      <td>0.000000</td>\n",
       "      <td>0.000000</td>\n",
       "      <td>0.000000</td>\n",
       "      <td>0.000000</td>\n",
       "      <td>0.000000</td>\n",
       "      <td>0.000000</td>\n",
       "      <td>...</td>\n",
       "      <td>0.000000</td>\n",
       "      <td>2.000000</td>\n",
       "      <td>0.000000</td>\n",
       "      <td>2.000000</td>\n",
       "      <td>0.000000</td>\n",
       "      <td>0.000000</td>\n",
       "      <td>0.000000</td>\n",
       "      <td>0.000000</td>\n",
       "      <td>0.000000</td>\n",
       "      <td>0.000000</td>\n",
       "    </tr>\n",
       "    <tr>\n",
       "      <th>25%</th>\n",
       "      <td>926.000000</td>\n",
       "      <td>25.000000</td>\n",
       "      <td>1.000000</td>\n",
       "      <td>14779.000000</td>\n",
       "      <td>521.000000</td>\n",
       "      <td>24.000000</td>\n",
       "      <td>6.000000</td>\n",
       "      <td>1.000000</td>\n",
       "      <td>1.000000</td>\n",
       "      <td>5.000000</td>\n",
       "      <td>...</td>\n",
       "      <td>1.000000</td>\n",
       "      <td>3.000000</td>\n",
       "      <td>2.000000</td>\n",
       "      <td>2.000000</td>\n",
       "      <td>4.000000</td>\n",
       "      <td>3.000000</td>\n",
       "      <td>1.000000</td>\n",
       "      <td>0.000000</td>\n",
       "      <td>1.000000</td>\n",
       "      <td>0.000000</td>\n",
       "    </tr>\n",
       "    <tr>\n",
       "      <th>50%</th>\n",
       "      <td>1497.000000</td>\n",
       "      <td>39.000000</td>\n",
       "      <td>1.000000</td>\n",
       "      <td>30094.000000</td>\n",
       "      <td>845.000000</td>\n",
       "      <td>29.000000</td>\n",
       "      <td>18.000000</td>\n",
       "      <td>1.000000</td>\n",
       "      <td>1.000000</td>\n",
       "      <td>5.000000</td>\n",
       "      <td>...</td>\n",
       "      <td>2.000000</td>\n",
       "      <td>3.000000</td>\n",
       "      <td>3.000000</td>\n",
       "      <td>2.000000</td>\n",
       "      <td>5.000000</td>\n",
       "      <td>6.000000</td>\n",
       "      <td>3.000000</td>\n",
       "      <td>0.000000</td>\n",
       "      <td>2.000000</td>\n",
       "      <td>0.000000</td>\n",
       "    </tr>\n",
       "    <tr>\n",
       "      <th>75%</th>\n",
       "      <td>1876.000000</td>\n",
       "      <td>58.000000</td>\n",
       "      <td>2.000000</td>\n",
       "      <td>44983.000000</td>\n",
       "      <td>1120.000000</td>\n",
       "      <td>44.000000</td>\n",
       "      <td>23.000000</td>\n",
       "      <td>1.000000</td>\n",
       "      <td>2.000000</td>\n",
       "      <td>5.000000</td>\n",
       "      <td>...</td>\n",
       "      <td>5.000000</td>\n",
       "      <td>4.000000</td>\n",
       "      <td>6.000000</td>\n",
       "      <td>3.000000</td>\n",
       "      <td>6.000000</td>\n",
       "      <td>9.000000</td>\n",
       "      <td>5.000000</td>\n",
       "      <td>1.000000</td>\n",
       "      <td>3.000000</td>\n",
       "      <td>1.000000</td>\n",
       "    </tr>\n",
       "    <tr>\n",
       "      <th>max</th>\n",
       "      <td>2279.000000</td>\n",
       "      <td>76.000000</td>\n",
       "      <td>7.000000</td>\n",
       "      <td>59753.000000</td>\n",
       "      <td>1419.000000</td>\n",
       "      <td>45.000000</td>\n",
       "      <td>40.000000</td>\n",
       "      <td>1.000000</td>\n",
       "      <td>2.000000</td>\n",
       "      <td>16.000000</td>\n",
       "      <td>...</td>\n",
       "      <td>7.000000</td>\n",
       "      <td>6.000000</td>\n",
       "      <td>6.000000</td>\n",
       "      <td>3.000000</td>\n",
       "      <td>9.000000</td>\n",
       "      <td>11.000000</td>\n",
       "      <td>6.000000</td>\n",
       "      <td>1.000000</td>\n",
       "      <td>1728.000000</td>\n",
       "      <td>1.000000</td>\n",
       "    </tr>\n",
       "  </tbody>\n",
       "</table>\n",
       "<p>8 rows × 24 columns</p>\n",
       "</div>"
      ],
      "text/plain": [
       "             RPT_DT   ADDR_PCT_CD         count    CMPLNT_NUM  CMPLNT_FR_TM  \\\n",
       "count  17927.000000  17927.000000  17927.000000  17927.000000  17927.000000   \n",
       "mean    1370.575780     40.412897      1.518994  29908.603726    790.781391   \n",
       "std      621.284202     20.158224      0.782824  17340.283934    392.581927   \n",
       "min        0.000000      0.000000      1.000000      1.000000      0.000000   \n",
       "25%      926.000000     25.000000      1.000000  14779.000000    521.000000   \n",
       "50%     1497.000000     39.000000      1.000000  30094.000000    845.000000   \n",
       "75%     1876.000000     58.000000      2.000000  44983.000000   1120.000000   \n",
       "max     2279.000000     76.000000      7.000000  59753.000000   1419.000000   \n",
       "\n",
       "              KY_CD     OFNS_DESC  CRM_ATPT_CPTD_CD    LAW_CAT_CD  \\\n",
       "count  17927.000000  17927.000000      17927.000000  17927.000000   \n",
       "mean      29.829475     16.064428          0.986333      1.059631   \n",
       "std       14.467944     10.384681          0.116106      0.726188   \n",
       "min        0.000000      0.000000          0.000000      0.000000   \n",
       "25%       24.000000      6.000000          1.000000      1.000000   \n",
       "50%       29.000000     18.000000          1.000000      1.000000   \n",
       "75%       44.000000     23.000000          1.000000      2.000000   \n",
       "max       45.000000     40.000000          1.000000      2.000000   \n",
       "\n",
       "         JURIS_DESC  ...   PATROL_BORO  VIC_AGE_GROUP      VIC_RACE  \\\n",
       "count  17927.000000  ...  17927.000000   17927.000000  17927.000000   \n",
       "mean       4.938305  ...      2.801026       3.347855      3.592681   \n",
       "std        0.669700  ...      2.144627       1.034191      1.842234   \n",
       "min        0.000000  ...      0.000000       2.000000      0.000000   \n",
       "25%        5.000000  ...      1.000000       3.000000      2.000000   \n",
       "50%        5.000000  ...      2.000000       3.000000      3.000000   \n",
       "75%        5.000000  ...      5.000000       4.000000      6.000000   \n",
       "max       16.000000  ...      7.000000       6.000000      6.000000   \n",
       "\n",
       "            VIC_SEX  year_of_occurance  month_of_occurance   day_of_week  \\\n",
       "count  17927.000000       17927.000000        17927.000000  17927.000000   \n",
       "mean       2.319183           5.015117            5.636749      3.036481   \n",
       "std        0.466173           1.699783            3.423039      1.998244   \n",
       "min        2.000000           0.000000            0.000000      0.000000   \n",
       "25%        2.000000           4.000000            3.000000      1.000000   \n",
       "50%        2.000000           5.000000            6.000000      3.000000   \n",
       "75%        3.000000           6.000000            9.000000      5.000000   \n",
       "max        3.000000           9.000000           11.000000      6.000000   \n",
       "\n",
       "            daytype     time_diff        target  \n",
       "count  17927.000000  17927.000000  17927.000000  \n",
       "mean       0.279913      3.471523      0.489374  \n",
       "std        0.448969     22.707917      0.499901  \n",
       "min        0.000000      0.000000      0.000000  \n",
       "25%        0.000000      1.000000      0.000000  \n",
       "50%        0.000000      2.000000      0.000000  \n",
       "75%        1.000000      3.000000      1.000000  \n",
       "max        1.000000   1728.000000      1.000000  \n",
       "\n",
       "[8 rows x 24 columns]"
      ]
     },
     "execution_count": 235,
     "metadata": {},
     "output_type": "execute_result"
    }
   ],
   "source": [
    "X_test.describe()"
   ]
  },
  {
   "cell_type": "markdown",
   "metadata": {
    "heading_collapsed": true
   },
   "source": [
    "# Data standardization"
   ]
  },
  {
   "cell_type": "code",
   "execution_count": 236,
   "metadata": {
    "hidden": true
   },
   "outputs": [],
   "source": [
    "train_mean = X_train.mean()\n",
    "train_std = X_train.std()"
   ]
  },
  {
   "cell_type": "code",
   "execution_count": 237,
   "metadata": {
    "hidden": true
   },
   "outputs": [],
   "source": [
    "## Standardize the train data set\n",
    "X_train = (X_train - train_mean) / train_std"
   ]
  },
  {
   "cell_type": "code",
   "execution_count": 238,
   "metadata": {
    "hidden": true
   },
   "outputs": [],
   "source": [
    "## Check for mean and std dev.\n",
    "#X_train.describe()"
   ]
  },
  {
   "cell_type": "code",
   "execution_count": 239,
   "metadata": {
    "hidden": true
   },
   "outputs": [],
   "source": [
    "## Note: We use train_mean and train_std_dev to standardize test data set\n",
    "X_test = (X_test - train_mean) / train_std"
   ]
  },
  {
   "cell_type": "code",
   "execution_count": 240,
   "metadata": {
    "hidden": true
   },
   "outputs": [],
   "source": [
    "## Check for mean and std dev. - not exactly 0 and 1\n",
    "#X_test.describe()"
   ]
  },
  {
   "cell_type": "markdown",
   "metadata": {
    "heading_collapsed": true
   },
   "source": [
    "# Model-1 Logistic Regresssion"
   ]
  },
  {
   "cell_type": "code",
   "execution_count": 241,
   "metadata": {},
   "outputs": [],
   "source": [
    "from sklearn.metrics import classification_report,confusion_matrix"
   ]
  },
  {
   "cell_type": "code",
   "execution_count": 242,
   "metadata": {
    "hidden": true
   },
   "outputs": [
    {
     "name": "stdout",
     "output_type": "stream",
     "text": [
      "Score: \n",
      " 100.0\n",
      "Test Score: \n",
      " 100.0\n",
      "Accuracy: \n",
      " 1.0\n",
      "[[9154    0]\n",
      " [   0 8773]]\n",
      "              precision    recall  f1-score   support\n",
      "\n",
      "           0       1.00      1.00      1.00      9154\n",
      "           1       1.00      1.00      1.00      8773\n",
      "\n",
      "    accuracy                           1.00     17927\n",
      "   macro avg       1.00      1.00      1.00     17927\n",
      "weighted avg       1.00      1.00      1.00     17927\n",
      "\n"
     ]
    }
   ],
   "source": [
    "tuned_params = {'C': [100, 10, 1.0, 0.1, 0.01], 'penalty': ['l2', 'l2']}\n",
    "model = GridSearchCV(LogisticRegression(), tuned_params, scoring = 'roc_auc', n_jobs=-1)\n",
    "model.fit(X_train, y_train)\n",
    "#Predict Output\n",
    "predicted= model.predict(X_test)\n",
    "\n",
    "model_score = round(model.score(X_train, y_train) * 100, 2)\n",
    "model_score_test = round(model.score(X_test, y_test) * 100, 2)\n",
    "print('Score: \\n', model_score)\n",
    "print('Test Score: \\n', model_score_test)\n",
    "print('Accuracy: \\n', accuracy_score(y_test,predicted))\n",
    "print(confusion_matrix(predicted,y_test))\n",
    "print(classification_report(y_test,predicted))"
   ]
  },
  {
   "cell_type": "code",
   "execution_count": 74,
   "metadata": {
    "hidden": true
   },
   "outputs": [
    {
     "data": {
      "text/plain": [
       "LogisticRegression(C=0.0001)"
      ]
     },
     "execution_count": 74,
     "metadata": {},
     "output_type": "execute_result"
    }
   ],
   "source": [
    "model.best_estimator_"
   ]
  },
  {
   "cell_type": "code",
   "execution_count": 75,
   "metadata": {
    "hidden": true
   },
   "outputs": [],
   "source": [
    "## Predict Train set results\n",
    "y_train_pred = model.predict(X_train)"
   ]
  },
  {
   "cell_type": "code",
   "execution_count": 76,
   "metadata": {
    "hidden": true
   },
   "outputs": [],
   "source": [
    "## Predict Test set results\n",
    "y_pred = model.predict(X_test)"
   ]
  },
  {
   "cell_type": "code",
   "execution_count": 77,
   "metadata": {
    "hidden": true
   },
   "outputs": [],
   "source": [
    "# Get just the prediction for the positive class (1)\n",
    "y_pred_proba = model.predict_proba(X_test)[:,1]"
   ]
  },
  {
   "cell_type": "code",
   "execution_count": 78,
   "metadata": {
    "hidden": true
   },
   "outputs": [
    {
     "data": {
      "text/plain": [
       "array([0.20616956, 0.81628927, 0.19120774, 0.67265082, 0.23611055,\n",
       "       0.73897073, 0.19779219, 0.20497025, 0.18626467, 0.72699444,\n",
       "       0.2277929 , 0.25339793, 0.78335338, 0.80321864, 0.77458087,\n",
       "       0.2376201 , 0.77079495, 0.3127085 , 0.24445507, 0.71581219])"
      ]
     },
     "execution_count": 78,
     "metadata": {},
     "output_type": "execute_result"
    }
   ],
   "source": [
    "# Display first 10 predictions\n",
    "y_pred_proba[:20]"
   ]
  },
  {
   "cell_type": "code",
   "execution_count": 79,
   "metadata": {
    "hidden": true
   },
   "outputs": [
    {
     "name": "stdout",
     "output_type": "stream",
     "text": [
      "For test point 28, actual class = 1, precited class = 1, predicted probability = 0.7343832038466747\n"
     ]
    }
   ],
   "source": [
    "i=28  ## Change the value of i to get the details of any point (56, 213, etc.)\n",
    "print('For test point {}, actual class = {}, precited class = {}, predicted probability = {}'.\n",
    "      format(i, y_test.iloc[i], y_pred[i], y_pred_proba[i]))"
   ]
  },
  {
   "cell_type": "code",
   "execution_count": 80,
   "metadata": {
    "hidden": true
   },
   "outputs": [
    {
     "data": {
      "text/plain": [
       "array([[9111,    0],\n",
       "       [   6, 8810]], dtype=int64)"
      ]
     },
     "execution_count": 80,
     "metadata": {},
     "output_type": "execute_result"
    }
   ],
   "source": [
    "confusion_matrix(y_test, y_pred).T"
   ]
  },
  {
   "cell_type": "code",
   "execution_count": 81,
   "metadata": {
    "hidden": true
   },
   "outputs": [],
   "source": [
    "# Calculate ROC curve from y_test and pred\n",
    "fpr, tpr, thresholds = roc_curve(y_test, y_pred_proba)"
   ]
  },
  {
   "cell_type": "code",
   "execution_count": 82,
   "metadata": {
    "hidden": true
   },
   "outputs": [
    {
     "data": {
      "image/png": "[encoded data removed]",
      "text/plain": [
       "<Figure size 576x576 with 1 Axes>"
      ]
     },
     "metadata": {
      "needs_background": "light"
     },
     "output_type": "display_data"
    }
   ],
   "source": [
    "# Plot the ROC curve\n",
    "fig = plt.figure(figsize=(8,8))\n",
    "plt.title('Receiver Operating Characteristic')\n",
    "\n",
    "# Plot ROC curve\n",
    "plt.plot(fpr, tpr, label='l1')\n",
    "plt.legend(loc='lower right')\n",
    "\n",
    "# Diagonal 45 degree line\n",
    "plt.plot([0,1],[0,1],'k--')\n",
    "\n",
    "# Axes limits and labels\n",
    "plt.xlim([-0.1,1.1])\n",
    "plt.ylim([-0.1,1.1])\n",
    "plt.ylabel('True Positive Rate')\n",
    "plt.xlabel('False Positive Rate')\n",
    "plt.show()"
   ]
  },
  {
   "cell_type": "code",
   "execution_count": 83,
   "metadata": {
    "hidden": true
   },
   "outputs": [
    {
     "name": "stdout",
     "output_type": "stream",
     "text": [
      "0.9996958922054833\n"
     ]
    }
   ],
   "source": [
    "# Calculate AUC for Train set\n",
    "print(roc_auc_score(y_train, y_train_pred))"
   ]
  },
  {
   "cell_type": "code",
   "execution_count": 84,
   "metadata": {
    "hidden": true
   },
   "outputs": [
    {
     "name": "stdout",
     "output_type": "stream",
     "text": [
      "1.0\n"
     ]
    }
   ],
   "source": [
    "# Calculate AUC for Test set\n",
    "print(auc(fpr, tpr))"
   ]
  },
  {
   "cell_type": "raw",
   "metadata": {
    "hidden": true
   },
   "source": [
    "Feature Importance"
   ]
  },
  {
   "cell_type": "code",
   "execution_count": 85,
   "metadata": {
    "hidden": true
   },
   "outputs": [
    {
     "data": {
      "text/plain": [
       "LogisticRegression(C=1)"
      ]
     },
     "execution_count": 85,
     "metadata": {},
     "output_type": "execute_result"
    }
   ],
   "source": [
    "## Building the model again with the best hyperparameters\n",
    "model = LogisticRegression(C=1, penalty = 'l2')\n",
    "model.fit(X_train, y_train)"
   ]
  },
  {
   "cell_type": "code",
   "execution_count": 86,
   "metadata": {
    "hidden": true
   },
   "outputs": [
    {
     "name": "stdout",
     "output_type": "stream",
     "text": [
      "Feature: 0, Score: 0.16320\n",
      "Feature: 1, Score: -0.64301\n",
      "Feature: 2, Score: 0.48497\n",
      "Feature: 3, Score: -0.46190\n",
      "Feature: 4, Score: 0.18432\n",
      "Feature: 5, Score: -0.11978\n",
      "Feature: 6, Score: -0.40602\n",
      "Feature: 7, Score: 0.03772\n",
      "Feature: 8, Score: -0.51785\n",
      "Feature: 9, Score: 0.26540\n"
     ]
    },
    {
     "data": {
      "image/png": "[encoded data removed]",
      "text/plain": [
       "<Figure size 432x288 with 1 Axes>"
      ]
     },
     "metadata": {
      "needs_background": "light"
     },
     "output_type": "display_data"
    }
   ],
   "source": [
    "# logistic regression for feature importance\n",
    "from sklearn.datasets import make_classification\n",
    "from sklearn.linear_model import LogisticRegression\n",
    "from matplotlib import pyplot\n",
    "# define dataset\n",
    "X, y = make_classification(n_samples=1000, n_features=10, n_informative=5, n_redundant=5, random_state=1)\n",
    "# define the model\n",
    "model = LogisticRegression()\n",
    "# fit the model\n",
    "model.fit(X, y)\n",
    "# get importance\n",
    "importance = model.coef_[0]\n",
    "# summarize feature importance\n",
    "for i,v in enumerate(importance):\n",
    "\tprint('Feature: %0d, Score: %.5f' % (i,v))\n",
    "# plot feature importance\n",
    "pyplot.bar([x for x in range(len(importance))], importance)\n",
    "pyplot.show()\n"
   ]
  },
  {
   "cell_type": "markdown",
   "metadata": {
    "hidden": true
   },
   "source": [
    "Note that both positive and negative are the coefficients. The positive scores show a function that predicts class 1, while the negative scores show a function that predicts class 0.\n",
    "\n",
    "From these outcomes, at least from what I can say, no consistent trend of significant and unimportant features can be established.\n",
    "A bar chart is then created for the feature importance scores."
   ]
  },
  {
   "cell_type": "markdown",
   "metadata": {
    "heading_collapsed": true
   },
   "source": [
    "# Model-2 Random Forest "
   ]
  },
  {
   "cell_type": "code",
   "execution_count": 87,
   "metadata": {
    "hidden": true
   },
   "outputs": [],
   "source": [
    "tuned_params = {'n_estimators': [100, 200, 300, 400, 500], 'min_samples_split': [2, 5, 10], 'min_samples_leaf': [1, 2, 4]}\n"
   ]
  },
  {
   "cell_type": "code",
   "execution_count": 88,
   "metadata": {},
   "outputs": [
    {
     "name": "stdout",
     "output_type": "stream",
     "text": [
      "Score: \n",
      " 100.0\n",
      "Test Score: \n",
      " 100.0\n",
      "Accuracy: \n",
      " 1.0\n",
      "[[9117    0]\n",
      " [   0 8810]]\n",
      "              precision    recall  f1-score   support\n",
      "\n",
      "           0       1.00      1.00      1.00      9117\n",
      "           1       1.00      1.00      1.00      8810\n",
      "\n",
      "    accuracy                           1.00     17927\n",
      "   macro avg       1.00      1.00      1.00     17927\n",
      "weighted avg       1.00      1.00      1.00     17927\n",
      "\n"
     ]
    }
   ],
   "source": [
    "model = RandomizedSearchCV(RandomForestClassifier(), tuned_params, n_iter=15, scoring = 'roc_auc', n_jobs=-1)\n",
    "model.fit(X_train, y_train)\n",
    "\n",
    "#Predict Output\n",
    "predicted= model.predict(X_test)\n",
    "\n",
    "model_score = round(model.score(X_train, y_train) * 100, 2)\n",
    "model_score_test = round(model.score(X_test, y_test) * 100, 2)\n",
    "print('Score: \\n', model_score)\n",
    "print('Test Score: \\n', model_score_test)\n",
    "print('Accuracy: \\n', accuracy_score(y_test,predicted))\n",
    "print(confusion_matrix(predicted,y_test))\n",
    "print(classification_report(y_test,predicted))"
   ]
  },
  {
   "cell_type": "code",
   "execution_count": 89,
   "metadata": {
    "hidden": true
   },
   "outputs": [
    {
     "data": {
      "text/plain": [
       "RandomForestClassifier(min_samples_leaf=4, min_samples_split=5,\n",
       "                       n_estimators=400)"
      ]
     },
     "execution_count": 89,
     "metadata": {},
     "output_type": "execute_result"
    }
   ],
   "source": [
    "model.best_estimator_"
   ]
  },
  {
   "cell_type": "code",
   "execution_count": 90,
   "metadata": {
    "hidden": true
   },
   "outputs": [],
   "source": [
    "y_train_pred = model.predict(X_train)"
   ]
  },
  {
   "cell_type": "code",
   "execution_count": 91,
   "metadata": {
    "hidden": true
   },
   "outputs": [],
   "source": [
    "y_pred = model.predict(X_test)"
   ]
  },
  {
   "cell_type": "code",
   "execution_count": 92,
   "metadata": {
    "hidden": true
   },
   "outputs": [],
   "source": [
    "# Get just the prediction for the positive class (1)\n",
    "y_pred_proba = model.predict_proba(X_test)[:,1]"
   ]
  },
  {
   "cell_type": "code",
   "execution_count": 93,
   "metadata": {
    "hidden": true
   },
   "outputs": [
    {
     "data": {
      "text/plain": [
       "array([0.0015    , 0.99925   , 0.00264583, 0.99469231, 0.        ,\n",
       "       0.99903846, 0.00357143, 0.00176471, 0.00213675, 0.98577489])"
      ]
     },
     "execution_count": 93,
     "metadata": {},
     "output_type": "execute_result"
    }
   ],
   "source": [
    "# Display first 10 predictions\n",
    "y_pred_proba[:10]"
   ]
  },
  {
   "cell_type": "code",
   "execution_count": 94,
   "metadata": {
    "hidden": true
   },
   "outputs": [],
   "source": [
    "# Calculate ROC curve from y_test and pred\n",
    "fpr, tpr, thresholds = roc_curve(y_test, y_pred_proba)"
   ]
  },
  {
   "cell_type": "code",
   "execution_count": 95,
   "metadata": {
    "hidden": true
   },
   "outputs": [
    {
     "data": {
      "image/png": "[encoded data removed]",
      "text/plain": [
       "<Figure size 576x576 with 1 Axes>"
      ]
     },
     "metadata": {
      "needs_background": "light"
     },
     "output_type": "display_data"
    }
   ],
   "source": [
    "# Plot the ROC curve\n",
    "fig = plt.figure(figsize=(8,8))\n",
    "plt.title('Receiver Operating Characteristic')\n",
    "\n",
    "# Plot ROC curve\n",
    "plt.plot(fpr, tpr, label='l1')\n",
    "plt.legend(loc='lower right')\n",
    "\n",
    "# Diagonal 45 degree line\n",
    "plt.plot([0,1],[0,1],'k--')\n",
    "\n",
    "# Axes limits and labels\n",
    "plt.xlim([-0.1,1.1])\n",
    "plt.ylim([-0.1,1.1])\n",
    "plt.ylabel('True Positive Rate')\n",
    "plt.xlabel('False Positive Rate')\n",
    "plt.show()\n"
   ]
  },
  {
   "cell_type": "code",
   "execution_count": 96,
   "metadata": {
    "hidden": true
   },
   "outputs": [
    {
     "data": {
      "text/plain": [
       "1.0"
      ]
     },
     "execution_count": 96,
     "metadata": {},
     "output_type": "execute_result"
    }
   ],
   "source": [
    "# Calculate AUC for Train\n",
    "roc_auc_score(y_train, y_train_pred)"
   ]
  },
  {
   "cell_type": "code",
   "execution_count": 97,
   "metadata": {
    "hidden": true
   },
   "outputs": [
    {
     "name": "stdout",
     "output_type": "stream",
     "text": [
      "0.9999999999999999\n"
     ]
    }
   ],
   "source": [
    "# Calculate AUC for Test\n",
    "print(auc(fpr, tpr))"
   ]
  },
  {
   "cell_type": "raw",
   "metadata": {
    "hidden": true
   },
   "source": [
    "# Feature Selection"
   ]
  },
  {
   "cell_type": "code",
   "execution_count": 98,
   "metadata": {
    "hidden": true
   },
   "outputs": [
    {
     "data": {
      "text/plain": [
       "RandomForestClassifier(min_samples_leaf=4, n_estimators=500)"
      ]
     },
     "execution_count": 98,
     "metadata": {},
     "output_type": "execute_result"
    }
   ],
   "source": [
    "\n",
    "## Building the model again with the best hyperparameters\n",
    "model = RandomForestClassifier(n_estimators=500, min_samples_split=2, min_samples_leaf=4)\n",
    "model.fit(X_train, y_train)"
   ]
  },
  {
   "cell_type": "code",
   "execution_count": 99,
   "metadata": {
    "hidden": true
   },
   "outputs": [
    {
     "data": {
      "text/plain": [
       "<matplotlib.axes._subplots.AxesSubplot at 0x2579e54c820>"
      ]
     },
     "execution_count": 99,
     "metadata": {},
     "output_type": "execute_result"
    },
    {
     "data": {
      "image/png": "[encoded data removed]",
      "text/plain": [
       "<Figure size 432x288 with 1 Axes>"
      ]
     },
     "metadata": {
      "needs_background": "light"
     },
     "output_type": "display_data"
    }
   ],
   "source": [
    "feat_importances = pd.Series(model.feature_importances_, index=df5.columns)\n",
    "feat_importances.nlargest(4).plot(kind='barh')\n"
   ]
  },
  {
   "cell_type": "markdown",
   "metadata": {
    "heading_collapsed": true
   },
   "source": [
    "# Model-3 XGBoost"
   ]
  },
  {
   "cell_type": "code",
   "execution_count": 100,
   "metadata": {},
   "outputs": [],
   "source": [
    "from xgboost import XGBClassifier"
   ]
  },
  {
   "cell_type": "code",
   "execution_count": 102,
   "metadata": {
    "hidden": true
   },
   "outputs": [
    {
     "name": "stdout",
     "output_type": "stream",
     "text": [
      "Score: \n",
      " 100.0\n",
      "Test Score: \n",
      " 100.0\n",
      "Accuracy: \n",
      " 1.0\n",
      "[[9117    0]\n",
      " [   0 8810]]\n",
      "              precision    recall  f1-score   support\n",
      "\n",
      "           0       1.00      1.00      1.00      9117\n",
      "           1       1.00      1.00      1.00      8810\n",
      "\n",
      "    accuracy                           1.00     17927\n",
      "   macro avg       1.00      1.00      1.00     17927\n",
      "weighted avg       1.00      1.00      1.00     17927\n",
      "\n"
     ]
    }
   ],
   "source": [
    "tuned_params = {'max_depth': [1, 2, 3, 4, 5], 'learning_rate': [0.01, 0.05, 0.1], 'n_estimators': [100, 200, 300, 400, 500], 'reg_lambda': [0.001, 0.1, 1.0, 10.0, 100.0]}\n",
    "model = RandomizedSearchCV(XGBClassifier(), tuned_params, n_iter=15, scoring = 'roc_auc', n_jobs=-1)\n",
    "model.fit(X_train, y_train)\n",
    "\n",
    "#Predict Output\n",
    "predicted= model.predict(X_test)\n",
    "\n",
    "model_score = round(model.score(X_train, y_train) * 100, 2)\n",
    "model_score_test = round(model.score(X_test, y_test) * 100, 2)\n",
    "print('Score: \\n', model_score)\n",
    "print('Test Score: \\n', model_score_test)\n",
    "print('Accuracy: \\n', accuracy_score(y_test,predicted))\n",
    "print(confusion_matrix(predicted,y_test))\n",
    "print(classification_report(y_test,predicted))"
   ]
  },
  {
   "cell_type": "code",
   "execution_count": 103,
   "metadata": {
    "hidden": true
   },
   "outputs": [
    {
     "data": {
      "text/plain": [
       "XGBClassifier(base_score=0.5, booster='gbtree', colsample_bylevel=1,\n",
       "              colsample_bynode=1, colsample_bytree=1, gamma=0, gpu_id=-1,\n",
       "              importance_type='gain', interaction_constraints='',\n",
       "              learning_rate=0.01, max_delta_step=0, max_depth=5,\n",
       "              min_child_weight=1, missing=nan, monotone_constraints='()',\n",
       "              n_estimators=100, n_jobs=0, num_parallel_tree=1, random_state=0,\n",
       "              reg_alpha=0, reg_lambda=0.1, scale_pos_weight=1, subsample=1,\n",
       "              tree_method='exact', validate_parameters=1, verbosity=None)"
      ]
     },
     "execution_count": 103,
     "metadata": {},
     "output_type": "execute_result"
    }
   ],
   "source": [
    "model.best_estimator_"
   ]
  },
  {
   "cell_type": "code",
   "execution_count": 162,
   "metadata": {
    "hidden": true
   },
   "outputs": [],
   "source": [
    "y_train_pred = model.predict(X_train)"
   ]
  },
  {
   "cell_type": "code",
   "execution_count": 163,
   "metadata": {
    "hidden": true
   },
   "outputs": [],
   "source": [
    "y_pred = model.predict(X_test)"
   ]
  },
  {
   "cell_type": "code",
   "execution_count": 164,
   "metadata": {
    "hidden": true
   },
   "outputs": [],
   "source": [
    "y_pred_proba = model.predict_proba(X_test)[:,1]"
   ]
  },
  {
   "cell_type": "code",
   "execution_count": 165,
   "metadata": {
    "hidden": true
   },
   "outputs": [
    {
     "data": {
      "text/plain": [
       "array([0.32687088, 0.69624635, 0.17721446, 0.25707013, 0.24145288,\n",
       "       0.20836388, 0.73553066, 0.78400433, 0.77810519, 0.22796146])"
      ]
     },
     "execution_count": 165,
     "metadata": {},
     "output_type": "execute_result"
    }
   ],
   "source": [
    "# Display first 10 predictions\n",
    "y_pred_proba[:10]"
   ]
  },
  {
   "cell_type": "raw",
   "metadata": {
    "hidden": true
   },
   "source": [
    "Note: Just as above we can use these probabilities to get model interpretation"
   ]
  },
  {
   "cell_type": "code",
   "execution_count": 166,
   "metadata": {
    "hidden": true
   },
   "outputs": [
    {
     "data": {
      "text/plain": [
       "array([[9026,    0],\n",
       "       [   7, 8894]], dtype=int64)"
      ]
     },
     "execution_count": 166,
     "metadata": {},
     "output_type": "execute_result"
    }
   ],
   "source": [
    "confusion_matrix(y_test, y_pred).T"
   ]
  },
  {
   "cell_type": "code",
   "execution_count": 167,
   "metadata": {
    "hidden": true
   },
   "outputs": [],
   "source": [
    "# Calculate ROC curve from y_test and pred\n",
    "fpr, tpr, thresholds = roc_curve(y_test, y_pred_proba)"
   ]
  },
  {
   "cell_type": "code",
   "execution_count": 168,
   "metadata": {
    "hidden": true
   },
   "outputs": [
    {
     "data": {
      "image/png": "[encoded data removed]",
      "text/plain": [
       "<Figure size 576x576 with 1 Axes>"
      ]
     },
     "metadata": {
      "needs_background": "light"
     },
     "output_type": "display_data"
    }
   ],
   "source": [
    "# Plot the ROC curve\n",
    "fig = plt.figure(figsize=(8,8))\n",
    "plt.title('Receiver Operating Characteristic')\n",
    "\n",
    "# Plot ROC curve\n",
    "plt.plot(fpr, tpr, label='l1')\n",
    "plt.legend(loc='lower right')\n",
    "\n",
    "# Diagonal 45 degree line\n",
    "plt.plot([0,1],[0,1],'k--')\n",
    "\n",
    "# Axes limits and labels\n",
    "plt.xlim([-0.1,1.1])\n",
    "plt.ylim([-0.1,1.1])\n",
    "plt.ylabel('True Positive Rate')\n",
    "plt.xlabel('False Positive Rate')\n",
    "plt.show()"
   ]
  },
  {
   "cell_type": "code",
   "execution_count": 169,
   "metadata": {
    "hidden": true
   },
   "outputs": [
    {
     "data": {
      "text/plain": [
       "0.9997669866716375"
      ]
     },
     "execution_count": 169,
     "metadata": {},
     "output_type": "execute_result"
    }
   ],
   "source": [
    "# Calculate AUC for Train\n",
    "roc_auc_score(y_train, y_train_pred)"
   ]
  },
  {
   "cell_type": "code",
   "execution_count": 170,
   "metadata": {
    "hidden": true
   },
   "outputs": [
    {
     "name": "stdout",
     "output_type": "stream",
     "text": [
      "1.0\n"
     ]
    }
   ],
   "source": [
    "# Calculate AUC for Test\n",
    "print(auc(fpr, tpr))"
   ]
  },
  {
   "cell_type": "code",
   "execution_count": 171,
   "metadata": {
    "hidden": true
   },
   "outputs": [
    {
     "data": {
      "text/plain": [
       "XGBClassifier(base_score=0.5, booster='gbtree', colsample_bylevel=1,\n",
       "              colsample_bynode=1, colsample_bytree=1, gamma=0, gpu_id=-1,\n",
       "              importance_type='gain', interaction_constraints='',\n",
       "              learning_rate=0.05, max_delta_step=0, max_depth=2,\n",
       "              min_child_weight=1, missing=nan, monotone_constraints='()',\n",
       "              n_estimators=500, n_jobs=0, num_parallel_tree=1, random_state=0,\n",
       "              reg_alpha=0, reg_lambda=1, scale_pos_weight=1, subsample=1,\n",
       "              tree_method='exact', validate_parameters=1, verbosity=None)"
      ]
     },
     "execution_count": 171,
     "metadata": {},
     "output_type": "execute_result"
    }
   ],
   "source": [
    "model = XGBClassifier(max_depth=2,learning_rate=0.05,n_estimators=500, reg_lambda=1)\n",
    "model.fit(X_train, y_train)"
   ]
  },
  {
   "cell_type": "code",
   "execution_count": 172,
   "metadata": {
    "hidden": true
   },
   "outputs": [],
   "source": [
    "def my_plot_importance(booster, figsize, **kwargs): \n",
    "    from matplotlib import pyplot as plt\n",
    "    from xgboost import plot_importance\n",
    "    fig, ax = plt.subplots(1,1,figsize=figsize)\n",
    "    return plot_importance(booster=booster, ax=ax, **kwargs)"
   ]
  },
  {
   "cell_type": "code",
   "execution_count": 173,
   "metadata": {
    "hidden": true
   },
   "outputs": [
    {
     "data": {
      "text/plain": [
       "<matplotlib.axes._subplots.AxesSubplot at 0x2579e626310>"
      ]
     },
     "execution_count": 173,
     "metadata": {},
     "output_type": "execute_result"
    },
    {
     "data": {
      "image/png": "[encoded data removed]",
      "text/plain": [
       "<Figure size 720x720 with 1 Axes>"
      ]
     },
     "metadata": {
      "needs_background": "light"
     },
     "output_type": "display_data"
    }
   ],
   "source": [
    "my_plot_importance(model, (10,10))"
   ]
  },
  {
   "cell_type": "markdown",
   "metadata": {
    "heading_collapsed": true
   },
   "source": [
    "# Model-4 KNN"
   ]
  },
  {
   "cell_type": "code",
   "execution_count": 174,
   "metadata": {
    "hidden": true
   },
   "outputs": [
    {
     "name": "stdout",
     "output_type": "stream",
     "text": [
      "\n",
      "The optimal number of neighbors is 19.\n",
      "Score: \n",
      " 100.0\n",
      "Test Score: \n",
      " 100.0\n",
      "Accuracy: \n",
      " 1.0\n",
      "[[9033    0]\n",
      " [   0 8894]]\n",
      "              precision    recall  f1-score   support\n",
      "\n",
      "           0       1.00      1.00      1.00      9033\n",
      "           1       1.00      1.00      1.00      8894\n",
      "\n",
      "    accuracy                           1.00     17927\n",
      "   macro avg       1.00      1.00      1.00     17927\n",
      "weighted avg       1.00      1.00      1.00     17927\n",
      "\n"
     ]
    }
   ],
   "source": [
    "# creating odd list of K for KNN\n",
    "neighbors = list(range(1,20,2))\n",
    "# empty list that will hold cv scores\n",
    "cv_scores = []\n",
    "\n",
    "#  10-fold cross validation , 9 datapoints will be considered for training and 1 for cross validation (turn by turn) to determine value of k\n",
    "for k in neighbors:\n",
    "    knn = KNeighborsClassifier(n_neighbors=k)\n",
    "    scores = cross_val_score(knn, X_train, y_train, cv=5, scoring='accuracy')\n",
    "    cv_scores.append(scores.mean())   \n",
    "\n",
    "# changing to misclassification error\n",
    "MSE = [1 - x for x in cv_scores]\n",
    "\n",
    "# determining best k\n",
    "optimal_k = neighbors[MSE.index(min(MSE))]\n",
    "print('\\nThe optimal number of neighbors is %d.' % optimal_k)\n",
    "\n",
    "#Predict Output\n",
    "predicted= model.predict(X_test)\n",
    "\n",
    "model_score = round(model.score(X_train, y_train) * 100, 2)\n",
    "model_score_test = round(model.score(X_test, y_test) * 100, 2)\n",
    "print('Score: \\n', model_score)\n",
    "print('Test Score: \\n', model_score_test)\n",
    "print('Accuracy: \\n', accuracy_score(y_test,predicted))\n",
    "print(confusion_matrix(predicted,y_test))\n",
    "print(classification_report(y_test,predicted))"
   ]
  },
  {
   "cell_type": "code",
   "execution_count": 175,
   "metadata": {
    "hidden": true
   },
   "outputs": [
    {
     "data": {
      "text/plain": [
       "9"
      ]
     },
     "execution_count": 175,
     "metadata": {},
     "output_type": "execute_result"
    }
   ],
   "source": [
    "MSE.index(min(MSE))"
   ]
  },
  {
   "cell_type": "code",
   "execution_count": 176,
   "metadata": {
    "hidden": true
   },
   "outputs": [
    {
     "data": {
      "image/png": "[encoded data removed]",
      "text/plain": [
       "<Figure size 432x288 with 1 Axes>"
      ]
     },
     "metadata": {
      "needs_background": "light"
     },
     "output_type": "display_data"
    }
   ],
   "source": [
    "# plot misclassification error vs k \n",
    "plt.plot(neighbors, MSE)\n",
    "plt.xlabel('Number of Neighbors K')\n",
    "plt.ylabel('Misclassification Error')\n",
    "plt.show()"
   ]
  },
  {
   "cell_type": "code",
   "execution_count": 177,
   "metadata": {
    "hidden": true
   },
   "outputs": [
    {
     "data": {
      "text/plain": [
       "KNeighborsClassifier(n_neighbors=19)"
      ]
     },
     "execution_count": 177,
     "metadata": {},
     "output_type": "execute_result"
    }
   ],
   "source": [
    "classifier = KNeighborsClassifier(n_neighbors = optimal_k)\n",
    "classifier.fit(X_train, y_train)"
   ]
  },
  {
   "cell_type": "code",
   "execution_count": 178,
   "metadata": {
    "hidden": true
   },
   "outputs": [],
   "source": [
    "y_pred = classifier.predict(X_test)"
   ]
  },
  {
   "cell_type": "code",
   "execution_count": 179,
   "metadata": {
    "hidden": true
   },
   "outputs": [],
   "source": [
    "y_train_pred = classifier.predict(X_train)"
   ]
  },
  {
   "cell_type": "code",
   "execution_count": 181,
   "metadata": {
    "hidden": true
   },
   "outputs": [
    {
     "data": {
      "text/plain": [
       "99.65973113181235"
      ]
     },
     "execution_count": 181,
     "metadata": {},
     "output_type": "execute_result"
    }
   ],
   "source": [
    "acc = accuracy_score(y_test, y_pred, normalize=True) * float(100)  ## get the accuracy on testing data\n",
    "acc"
   ]
  },
  {
   "cell_type": "code",
   "execution_count": 182,
   "metadata": {
    "hidden": true
   },
   "outputs": [
    {
     "data": {
      "text/plain": [
       "array([[8991,   19],\n",
       "       [  42, 8875]], dtype=int64)"
      ]
     },
     "execution_count": 182,
     "metadata": {},
     "output_type": "execute_result"
    }
   ],
   "source": [
    "cnf=confusion_matrix(y_test,y_pred).T\n",
    "cnf"
   ]
  },
  {
   "cell_type": "code",
   "execution_count": 183,
   "metadata": {
    "hidden": true
   },
   "outputs": [],
   "source": [
    "# Get just the prediction for the positive class (1)\n",
    "y_pred_proba = classifier.predict_proba(X_test)[:,1]"
   ]
  },
  {
   "cell_type": "code",
   "execution_count": 184,
   "metadata": {
    "hidden": true
   },
   "outputs": [
    {
     "data": {
      "text/plain": [
       "array([0.26315789, 0.78947368, 0.        , 0.        , 0.        ,\n",
       "       0.        , 0.63157895, 1.        , 0.94736842, 0.        ])"
      ]
     },
     "execution_count": 184,
     "metadata": {},
     "output_type": "execute_result"
    }
   ],
   "source": [
    "# Display first 10 predictions\n",
    "y_pred_proba[:10]"
   ]
  },
  {
   "cell_type": "code",
   "execution_count": 185,
   "metadata": {
    "hidden": true
   },
   "outputs": [],
   "source": [
    "# Calculate ROC curve from y_test and pred\n",
    "fpr, tpr, thresholds = roc_curve(y_test, y_pred_proba)"
   ]
  },
  {
   "cell_type": "code",
   "execution_count": 186,
   "metadata": {
    "hidden": true
   },
   "outputs": [
    {
     "data": {
      "image/png": "[encoded data removed]",
      "text/plain": [
       "<Figure size 576x576 with 1 Axes>"
      ]
     },
     "metadata": {
      "needs_background": "light"
     },
     "output_type": "display_data"
    }
   ],
   "source": [
    "# Plot the ROC curve\n",
    "fig = plt.figure(figsize=(8,8))\n",
    "plt.title('Receiver Operating Characteristic')\n",
    "\n",
    "# Plot ROC curve\n",
    "plt.plot(fpr, tpr, label='l1')\n",
    "plt.legend(loc='lower right')\n",
    "\n",
    "# Diagonal 45 degree line\n",
    "plt.plot([0,1],[0,1],'k--')\n",
    "\n",
    "# Axes limits and labels\n",
    "plt.xlim([-0.1,1.1])\n",
    "plt.ylim([-0.1,1.1])\n",
    "plt.ylabel('True Positive Rate')\n",
    "plt.xlabel('False Positive Rate')\n",
    "plt.show()"
   ]
  },
  {
   "cell_type": "code",
   "execution_count": 187,
   "metadata": {
    "hidden": true
   },
   "outputs": [
    {
     "data": {
      "text/plain": [
       "0.9974764904777798"
      ]
     },
     "execution_count": 187,
     "metadata": {},
     "output_type": "execute_result"
    }
   ],
   "source": [
    "# Calculate AUC for Train\n",
    "roc_auc_score(y_train, y_train_pred)"
   ]
  },
  {
   "cell_type": "code",
   "execution_count": 188,
   "metadata": {
    "hidden": true
   },
   "outputs": [
    {
     "name": "stdout",
     "output_type": "stream",
     "text": [
      "0.9999284971918297\n"
     ]
    }
   ],
   "source": [
    "# Calculate AUC for Test\n",
    "print(auc(fpr, tpr))"
   ]
  },
  {
   "cell_type": "markdown",
   "metadata": {
    "heading_collapsed": true
   },
   "source": [
    "# Model-5 Descision Trees"
   ]
  },
  {
   "cell_type": "code",
   "execution_count": 189,
   "metadata": {
    "hidden": true
   },
   "outputs": [
    {
     "name": "stdout",
     "output_type": "stream",
     "text": [
      "Score: \n",
      " 100.0\n",
      "Test Score: \n",
      " 100.0\n",
      "Accuracy: \n",
      " 1.0\n",
      "[[9033    0]\n",
      " [   0 8894]]\n",
      "              precision    recall  f1-score   support\n",
      "\n",
      "           0       1.00      1.00      1.00      9033\n",
      "           1       1.00      1.00      1.00      8894\n",
      "\n",
      "    accuracy                           1.00     17927\n",
      "   macro avg       1.00      1.00      1.00     17927\n",
      "weighted avg       1.00      1.00      1.00     17927\n",
      "\n"
     ]
    }
   ],
   "source": [
    "tuned_params = {'min_samples_split': [2, 3, 4, 5, 7], 'min_samples_leaf': [1, 2, 3, 4, 6], 'max_depth': [2, 3, 4, 5, 6, 7]}\n",
    "model = RandomizedSearchCV(DecisionTreeClassifier(), tuned_params, n_iter=15, scoring = 'roc_auc', n_jobs=-1)\n",
    "model.fit(X_train, y_train)\n",
    "\n",
    "#Predict Output\n",
    "predicted= model.predict(X_test)\n",
    "\n",
    "model_score = round(model.score(X_train, y_train) * 100, 2)\n",
    "model_score_test = round(model.score(X_test, y_test) * 100, 2)\n",
    "print('Score: \\n', model_score)\n",
    "print('Test Score: \\n', model_score_test)\n",
    "print('Accuracy: \\n', accuracy_score(y_test,predicted))\n",
    "print(confusion_matrix(predicted,y_test))\n",
    "print(classification_report(y_test,predicted))"
   ]
  },
  {
   "cell_type": "code",
   "execution_count": 190,
   "metadata": {
    "hidden": true
   },
   "outputs": [
    {
     "data": {
      "text/plain": [
       "DecisionTreeClassifier(max_depth=2, min_samples_leaf=4)"
      ]
     },
     "execution_count": 190,
     "metadata": {},
     "output_type": "execute_result"
    }
   ],
   "source": [
    "model.best_estimator_"
   ]
  },
  {
   "cell_type": "code",
   "execution_count": 191,
   "metadata": {
    "hidden": true
   },
   "outputs": [],
   "source": [
    "y_train_pred = model.predict(X_train)"
   ]
  },
  {
   "cell_type": "code",
   "execution_count": 192,
   "metadata": {
    "hidden": true
   },
   "outputs": [],
   "source": [
    "y_pred = model.predict(X_test)"
   ]
  },
  {
   "cell_type": "code",
   "execution_count": 193,
   "metadata": {
    "hidden": true
   },
   "outputs": [],
   "source": [
    "y_pred_proba = model.predict_proba(X_test)[:,1]"
   ]
  },
  {
   "cell_type": "code",
   "execution_count": 194,
   "metadata": {
    "hidden": true
   },
   "outputs": [
    {
     "data": {
      "text/plain": [
       "array([0., 1., 0., 0., 0., 0., 1., 1., 1., 0.])"
      ]
     },
     "execution_count": 194,
     "metadata": {},
     "output_type": "execute_result"
    }
   ],
   "source": [
    "y_pred_proba[:10]"
   ]
  },
  {
   "cell_type": "code",
   "execution_count": 195,
   "metadata": {
    "hidden": true
   },
   "outputs": [
    {
     "data": {
      "text/plain": [
       "array([[9033,    0],\n",
       "       [   0, 8894]], dtype=int64)"
      ]
     },
     "execution_count": 195,
     "metadata": {},
     "output_type": "execute_result"
    }
   ],
   "source": [
    "confusion_matrix(y_test, y_pred).T"
   ]
  },
  {
   "cell_type": "code",
   "execution_count": 196,
   "metadata": {
    "hidden": true
   },
   "outputs": [
    {
     "data": {
      "text/plain": [
       "array([[9033,    0],\n",
       "       [   0, 8894]], dtype=int64)"
      ]
     },
     "execution_count": 196,
     "metadata": {},
     "output_type": "execute_result"
    }
   ],
   "source": [
    "confusion_matrix(y_test, y_pred).T"
   ]
  },
  {
   "cell_type": "code",
   "execution_count": 197,
   "metadata": {
    "hidden": true
   },
   "outputs": [],
   "source": [
    "fpr, tpr, thresholds = roc_curve(y_test, y_pred_proba)"
   ]
  },
  {
   "cell_type": "code",
   "execution_count": 198,
   "metadata": {
    "hidden": true
   },
   "outputs": [
    {
     "data": {
      "image/png": "[encoded data removed]",
      "text/plain": [
       "<Figure size 576x576 with 1 Axes>"
      ]
     },
     "metadata": {
      "needs_background": "light"
     },
     "output_type": "display_data"
    }
   ],
   "source": [
    "# Plot the ROC curve\n",
    "fig = plt.figure(figsize=(8,8))\n",
    "plt.title('Receiver Operating Characteristic')\n",
    "\n",
    "# Plot ROC curve\n",
    "plt.plot(fpr, tpr, label='l1')\n",
    "plt.legend(loc='lower right')\n",
    "\n",
    "# Diagonal 45 degree line\n",
    "plt.plot([0,1],[0,1],'k--')\n",
    "\n",
    "# Axes limits and labels\n",
    "plt.xlim([-0.1,1.1])\n",
    "plt.ylim([-0.1,1.1])\n",
    "plt.ylabel('True Positive Rate')\n",
    "plt.xlabel('False Positive Rate')\n",
    "plt.show()"
   ]
  },
  {
   "cell_type": "code",
   "execution_count": 199,
   "metadata": {
    "hidden": true
   },
   "outputs": [
    {
     "data": {
      "text/plain": [
       "1.0"
      ]
     },
     "execution_count": 199,
     "metadata": {},
     "output_type": "execute_result"
    }
   ],
   "source": [
    "# Calculate AUC for Train\n",
    "roc_auc_score(y_train, y_train_pred)"
   ]
  },
  {
   "cell_type": "code",
   "execution_count": 200,
   "metadata": {
    "hidden": true
   },
   "outputs": [
    {
     "name": "stdout",
     "output_type": "stream",
     "text": [
      "1.0\n"
     ]
    }
   ],
   "source": [
    "print(auc(fpr, tpr))"
   ]
  },
  {
   "cell_type": "code",
   "execution_count": 201,
   "metadata": {
    "hidden": true
   },
   "outputs": [
    {
     "data": {
      "text/plain": [
       "DecisionTreeClassifier(max_depth=4, min_samples_leaf=6)"
      ]
     },
     "execution_count": 201,
     "metadata": {},
     "output_type": "execute_result"
    }
   ],
   "source": [
    "## Building the model again with the best hyperparameters\n",
    "model = DecisionTreeClassifier(min_samples_split=2, min_samples_leaf=6, max_depth=4)\n",
    "model.fit(X_train, y_train)\n"
   ]
  },
  {
   "cell_type": "code",
   "execution_count": 202,
   "metadata": {
    "hidden": true
   },
   "outputs": [
    {
     "data": {
      "text/plain": [
       "<matplotlib.axes._subplots.AxesSubplot at 0x2579eeaaf40>"
      ]
     },
     "execution_count": 202,
     "metadata": {},
     "output_type": "execute_result"
    },
    {
     "data": {
      "image/png": "[encoded data removed]",
      "text/plain": [
       "<Figure size 432x288 with 1 Axes>"
      ]
     },
     "metadata": {
      "needs_background": "light"
     },
     "output_type": "display_data"
    }
   ],
   "source": [
    "feat_importances = pd.Series(model.feature_importances_, index=df5.columns)\n",
    "feat_importances.nlargest(4).plot(kind='barh')"
   ]
  },
  {
   "cell_type": "code",
   "execution_count": 203,
   "metadata": {
    "hidden": true
   },
   "outputs": [
    {
     "name": "stdout",
     "output_type": "stream",
     "text": [
      "Feature: 0, Score: 0.45619\n",
      "Feature: 1, Score: 0.04764\n",
      "Feature: 2, Score: 0.08236\n",
      "Feature: 3, Score: 0.00109\n",
      "Feature: 4, Score: 0.39992\n",
      "Feature: 5, Score: 0.00118\n",
      "Feature: 6, Score: 0.00121\n",
      "Feature: 7, Score: 0.00145\n",
      "Feature: 8, Score: 0.00155\n",
      "Feature: 9, Score: 0.00112\n",
      "Feature: 10, Score: 0.00133\n",
      "Feature: 11, Score: 0.00161\n",
      "Feature: 12, Score: 0.00110\n",
      "Feature: 13, Score: 0.00125\n",
      "Feature: 14, Score: 0.00101\n"
     ]
    },
    {
     "data": {
      "image/png": "[encoded data removed]",
      "text/plain": [
       "<Figure size 432x288 with 1 Axes>"
      ]
     },
     "metadata": {
      "needs_background": "light"
     },
     "output_type": "display_data"
    }
   ],
   "source": [
    "from sklearn.datasets import make_regression\n",
    "from sklearn.tree import DecisionTreeRegressor\n",
    "from matplotlib import pyplot\n",
    "# define dataset\n",
    "X, y = make_regression(n_samples=10000, n_features=15, n_informative=5, random_state=1)\n",
    "# define the model\n",
    "model = DecisionTreeRegressor()\n",
    "# fit the model\n",
    "model.fit(X, y)\n",
    "# get importance\n",
    "importance = model.feature_importances_\n",
    "# summarize feature importance\n",
    "for i,v in enumerate(importance):\n",
    "\tprint('Feature: %0d, Score: %.5f' % (i,v))\n",
    "# plot feature importance\n",
    "pyplot.bar([x for x in range(len(importance))], importance)\n",
    "pyplot.show()"
   ]
  },
  {
   "cell_type": "code",
   "execution_count": null,
   "metadata": {
    "hidden": true
   },
   "outputs": [],
   "source": []
  }
 ],
 "metadata": {
  "kernelspec": {
   "display_name": "Python 3",
   "language": "python",
   "name": "python3"
  },
  "language_info": {
   "codemirror_mode": {
    "name": "ipython",
    "version": 3
   },
   "file_extension": ".py",
   "mimetype": "text/x-python",
   "name": "python",
   "nbconvert_exporter": "python",
   "pygments_lexer": "ipython3",
   "version": "3.8.3"
  },
  "toc": {
   "base_numbering": 1,
   "nav_menu": {},
   "number_sections": true,
   "sideBar": true,
   "skip_h1_title": false,
   "title_cell": "Table of Contents",
   "title_sidebar": "Contents",
   "toc_cell": false,
   "toc_position": {
    "height": "calc(100% - 180px)",
    "left": "10px",
    "top": "150px",
    "width": "332.5px"
   },
   "toc_section_display": true,
   "toc_window_display": true
  },
  "varInspector": {
   "cols": {
    "lenName": 16,
    "lenType": 16,
    "lenVar": 40
   },
   "kernels_config": {
    "python": {
     "delete_cmd_postfix": "",
     "delete_cmd_prefix": "del ",
     "library": "var_list.py",
     "varRefreshCmd": "print(var_dic_list())"
    },
    "r": {
     "delete_cmd_postfix": ") ",
     "delete_cmd_prefix": "rm(",
     "library": "var_list.r",
     "varRefreshCmd": "cat(var_dic_list()) "
    }
   },
   "position": {
    "height": "520.85px",
    "left": "1208.83px",
    "right": "20px",
    "top": "80px",
    "width": "349.167px"
   },
   "types_to_exclude": [
    "module",
    "function",
    "builtin_function_or_method",
    "instance",
    "_Feature"
   ],
   "window_display": false
  }
 },
 "nbformat": 4,
 "nbformat_minor": 4
}
